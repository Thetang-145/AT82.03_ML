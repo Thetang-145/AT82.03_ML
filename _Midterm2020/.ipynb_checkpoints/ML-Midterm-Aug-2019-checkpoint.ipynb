{
 "cells": [
  {
   "cell_type": "markdown",
   "metadata": {},
   "source": [
    "# Machine Learning Midterm Solution, Aug Semester, 2019\n",
    "\n",
    "In this exam, you will demonstrate your understanding of the material from the lectures, tutorials, and problem sets.\n",
    "\n",
    "For each question, insert your answer directly in this sheet. When complete, export the sheet as a PDF and upload to Gradescope.\n",
    "\n",
    "Note that you have **2.5 hours** to do the exam. Also note that there is at least one short answer question that you may be able to answer faster than the coding questions. You might consider answering those questions first to get as much credit as possible!\n",
    "\n",
    "## Question 1 (20 points)\n",
    "\n",
    "Suppose you enjoy running for exercise, have great data science skills, and would like to build tools to help runners train effectively. You would like to predict a runner's future performance based on his or her past performances, and perhaps come up with some analytics about his or her fitness (increasing, decreasing, etc.)\n",
    "\n",
    "Consider the training and testing data given in the cell below. The data are measurements of Matt's runs from mid June to mid September 2019. The $\\mathtt{X}$ data contain variables for pace, distance, average temperature, and the number of hours of rest since the last run. The $\\mathbf{y}$ data are the average heart rate in beats per minute over each run. These data come from Garmin and OpenWeatherMap.\n"
   ]
  },
  {
   "cell_type": "code",
   "execution_count": 1,
   "metadata": {},
   "outputs": [],
   "source": [
    "import numpy as np\n",
    "\n",
    "# Columns:\n",
    "# 0: average pace in minutes per kilometer\n",
    "# 1: distance in meters\n",
    "# 2: avg apparent temperature (Farenheight, includes humidity factor etc.)\n",
    "# 3: number of hours of rest since the last run\n",
    "\n",
    "Xtrain = np.array(\n",
    "      [[5.6041250e+00, 1.0386240e+04, 9.6480003e+01, 1.6693195e+02],\n",
    "       [4.5901036e+00, 3.3501699e+03, 9.0070000e+01, 1.4042222e+01],\n",
    "       [5.5853438e+00, 1.0589420e+04, 9.6894997e+01, 4.9480556e+01],\n",
    "       [8.4602365e+00, 5.2353198e+03, 9.2915001e+01, 4.8527222e+01],\n",
    "       [5.2759314e+00, 1.0260830e+04, 8.0415001e+01, 6.9376945e+01],\n",
    "       [5.0050054e+00, 1.0308060e+04, 7.8995003e+01, 7.2154442e+01],\n",
    "       [5.1679587e+00, 1.0297140e+04, 8.4269997e+01, 2.4243610e+01],\n",
    "       [5.5909653e+00, 1.6628650e+04, 9.5754997e+01, 5.8910278e+01],\n",
    "       [5.3112388e+00, 1.0397030e+04, 9.1875000e+01, 1.2679722e+01],\n",
    "       [5.0704794e+00, 1.0266610e+04, 8.7489998e+01, 4.8466110e+01],\n",
    "       [5.1297836e+00, 8.6998496e+03, 8.6510002e+01, 4.7598888e+01],\n",
    "       [5.8092251e+00, 2.1145150e+04, 9.6199997e+01, 5.9379166e+01],\n",
    "       [5.1203279e+00, 1.0201160e+04, 9.2875000e+01, 8.4886391e+01],\n",
    "       [5.1424460e+00, 1.0161310e+04, 8.9500000e+01, 2.3730000e+01],\n",
    "       [5.9502554e+00, 2.4152381e+04, 8.7389999e+01, 5.9973331e+01],\n",
    "       [5.4752522e+00, 1.2884080e+04, 9.2269997e+01, 3.6443890e+01],\n",
    "       [6.2727389e+00, 6.8037402e+03, 9.0209999e+01, 2.3653889e+01],\n",
    "       [5.6941118e+00, 1.6106010e+04, 8.7489998e+01, 2.4058611e+01],\n",
    "       [5.6941118e+00, 8.0607300e+03, 9.0735001e+01, 5.0604721e+01],\n",
    "       [5.1313629e+00, 1.4493960e+04, 9.4910004e+01, 2.3852777e+01],\n",
    "       [5.8397570e+00, 6.4594302e+03, 9.5209999e+01, 1.5108278e+02],\n",
    "       [6.0342746e+00, 2.1100061e+04, 9.2345001e+01, 1.9518888e+01],\n",
    "       [5.7790108e+00, 1.4495710e+04, 8.3410004e+01, 6.7106941e+01],\n",
    "       [5.4059896e+00, 1.6109050e+04, 8.6989998e+01, 2.4075834e+01],\n",
    "       [8.1819668e+00, 6.5416201e+03, 8.1650002e+01, 2.3606112e+01],\n",
    "       [5.6230321e+00, 8.0613101e+03, 9.4324997e+01, 2.5450277e+01],\n",
    "       [5.9101658e+00, 2.4156170e+04, 9.1650002e+01, 3.4091110e+01],\n",
    "       [5.1313629e+00, 1.4496380e+04, 8.9084999e+01, 3.6194443e+01],\n",
    "       [5.6650805e+00, 8.0576001e+03, 8.5985001e+01, 2.3728056e+01],\n",
    "       [5.7991180e+00, 1.6350690e+04, 8.9775002e+01, 4.7979168e+01],\n",
    "       [5.8234339e+00, 8.0631299e+03, 9.4845001e+01, 2.6273333e+01],\n",
    "       [5.7254095e+00, 2.5760990e+04, 9.6279999e+01, 3.4454166e+01],\n",
    "       [5.4324207e+00, 1.2948430e+04, 9.0654999e+01, 3.6110554e+01],\n",
    "       [5.7097182e+00, 8.0617100e+03, 8.5294998e+01, 2.3565277e+01],\n",
    "       [5.6727929e+00, 1.2387530e+04, 9.2535004e+01, 2.4852501e+01],\n",
    "       [5.4024849e+00, 8.1778799e+03, 8.8980003e+01, 4.7656387e+01],\n",
    "       [5.5242515e+00, 1.9322131e+04, 7.9985001e+01, 4.6826668e+01],\n",
    "       [5.1234756e+00, 1.6099910e+04, 8.3794998e+01, 2.4853611e+01],\n",
    "       [5.8418040e+00, 6.7139800e+03, 8.3955002e+01, 2.4078611e+01],\n",
    "       [5.5151114e+00, 1.7712240e+04, 8.5815002e+01, 2.3572500e+01]])\n",
    "\n",
    "# Outcome: average heart rate, in beats per minute\n",
    "\n",
    "ytrain = np.array([[150., 146., 148., 152., 147., 152., 151., 144., 149., 146., 144.,\n",
    "       141., 151., 150., 140., 147., 133., 144., 129., 154., 146., 141.,\n",
    "       155., 151., 111., 138., 141., 151., 134., 150., 134., 150., 149.,\n",
    "       134., 140., 137., 141., 150., 129., 143.]])\n",
    "\n",
    "Xtest = np.array([[5.6516337e+00, 1.1277530e+04, 9.4644997e+01, 5.3126389e+01],\n",
    "       [5.9737158e+00, 2.8977260e+04, 9.4230003e+01, 2.0872499e+01],\n",
    "       [5.4094992e+00, 1.1285160e+04, 7.9794998e+01, 4.6364723e+01],\n",
    "       [5.3885121e+00, 1.9334391e+04, 8.2080002e+01, 2.2815277e+01],\n",
    "       [4.9500046e+00, 1.6110120e+04, 8.3410004e+01, 4.8843613e+01],\n",
    "       [5.9269800e+00, 8.0592202e+03, 9.9250000e+01, 2.7060556e+01],\n",
    "       [6.0496063e+00, 3.2190711e+04, 9.3800003e+01, 2.4073334e+01],\n",
    "       [6.6427526e+00, 9.8029502e+03, 8.5150002e+01, 4.4903057e+01],\n",
    "       [5.4112554e+00, 1.0247100e+04, 8.1955002e+01, 2.4426390e+01],\n",
    "       [5.5853438e+00, 2.2543590e+04, 8.4849998e+01, 2.3573610e+01],\n",
    "       [4.0709982e+00, 2.5134600e+03, 9.4324997e+01, 2.7191111e+01],\n",
    "       [5.9038849e+00, 9.6685303e+03, 8.8099998e+01, 2.3758333e+01],\n",
    "       [5.5315852e+00, 1.9787490e+04, 9.7684998e+01, 3.3159168e+01],\n",
    "       [5.1062093e+00, 1.2883740e+04, 7.9375000e+01, 5.9931667e+01],\n",
    "       [6.1591525e+00, 9.6694502e+03, 8.2260002e+01, 2.4936388e+01],\n",
    "       [5.4914880e+00, 1.2887790e+04, 9.7154999e+01, 5.1264168e+01]])\n",
    "\n",
    "ytest = np.array([[134., 144., 145., 142., 153., 130., 139., 122., 141., 140., 129.,\n",
    "       129., 142., 143., 122., 141.]])\n"
   ]
  },
  {
   "cell_type": "markdown",
   "metadata": {},
   "source": [
    "(Q1 continued) **Do the following:**\n",
    "\n",
    "1. **Build a linear regresion model for the training data. Give the optimal parameter vector $\\mathbf{\\theta}$ below:**"
   ]
  },
  {
   "cell_type": "code",
   "execution_count": 2,
   "metadata": {},
   "outputs": [
    {
     "name": "stdout",
     "output_type": "stream",
     "text": [
      "[[ 1.47941323e+02]\n",
      " [-5.41671644e+00]\n",
      " [ 3.19000792e-04]\n",
      " [ 2.18578976e-01]\n",
      " [ 6.18725326e-02]]\n"
     ]
    }
   ],
   "source": []
  },
  {
   "cell_type": "markdown",
   "metadata": {},
   "source": [
    "2. **Plot predicted heart rate against actual heart rate for the training set and the test set using these parameters.**"
   ]
  },
  {
   "cell_type": "code",
   "execution_count": 3,
   "metadata": {},
   "outputs": [
    {
     "data": {
      "text/plain": [
       "Text(140, 110, 'RMSE: 9.448')"
      ]
     },
     "execution_count": 3,
     "metadata": {},
     "output_type": "execute_result"
    },
    {
     "data": {
      "image/png": "[encoded data removed]",
      "text/plain": [
       "<Figure size 1152x360 with 2 Axes>"
      ]
     },
     "metadata": {
      "needs_background": "light"
     },
     "output_type": "display_data"
    }
   ],
   "source": [
    "import matplotlib\n",
    "import matplotlib.pyplot as plt\n",
    "matplotlib.rcParams['figure.figsize'] = [16, 5]\n",
    "\n",
    "yhat = X @ theta\n",
    "\n",
    "m2 = Xtest.shape[0]\n",
    "X2 = np.concatenate((np.ones((m2,1)), Xtest), 1)\n",
    "y2 = ytest.T\n",
    "yhat2 = X2 @ theta\n",
    "\n",
    "rmse = np.sqrt((yhat - y).T @ (yhat - y) / m)\n",
    "rmse2 = np.sqrt((yhat2 - y2).T @ (yhat2 - y2) / m2)\n",
    "\n",
    "fig, (ax1, ax2) = plt.subplots(1, 2)\n",
    "miny = 100\n",
    "maxy = 160\n",
    "\n",
    "ax1.plot(y, yhat, 'ro')\n",
    "ax1.plot([miny, maxy],[miny, maxy], 'k-')\n",
    "ax1.set_xlim([miny, maxy])\n",
    "ax1.set_xlabel('Actual')\n",
    "ax1.set_ylabel('Predicted')\n",
    "ax1.axis('equal')\n",
    "ax1.set_title('Training set predictions')\n",
    "ax1.text(140, 110, 'RMSE: %.3f' % rmse, fontsize=12)\n",
    "\n",
    "ax2.plot(y2, yhat2, 'ro')\n",
    "ax2.plot([miny, maxy],[miny, maxy], 'k-')\n",
    "ax2.set_xlim([miny, maxy])\n",
    "ax2.set_xlabel('Actual')\n",
    "ax2.axis('equal')\n",
    "ax2.set_title('Test set predictions')\n",
    "ax2.text(140, 110, 'RMSE: %.3f' % rmse2, fontsize=12)\n"
   ]
  },
  {
   "cell_type": "markdown",
   "metadata": {},
   "source": [
    "## Question 2 (20 points)\n",
    "\n",
    "As it turns out, there is one outlier in the training data, when Matt's heart rate monitor was not fixed correctly against the skin, resulting in a strange average heart rate.\n",
    "\n",
    "**Do the following:**\n",
    "\n",
    "1. **Plot pace (column 0) against heart rate ($\\textbf{y}$) for the training data.**"
   ]
  },
  {
   "cell_type": "code",
   "execution_count": 4,
   "metadata": {},
   "outputs": [
    {
     "data": {
      "text/plain": [
       "Text(0, 0.5, 'Average heart rate')"
      ]
     },
     "execution_count": 4,
     "metadata": {},
     "output_type": "execute_result"
    },
    {
     "data": {
      "image/png": "[encoded data removed]",
      "text/plain": [
       "<Figure size 576x360 with 1 Axes>"
      ]
     },
     "metadata": {
      "needs_background": "light"
     },
     "output_type": "display_data"
    }
   ],
   "source": [
    "\n",
    "plt.figure(figsize=(8, 5))\n",
    "plt.plot(Xtrain[:,0], ytrain.T, 'ro')\n",
    "plt.xlabel('Pace (min/km)')\n",
    "plt.ylabel('Average heart rate')\n"
   ]
  },
  {
   "cell_type": "markdown",
   "metadata": {},
   "source": [
    "2. **Give the outlier point's data here and explain why it does not seem to be consistent with the other data.**"
   ]
  },
  {
   "cell_type": "markdown",
   "metadata": {},
   "source": [
    "The outlier point is the one in the upper right corner of the previous plot. The pace is very slow, so the heart rate should be correspondingly low (like the other point in the lower right corner of the plot) but it is not. The actual data point is the fourth row of Xtest and fourth element of ytest:\n",
    "\n",
    "$$\\textbf{x} = \\begin{bmatrix} 8.46 & 5235 & 92.9 & 48.5 \\end{bmatrix}^T, \\; \\; y = 152$$"
   ]
  },
  {
   "cell_type": "markdown",
   "metadata": {},
   "source": [
    "3. **Build a new regression model without this point, and make a new plot of predicted versus actual heart rate for the training set and test set using the new parameters.**"
   ]
  },
  {
   "cell_type": "code",
   "execution_count": 5,
   "metadata": {},
   "outputs": [
    {
     "name": "stdout",
     "output_type": "stream",
     "text": [
      "[[ 1.94717362e+02]\n",
      " [-1.18951841e+01]\n",
      " [ 5.31371438e-04]\n",
      " [ 6.17633760e-02]\n",
      " [ 6.32548836e-02]]\n"
     ]
    },
    {
     "data": {
      "text/plain": [
       "Text(140, 110, 'RMSE: 8.943')"
      ]
     },
     "execution_count": 5,
     "metadata": {},
     "output_type": "execute_result"
    },
    {
     "data": {
      "image/png": "[encoded data removed]",
      "text/plain": [
       "<Figure size 1152x360 with 2 Axes>"
      ]
     },
     "metadata": {
      "needs_background": "light"
     },
     "output_type": "display_data"
    }
   ],
   "source": [
    "X_clean = np.concatenate([X[0:3,:], X[4:,:]], 0)\n",
    "y_clean = np.concatenate([y[0:3,:], y[4:,:]], 0)\n",
    "\n",
    "theta_clean = np.linalg.inv(X_clean.T @ X_clean) @ X_clean.T @ y_clean\n",
    "print(theta_clean)\n",
    "\n",
    "yhat_clean = X_clean @ theta_clean\n",
    "yhat2_clean = X2 @ theta_clean\n",
    "\n",
    "m_clean = X_clean.shape[0]\n",
    "rmse_clean = np.sqrt((yhat_clean - y_clean).T @ (yhat_clean - y_clean) / m_clean)\n",
    "rmse2_clean = np.sqrt((yhat2_clean - y2).T @ (yhat2_clean - y2) / m2)\n",
    "\n",
    "fig, (ax1, ax2) = plt.subplots(1, 2)\n",
    "miny = 100\n",
    "maxy = 160\n",
    "\n",
    "ax1.plot(y_clean, yhat_clean, 'ro')\n",
    "ax1.plot([miny, maxy],[miny, maxy], 'k-')\n",
    "ax1.set_xlim([miny, maxy])\n",
    "ax1.set_xlabel('Actual')\n",
    "ax1.set_ylabel('Predicted')\n",
    "ax1.axis('equal')\n",
    "ax1.set_title('Training set predictions')\n",
    "ax1.text(140, 110, 'RMSE: %.3f' % rmse_clean, fontsize=12)\n",
    "\n",
    "ax2.plot(y2, yhat2_clean, 'ro')\n",
    "ax2.plot([miny, maxy],[miny, maxy], 'k-')\n",
    "ax2.set_xlim([miny, maxy])\n",
    "ax2.set_xlabel('Actual')\n",
    "ax2.axis('equal')\n",
    "ax2.set_title('Test set predictions')\n",
    "ax2.text(140, 110, 'RMSE: %.3f' % rmse2_clean, fontsize=12)\n"
   ]
  },
  {
   "cell_type": "markdown",
   "metadata": {},
   "source": [
    "4. **Briefly discuss whether the result based on the \"cleaned\" dataset is better than the result on the original data set.**"
   ]
  },
  {
   "cell_type": "markdown",
   "metadata": {},
   "source": [
    "The model based on the cleaned dataset is much better.\n",
    "\n",
    "The original parameter estimate had a positive value for $\\theta_1$, which says that as minutes per kilometer gets bigger (pace is slower), heart rate increases, which is counterintuitive.\n",
    "\n",
    "The new parameter estimate has a negative value for the variable, as we would expect. The value of -11.9 says that if we speed up by one minute per kilometer, heart rate will increase by 12 beats per minute, which seems reasonable.\n",
    "\n",
    "The RMSE on the training set decreased substantially, from 7.0 to 4.6. The test set RMSE also improved albeit not as much, from 9.4 to 8.9. We see that on the test set, the predictions seem to be higher than the actual rates."
   ]
  },
  {
   "cell_type": "markdown",
   "metadata": {},
   "source": [
    "## Question 3 (20 points)\n",
    "\n",
    "Actually, the data in Questions 1 and 2 are not quite independent of each other, as they form a sequence. Performance in a sport improves with training over time.\n",
    "\n",
    "Perhaps we can model the effect of training on performance by adding a new variable to the data set that is the number of days since the training began.\n",
    "\n",
    "Create a new variable indicating the number of days that have passed since training began. Let's name this variable $x_5$, and let $x_4$ be the \"hours of rest since the last run\" variable (last column in the $\\texttt{X}$ data set). Let $x_5^{(0)} = 0$, and let\n",
    "\n",
    "$$x_5^{(i)} = \\frac{1}{24}\\sum_{j=1}^{i-1} x_4^{(i)}.$$ \n",
    "\n",
    "You can calculate this more easily using the recurrence\n",
    "\n",
    "$$x_5^{(i)} = x_5^{(i-1)} + \\frac{1}{24}x_4^{(i)}.$$ \n",
    "\n",
    "**Do the following:**\n",
    "\n",
    "1. **Add the new variable $x_5$ to your test and training datasets. Note that the test data are just a continuation of the series from the training data, so $x_5$ for the first entry in the test set should be $x_5$ for the last entry in the training set plus the number of rest hours for the first entry in the test set divided by 24.**\n",
    "\n",
    "2. **Build a new regression model using the augmented data set, give the optimal parameters $\\mathbf{\\theta}$ here, and show the scatter plot of predicted versus actual outcomes for the training set and test set.**"
   ]
  },
  {
   "cell_type": "code",
   "execution_count": 6,
   "metadata": {},
   "outputs": [
    {
     "name": "stdout",
     "output_type": "stream",
     "text": [
      "[[ 1.95861589e+02]\n",
      " [-1.14127854e+01]\n",
      " [ 5.67831939e-04]\n",
      " [ 3.74071805e-02]\n",
      " [ 5.44479593e-02]\n",
      " [-4.97604330e-02]]\n"
     ]
    },
    {
     "data": {
      "text/plain": [
       "Text(140, 110, 'RMSE: 7.401')"
      ]
     },
     "execution_count": 6,
     "metadata": {},
     "output_type": "execute_result"
    },
    {
     "data": {
      "image/png": "[encoded data removed]",
      "text/plain": [
       "<Figure size 1152x360 with 2 Axes>"
      ]
     },
     "metadata": {
      "needs_background": "light"
     },
     "output_type": "display_data"
    }
   ],
   "source": [
    "\n",
    "# Add the variable\n",
    "\n",
    "XX = np.concatenate((X_clean, np.zeros((m_clean, 1))), 1)\n",
    "for i in range(1,m_clean):\n",
    "    XX[i,5] = XX[i-1,5] + 1/24 * XX[i,4]\n",
    "\n",
    "XX2 = np.concatenate((X2, np.zeros((m2, 1))), 1)\n",
    "XX2[0,5] = XX[m_clean-1,5] + 1/24 * XX2[0,4]\n",
    "for i in range(1,m2):\n",
    "    XX2[i,5] = XX2[i-1,5] + 1/24 * XX2[i,4]\n",
    "\n",
    "# Redo the regression analysis using the new dataset\n",
    "\n",
    "theta_q3 = np.linalg.inv(XX.T @ XX) @ XX.T @ y_clean\n",
    "print(theta_q3)\n",
    "\n",
    "yhat_q3 = XX @ theta_q3\n",
    "yhat2_q3 = XX2 @ theta_q3\n",
    "\n",
    "rmse_q3 = np.sqrt((yhat_q3 - y_clean).T @ (yhat_q3 - y_clean) / m_clean)\n",
    "rmse2_q3 = np.sqrt((yhat2_q3 - y2).T @ (yhat2_q3 - y2) / m2)\n",
    "\n",
    "fig, (ax1, ax2) = plt.subplots(1, 2)\n",
    "miny = 100\n",
    "maxy = 160\n",
    "\n",
    "ax1.plot(y_clean, yhat_q3, 'ro')\n",
    "ax1.plot([miny, maxy],[miny, maxy], 'k-')\n",
    "ax1.set_xlim([miny, maxy])\n",
    "ax1.set_xlabel('Actual')\n",
    "ax1.set_ylabel('Predicted')\n",
    "ax1.axis('equal')\n",
    "ax1.set_title('Training set predictions')\n",
    "ax1.text(140, 110, 'RMSE: %.3f' % rmse_q3, fontsize=12)\n",
    "\n",
    "ax2.plot(y2, yhat2_q3, 'ro')\n",
    "ax2.plot([miny, maxy],[miny, maxy], 'k-')\n",
    "ax2.set_xlim([miny, maxy])\n",
    "ax2.set_xlabel('Actual')\n",
    "ax2.axis('equal')\n",
    "ax2.set_title('Test set predictions')\n",
    "ax2.text(140, 110, 'RMSE: %.3f' % rmse2_q3, fontsize=12)\n"
   ]
  },
  {
   "cell_type": "markdown",
   "metadata": {},
   "source": [
    "The new parameter estimate has a negative load on number of training days, indicating that, as we might expect, when the number of training days increases, the heart rate is decreasing. The value of -0.05 says that every 20 days of training reduces the heart rate by 1 beat per minute. That seems like a small effect, but interestingly, though training RMSE only improves slightly with this variable, from 4.56 to 4.48, test RMSE improves quite a bit, from 8.94 to 7.40. The test set has bigger values for the \"days of training\" variable, so it has more effect on the test set.\n",
    "\n",
    "Lastly, we see that the model is still overpredicting heart rate on the test set, indicating that there is still something missing in our predictors. We might consider adding a \"volume of training\" variable that reflects the amount of training in the past week or so."
   ]
  },
  {
   "cell_type": "markdown",
   "metadata": {},
   "source": [
    "## Question 4 (20 points)\n",
    "\n",
    "Next we consider a classification problem. We know that logistic regression is only capable of modeling linear classification boundaries. In this question, you will synthesize a data set that has a nonlinear classification boundary then show that we can obtain a good logistic regression classifier by transforming the data so that an appropriate classification boundary is linear in the new transformed inputs.\n",
    "\n",
    "**Do the following:**\n",
    "\n",
    "1. **Generate 100 data points for class 1 in which $x_1$ is sampled uniformly from the range [-3..3] and $x_2$ is sampled from a Gaussian with mean $x_1^2 + 2$ and standard deviation 1.0.**\n",
    "\n",
    "2. **Generate 100 data points for class 2 in which $x_1$ is sampled uniformly from the range [-3..3] and $x_2$ is sampled from a Gaussian with mean $x_1^2 + 5$ and standard deviation 1.0.**"
   ]
  },
  {
   "cell_type": "code",
   "execution_count": 7,
   "metadata": {},
   "outputs": [
    {
     "data": {
      "text/plain": [
       "Text(0.5, 1.0, 'Classification dataset for question 4')"
      ]
     },
     "execution_count": 7,
     "metadata": {},
     "output_type": "execute_result"
    },
    {
     "data": {
      "image/png": "[encoded data removed]",
      "text/plain": [
       "<Figure size 576x360 with 1 Axes>"
      ]
     },
     "metadata": {
      "needs_background": "light"
     },
     "output_type": "display_data"
    }
   ],
   "source": [
    "\n",
    "x11 = np.random.uniform(-3,3,[100,1])\n",
    "x12 = x11 * x11 + 2 + np.random.normal(0, 1, [100, 1])\n",
    "X1 = np.concatenate((np.ones((100,1)), x11, x12), 1)\n",
    "\n",
    "x21 = np.random.uniform(-3,3,[100,1])\n",
    "x22 = x21 * x21 + 5 + np.random.normal(0, 1, [100, 1])\n",
    "X2 = np.concatenate((np.ones((100,1)), x21, x22), 1)\n",
    "\n",
    "plt.figure(figsize=(8, 5))\n",
    "plt.plot(X1[:,1], X1[:,2], 'ro', label='Class 1')\n",
    "plt.plot(X2[:,1], X2[:,2], 'bo', label='Class 2')\n",
    "plt.xlim([-3.5,3.5])\n",
    "plt.legend()\n",
    "plt.title('Classification dataset for question 4')\n",
    "\n"
   ]
  },
  {
   "cell_type": "markdown",
   "metadata": {},
   "source": [
    "3. **Split the dataset into 80% train and 20% test, estimate a logistic regression model, and report the model's training set accuracy, test set accuracy, and optimal parameters here:**"
   ]
  },
  {
   "cell_type": "code",
   "execution_count": 8,
   "metadata": {},
   "outputs": [
    {
     "name": "stdout",
     "output_type": "stream",
     "text": [
      "Iter 0: parms (-4.000000, 0.000000, 1.000000), trn like -178.204232 acc 0.681250 test like -45.261525 acc 0.750000 *\n",
      "Iter 1: parms (-4.042141, 0.016372, 0.699530), trn like -107.837034 acc 0.681250 test like -28.047077 acc 0.675000 *\n",
      "Iter 2: parms (-4.054933, 0.036794, 0.568662), trn like -98.848425 acc 0.637500 test like -25.724653 acc 0.600000 *\n",
      "Iter 3: parms (-4.047803, 0.054486, 0.578287), trn like -98.469525 acc 0.637500 test like -25.786447 acc 0.600000 \n",
      "Iter 4: parms (-4.042448, 0.071126, 0.575100), trn like -98.169852 acc 0.643750 test like -25.821455 acc 0.575000 \n",
      "Iter 5: parms (-4.036672, 0.086395, 0.575570), trn like -97.912716 acc 0.650000 test like -25.868192 acc 0.575000 \n",
      "Iter 6: parms (-4.031096, 0.100515, 0.575032), trn like -97.689868 acc 0.650000 test like -25.911096 acc 0.575000 \n",
      "Iter 7: parms (-4.025545, 0.113535, 0.574791), trn like -97.496227 acc 0.650000 test like -25.954001 acc 0.575000 \n",
      "Iter 8: parms (-4.020067, 0.125548, 0.574464), trn like -97.327574 acc 0.656250 test like -25.995196 acc 0.575000 \n",
      "Iter 9: parms (-4.014646, 0.136626, 0.574160), trn like -97.180306 acc 0.656250 test like -26.034820 acc 0.550000 \n",
      "Iter 10: parms (-4.009285, 0.146841, 0.573841), trn like -97.051334 acc 0.662500 test like -26.072548 acc 0.575000 \n",
      "Iter 11: parms (-4.003979, 0.156258, 0.573517), trn like -96.938017 acc 0.662500 test like -26.108284 acc 0.575000 \n",
      "Iter 12: parms (-3.998728, 0.164937, 0.573183), trn like -96.838094 acc 0.662500 test like -26.141932 acc 0.575000 \n",
      "Iter 13: parms (-3.993528, 0.172935, 0.572838), trn like -96.749631 acc 0.668750 test like -26.173454 acc 0.575000 \n",
      "Iter 14: parms (-3.988379, 0.180302, 0.572483), trn like -96.670976 acc 0.668750 test like -26.202839 acc 0.575000 \n",
      "Iter 15: parms (-3.983277, 0.187087, 0.572115), trn like -96.600715 acc 0.668750 test like -26.230104 acc 0.575000 \n",
      "Iter 16: parms (-3.978220, 0.193334, 0.571736), trn like -96.537641 acc 0.668750 test like -26.255287 acc 0.575000 \n",
      "Iter 17: parms (-3.973207, 0.199083, 0.571346), trn like -96.480723 acc 0.668750 test like -26.278442 acc 0.575000 \n",
      "Iter 18: parms (-3.968235, 0.204373, 0.570944), trn like -96.429079 acc 0.668750 test like -26.299632 acc 0.575000 \n",
      "Iter 19: parms (-3.963303, 0.209239, 0.570531), trn like -96.381955 acc 0.675000 test like -26.318931 acc 0.575000 \n",
      "Iter 20: parms (-3.958409, 0.213712, 0.570107), trn like -96.338709 acc 0.687500 test like -26.336419 acc 0.575000 \n",
      "Iter 21: parms (-3.953551, 0.217822, 0.569673), trn like -96.298790 acc 0.687500 test like -26.352178 acc 0.575000 \n",
      "Iter 22: parms (-3.948726, 0.221597, 0.569228), trn like -96.261728 acc 0.687500 test like -26.366295 acc 0.575000 \n",
      "Iter 23: parms (-3.943935, 0.225063, 0.568775), trn like -96.227122 acc 0.687500 test like -26.378853 acc 0.575000 \n",
      "Iter 24: parms (-3.939175, 0.228243, 0.568313), trn like -96.194629 acc 0.687500 test like -26.389940 acc 0.575000 \n",
      "Iter 25: parms (-3.934444, 0.231158, 0.567842), trn like -96.163956 acc 0.687500 test like -26.399638 acc 0.575000 \n",
      "Iter 26: parms (-3.929743, 0.233828, 0.567364), trn like -96.134851 acc 0.687500 test like -26.408029 acc 0.575000 \n",
      "Iter 27: parms (-3.925068, 0.236273, 0.566878), trn like -96.107101 acc 0.687500 test like -26.415194 acc 0.575000 \n",
      "Iter 28: parms (-3.920419, 0.238508, 0.566385), trn like -96.080523 acc 0.687500 test like -26.421209 acc 0.575000 \n",
      "Iter 29: parms (-3.915796, 0.240551, 0.565886), trn like -96.054960 acc 0.687500 test like -26.426147 acc 0.575000 \n",
      "Iter 30: parms (-3.911196, 0.242416, 0.565381), trn like -96.030277 acc 0.687500 test like -26.430080 acc 0.575000 \n",
      "Iter 31: parms (-3.906620, 0.244115, 0.564871), trn like -96.006362 acc 0.687500 test like -26.433074 acc 0.575000 \n",
      "Iter 32: parms (-3.902065, 0.245663, 0.564356), trn like -95.983115 acc 0.687500 test like -26.435192 acc 0.575000 \n",
      "Iter 33: parms (-3.897532, 0.247069, 0.563836), trn like -95.960453 acc 0.687500 test like -26.436496 acc 0.575000 \n",
      "Iter 34: parms (-3.893019, 0.248346, 0.563312), trn like -95.938305 acc 0.687500 test like -26.437042 acc 0.575000 \n",
      "Iter 35: parms (-3.888526, 0.249502, 0.562784), trn like -95.916608 acc 0.687500 test like -26.436883 acc 0.575000 \n",
      "Iter 36: parms (-3.884052, 0.250547, 0.562253), trn like -95.895312 acc 0.687500 test like -26.436072 acc 0.575000 \n",
      "Iter 37: parms (-3.879597, 0.251489, 0.561719), trn like -95.874371 acc 0.687500 test like -26.434655 acc 0.575000 \n",
      "Iter 38: parms (-3.875159, 0.252337, 0.561182), trn like -95.853746 acc 0.687500 test like -26.432676 acc 0.575000 \n",
      "Iter 39: parms (-3.870739, 0.253096, 0.560642), trn like -95.833405 acc 0.687500 test like -26.430178 acc 0.575000 \n",
      "Iter 40: parms (-3.866335, 0.253775, 0.560100), trn like -95.813320 acc 0.687500 test like -26.427200 acc 0.575000 \n",
      "Iter 41: parms (-3.861948, 0.254379, 0.559556), trn like -95.793466 acc 0.687500 test like -26.423779 acc 0.575000 \n",
      "Iter 42: parms (-3.857576, 0.254914, 0.559010), trn like -95.773823 acc 0.687500 test like -26.419947 acc 0.575000 \n",
      "Iter 43: parms (-3.853220, 0.255386, 0.558463), trn like -95.754374 acc 0.687500 test like -26.415739 acc 0.575000 \n",
      "Iter 44: parms (-3.848880, 0.255798, 0.557915), trn like -95.735103 acc 0.687500 test like -26.411182 acc 0.575000 \n",
      "Iter 45: parms (-3.844553, 0.256156, 0.557365), trn like -95.715997 acc 0.687500 test like -26.406305 acc 0.575000 \n",
      "Iter 46: parms (-3.840242, 0.256463, 0.556814), trn like -95.697044 acc 0.687500 test like -26.401134 acc 0.575000 \n",
      "Iter 47: parms (-3.835944, 0.256724, 0.556263), trn like -95.678237 acc 0.687500 test like -26.395693 acc 0.575000 \n",
      "Iter 48: parms (-3.831660, 0.256943, 0.555711), trn like -95.659566 acc 0.687500 test like -26.390004 acc 0.575000 \n",
      "Iter 49: parms (-3.827389, 0.257122, 0.555159), trn like -95.641024 acc 0.687500 test like -26.384087 acc 0.575000 \n",
      "Iter 50: parms (-3.823132, 0.257264, 0.554606), trn like -95.622605 acc 0.687500 test like -26.377962 acc 0.575000 \n",
      "Iter 51: parms (-3.818888, 0.257372, 0.554053), trn like -95.604303 acc 0.687500 test like -26.371648 acc 0.600000 \n",
      "Iter 52: parms (-3.814657, 0.257450, 0.553500), trn like -95.586116 acc 0.687500 test like -26.365160 acc 0.600000 \n",
      "Iter 53: parms (-3.810438, 0.257499, 0.552947), trn like -95.568038 acc 0.687500 test like -26.358513 acc 0.600000 \n",
      "Iter 54: parms (-3.806232, 0.257522, 0.552394), trn like -95.550065 acc 0.687500 test like -26.351723 acc 0.600000 \n",
      "Iter 55: parms (-3.802038, 0.257520, 0.551842), trn like -95.532196 acc 0.687500 test like -26.344802 acc 0.600000 \n",
      "Iter 56: parms (-3.797856, 0.257496, 0.551290), trn like -95.514428 acc 0.687500 test like -26.337763 acc 0.600000 \n",
      "Iter 57: parms (-3.793686, 0.257451, 0.550738), trn like -95.496758 acc 0.687500 test like -26.330618 acc 0.600000 \n",
      "Iter 58: parms (-3.789528, 0.257387, 0.550186), trn like -95.479185 acc 0.687500 test like -26.323375 acc 0.600000 \n",
      "Iter 59: parms (-3.785382, 0.257305, 0.549635), trn like -95.461706 acc 0.687500 test like -26.316046 acc 0.625000 \n",
      "Iter 60: parms (-3.781247, 0.257208, 0.549085), trn like -95.444321 acc 0.687500 test like -26.308640 acc 0.625000 \n",
      "Iter 61: parms (-3.777124, 0.257095, 0.548536), trn like -95.427027 acc 0.687500 test like -26.301164 acc 0.625000 \n",
      "Iter 62: parms (-3.773012, 0.256969, 0.547987), trn like -95.409825 acc 0.687500 test like -26.293626 acc 0.625000 \n",
      "Iter 63: parms (-3.768911, 0.256830, 0.547439), trn like -95.392712 acc 0.687500 test like -26.286034 acc 0.625000 \n",
      "Iter 64: parms (-3.764822, 0.256680, 0.546891), trn like -95.375688 acc 0.687500 test like -26.278394 acc 0.625000 \n",
      "Iter 65: parms (-3.760744, 0.256519, 0.546345), trn like -95.358752 acc 0.687500 test like -26.270713 acc 0.625000 \n",
      "Iter 66: parms (-3.756676, 0.256348, 0.545799), trn like -95.341903 acc 0.687500 test like -26.262995 acc 0.625000 \n",
      "Iter 67: parms (-3.752620, 0.256169, 0.545255), trn like -95.325141 acc 0.687500 test like -26.255247 acc 0.625000 \n",
      "Iter 68: parms (-3.748574, 0.255981, 0.544711), trn like -95.308464 acc 0.687500 test like -26.247472 acc 0.625000 \n",
      "Iter 69: parms (-3.744539, 0.255785, 0.544169), trn like -95.291873 acc 0.687500 test like -26.239676 acc 0.625000 \n",
      "Iter 70: parms (-3.740515, 0.255583, 0.543627), trn like -95.275367 acc 0.687500 test like -26.231862 acc 0.625000 \n",
      "Iter 71: parms (-3.736502, 0.255375, 0.543087), trn like -95.258945 acc 0.687500 test like -26.224034 acc 0.625000 \n",
      "Iter 72: parms (-3.732499, 0.255160, 0.542547), trn like -95.242607 acc 0.687500 test like -26.216197 acc 0.625000 \n",
      "Iter 73: parms (-3.728507, 0.254941, 0.542009), trn like -95.226352 acc 0.687500 test like -26.208352 acc 0.625000 \n",
      "Iter 74: parms (-3.724525, 0.254717, 0.541472), trn like -95.210180 acc 0.687500 test like -26.200503 acc 0.625000 \n",
      "Iter 75: parms (-3.720554, 0.254488, 0.540936), trn like -95.194091 acc 0.687500 test like -26.192652 acc 0.625000 \n",
      "Iter 76: parms (-3.716593, 0.254255, 0.540401), trn like -95.178084 acc 0.687500 test like -26.184803 acc 0.625000 \n",
      "Iter 77: parms (-3.712643, 0.254019, 0.539867), trn like -95.162158 acc 0.687500 test like -26.176958 acc 0.625000 \n",
      "Iter 78: parms (-3.708703, 0.253779, 0.539335), trn like -95.146314 acc 0.687500 test like -26.169118 acc 0.625000 \n",
      "Iter 79: parms (-3.704773, 0.253537, 0.538803), trn like -95.130551 acc 0.687500 test like -26.161285 acc 0.625000 \n",
      "Iter 80: parms (-3.700854, 0.253292, 0.538273), trn like -95.114869 acc 0.687500 test like -26.153462 acc 0.625000 \n",
      "Iter 81: parms (-3.696945, 0.253044, 0.537745), trn like -95.099267 acc 0.687500 test like -26.145650 acc 0.625000 \n",
      "Iter 82: parms (-3.693046, 0.252794, 0.537217), trn like -95.083745 acc 0.687500 test like -26.137851 acc 0.625000 \n",
      "Iter 83: parms (-3.689157, 0.252542, 0.536691), trn like -95.068303 acc 0.687500 test like -26.130066 acc 0.625000 \n",
      "Iter 84: parms (-3.685279, 0.252289, 0.536166), trn like -95.052940 acc 0.687500 test like -26.122296 acc 0.625000 \n",
      "Iter 85: parms (-3.681410, 0.252034, 0.535642), trn like -95.037656 acc 0.687500 test like -26.114542 acc 0.625000 \n",
      "Iter 86: parms (-3.677552, 0.251778, 0.535119), trn like -95.022451 acc 0.687500 test like -26.106806 acc 0.625000 \n",
      "Iter 87: parms (-3.673704, 0.251520, 0.534598), trn like -95.007324 acc 0.687500 test like -26.099089 acc 0.625000 \n",
      "Iter 88: parms (-3.669866, 0.251261, 0.534078), trn like -94.992275 acc 0.687500 test like -26.091391 acc 0.625000 \n",
      "Iter 89: parms (-3.666038, 0.251002, 0.533559), trn like -94.977305 acc 0.687500 test like -26.083714 acc 0.625000 \n",
      "Iter 90: parms (-3.662220, 0.250741, 0.533042), trn like -94.962412 acc 0.687500 test like -26.076057 acc 0.625000 \n",
      "Iter 91: parms (-3.658412, 0.250480, 0.532526), trn like -94.947596 acc 0.687500 test like -26.068423 acc 0.625000 \n",
      "Iter 92: parms (-3.654614, 0.250219, 0.532011), trn like -94.932857 acc 0.687500 test like -26.060811 acc 0.625000 \n",
      "Iter 93: parms (-3.650826, 0.249957, 0.531497), trn like -94.918194 acc 0.687500 test like -26.053222 acc 0.625000 \n",
      "Iter 94: parms (-3.647048, 0.249694, 0.530985), trn like -94.903608 acc 0.687500 test like -26.045656 acc 0.625000 \n",
      "Iter 95: parms (-3.643280, 0.249432, 0.530474), trn like -94.889098 acc 0.687500 test like -26.038114 acc 0.625000 \n",
      "Iter 96: parms (-3.639521, 0.249169, 0.529965), trn like -94.874663 acc 0.687500 test like -26.030597 acc 0.625000 \n",
      "Iter 97: parms (-3.635773, 0.248906, 0.529457), trn like -94.860304 acc 0.687500 test like -26.023105 acc 0.625000 \n",
      "Iter 98: parms (-3.632034, 0.248643, 0.528950), trn like -94.846021 acc 0.687500 test like -26.015638 acc 0.625000 \n",
      "Iter 99: parms (-3.628306, 0.248380, 0.528444), trn like -94.831812 acc 0.687500 test like -26.008197 acc 0.625000 \n",
      "Iter 100: parms (-3.624587, 0.248117, 0.527940), trn like -94.817677 acc 0.687500 test like -26.000781 acc 0.625000 \n",
      "Iter 101: parms (-3.620878, 0.247854, 0.527437), trn like -94.803617 acc 0.693750 test like -25.993392 acc 0.625000 \n",
      "Iter 102: parms (-3.617179, 0.247591, 0.526935), trn like -94.789631 acc 0.693750 test like -25.986028 acc 0.625000 \n",
      "Iter 103: parms (-3.613489, 0.247329, 0.526435), trn like -94.775718 acc 0.693750 test like -25.978692 acc 0.625000 \n",
      "Iter 104: parms (-3.609810, 0.247066, 0.525936), trn like -94.761879 acc 0.693750 test like -25.971382 acc 0.625000 \n",
      "Iter 105: parms (-3.606140, 0.246804, 0.525438), trn like -94.748113 acc 0.693750 test like -25.964099 acc 0.625000 \n",
      "Iter 106: parms (-3.602480, 0.246543, 0.524942), trn like -94.734420 acc 0.693750 test like -25.956843 acc 0.625000 \n",
      "Iter 107: parms (-3.598829, 0.246281, 0.524447), trn like -94.720799 acc 0.693750 test like -25.949614 acc 0.625000 \n",
      "Iter 108: parms (-3.595189, 0.246021, 0.523953), trn like -94.707251 acc 0.693750 test like -25.942412 acc 0.625000 \n",
      "Iter 109: parms (-3.591558, 0.245760, 0.523460), trn like -94.693774 acc 0.693750 test like -25.935238 acc 0.625000 \n",
      "Iter 110: parms (-3.587936, 0.245500, 0.522969), trn like -94.680369 acc 0.693750 test like -25.928091 acc 0.625000 \n",
      "Iter 111: parms (-3.584325, 0.245240, 0.522479), trn like -94.667036 acc 0.693750 test like -25.920972 acc 0.625000 \n",
      "Iter 112: parms (-3.580723, 0.244981, 0.521991), trn like -94.653773 acc 0.693750 test like -25.913880 acc 0.625000 \n",
      "Iter 113: parms (-3.577130, 0.244723, 0.521504), trn like -94.640581 acc 0.693750 test like -25.906816 acc 0.625000 \n",
      "Iter 114: parms (-3.573548, 0.244464, 0.521018), trn like -94.627460 acc 0.693750 test like -25.899779 acc 0.625000 \n",
      "Iter 115: parms (-3.569974, 0.244207, 0.520533), trn like -94.614409 acc 0.693750 test like -25.892770 acc 0.625000 \n",
      "Iter 116: parms (-3.566411, 0.243950, 0.520050), trn like -94.601428 acc 0.693750 test like -25.885789 acc 0.625000 \n",
      "Iter 117: parms (-3.562857, 0.243693, 0.519568), trn like -94.588517 acc 0.693750 test like -25.878835 acc 0.625000 \n",
      "Iter 118: parms (-3.559313, 0.243437, 0.519088), trn like -94.575675 acc 0.693750 test like -25.871909 acc 0.625000 \n",
      "Iter 119: parms (-3.555778, 0.243182, 0.518608), trn like -94.562902 acc 0.693750 test like -25.865011 acc 0.625000 \n",
      "Iter 120: parms (-3.552252, 0.242927, 0.518130), trn like -94.550198 acc 0.693750 test like -25.858140 acc 0.625000 \n",
      "Iter 121: parms (-3.548737, 0.242673, 0.517654), trn like -94.537562 acc 0.693750 test like -25.851297 acc 0.625000 \n",
      "Iter 122: parms (-3.545230, 0.242420, 0.517178), trn like -94.524995 acc 0.693750 test like -25.844482 acc 0.625000 \n",
      "Iter 123: parms (-3.541733, 0.242167, 0.516704), trn like -94.512496 acc 0.693750 test like -25.837694 acc 0.625000 \n",
      "Iter 124: parms (-3.538246, 0.241915, 0.516231), trn like -94.500064 acc 0.693750 test like -25.830933 acc 0.625000 \n",
      "Iter 125: parms (-3.534768, 0.241663, 0.515760), trn like -94.487699 acc 0.693750 test like -25.824200 acc 0.625000 \n",
      "Iter 126: parms (-3.531300, 0.241412, 0.515290), trn like -94.475402 acc 0.693750 test like -25.817495 acc 0.625000 \n",
      "Iter 127: parms (-3.527841, 0.241162, 0.514821), trn like -94.463172 acc 0.693750 test like -25.810816 acc 0.625000 \n",
      "Iter 128: parms (-3.524391, 0.240912, 0.514353), trn like -94.451008 acc 0.693750 test like -25.804165 acc 0.625000 \n",
      "Iter 129: parms (-3.520951, 0.240663, 0.513887), trn like -94.438910 acc 0.693750 test like -25.797542 acc 0.625000 \n",
      "Iter 130: parms (-3.517520, 0.240414, 0.513422), trn like -94.426879 acc 0.693750 test like -25.790945 acc 0.625000 \n",
      "Iter 131: parms (-3.514099, 0.240167, 0.512958), trn like -94.414913 acc 0.693750 test like -25.784376 acc 0.625000 \n",
      "Iter 132: parms (-3.510687, 0.239920, 0.512496), trn like -94.403012 acc 0.693750 test like -25.777834 acc 0.625000 \n",
      "Iter 133: parms (-3.507284, 0.239673, 0.512035), trn like -94.391177 acc 0.693750 test like -25.771319 acc 0.625000 \n",
      "Iter 134: parms (-3.503891, 0.239427, 0.511575), trn like -94.379407 acc 0.693750 test like -25.764831 acc 0.625000 \n",
      "Iter 135: parms (-3.500507, 0.239182, 0.511116), trn like -94.367701 acc 0.693750 test like -25.758369 acc 0.625000 \n",
      "Iter 136: parms (-3.497132, 0.238938, 0.510659), trn like -94.356059 acc 0.693750 test like -25.751935 acc 0.625000 \n",
      "Iter 137: parms (-3.493767, 0.238694, 0.510203), trn like -94.344482 acc 0.693750 test like -25.745527 acc 0.625000 \n",
      "Iter 138: parms (-3.490411, 0.238451, 0.509748), trn like -94.332968 acc 0.693750 test like -25.739146 acc 0.625000 \n",
      "Iter 139: parms (-3.487064, 0.238209, 0.509295), trn like -94.321518 acc 0.693750 test like -25.732791 acc 0.625000 \n",
      "Iter 140: parms (-3.483726, 0.237967, 0.508842), trn like -94.310131 acc 0.693750 test like -25.726463 acc 0.625000 \n",
      "Iter 141: parms (-3.480398, 0.237726, 0.508391), trn like -94.298807 acc 0.693750 test like -25.720161 acc 0.625000 *\n",
      "Iter 142: parms (-3.477079, 0.237486, 0.507942), trn like -94.287546 acc 0.693750 test like -25.713886 acc 0.625000 *\n",
      "Iter 143: parms (-3.473769, 0.237246, 0.507493), trn like -94.276347 acc 0.693750 test like -25.707637 acc 0.625000 *\n",
      "Iter 144: parms (-3.470468, 0.237007, 0.507046), trn like -94.265210 acc 0.693750 test like -25.701414 acc 0.625000 *\n",
      "Iter 145: parms (-3.467176, 0.236769, 0.506600), trn like -94.254135 acc 0.693750 test like -25.695218 acc 0.625000 *\n",
      "Iter 146: parms (-3.463894, 0.236531, 0.506156), trn like -94.243122 acc 0.693750 test like -25.689047 acc 0.625000 *\n",
      "Iter 147: parms (-3.460620, 0.236294, 0.505712), trn like -94.232170 acc 0.693750 test like -25.682903 acc 0.625000 *\n",
      "Iter 148: parms (-3.457356, 0.236058, 0.505270), trn like -94.221279 acc 0.693750 test like -25.676784 acc 0.625000 *\n",
      "Iter 149: parms (-3.454101, 0.235822, 0.504829), trn like -94.210449 acc 0.693750 test like -25.670691 acc 0.625000 *\n",
      "Iter 150: parms (-3.450855, 0.235588, 0.504390), trn like -94.199680 acc 0.693750 test like -25.664623 acc 0.625000 *\n",
      "Iter 151: parms (-3.447618, 0.235353, 0.503951), trn like -94.188970 acc 0.693750 test like -25.658582 acc 0.625000 *\n",
      "Iter 152: parms (-3.444391, 0.235120, 0.503514), trn like -94.178321 acc 0.693750 test like -25.652566 acc 0.625000 *\n",
      "Iter 153: parms (-3.441172, 0.234887, 0.503078), trn like -94.167732 acc 0.693750 test like -25.646575 acc 0.625000 *\n",
      "Iter 154: parms (-3.437962, 0.234655, 0.502644), trn like -94.157201 acc 0.693750 test like -25.640610 acc 0.625000 *\n",
      "Iter 155: parms (-3.434762, 0.234423, 0.502210), trn like -94.146730 acc 0.693750 test like -25.634670 acc 0.625000 *\n",
      "Iter 156: parms (-3.431570, 0.234192, 0.501778), trn like -94.136318 acc 0.693750 test like -25.628755 acc 0.625000 *\n",
      "Iter 157: parms (-3.428387, 0.233962, 0.501347), trn like -94.125965 acc 0.693750 test like -25.622865 acc 0.625000 *\n",
      "Iter 158: parms (-3.425214, 0.233733, 0.500917), trn like -94.115670 acc 0.693750 test like -25.617000 acc 0.625000 *\n",
      "Iter 159: parms (-3.422049, 0.233504, 0.500489), trn like -94.105433 acc 0.693750 test like -25.611161 acc 0.625000 *\n",
      "Iter 160: parms (-3.418893, 0.233276, 0.500062), trn like -94.095255 acc 0.693750 test like -25.605346 acc 0.625000 *\n",
      "Iter 161: parms (-3.415746, 0.233048, 0.499636), trn like -94.085133 acc 0.693750 test like -25.599556 acc 0.625000 *\n",
      "Iter 162: parms (-3.412608, 0.232822, 0.499211), trn like -94.075069 acc 0.693750 test like -25.593790 acc 0.625000 *\n",
      "Iter 163: parms (-3.409479, 0.232595, 0.498787), trn like -94.065062 acc 0.693750 test like -25.588049 acc 0.625000 *\n",
      "Iter 164: parms (-3.406359, 0.232370, 0.498365), trn like -94.055112 acc 0.693750 test like -25.582333 acc 0.625000 *\n",
      "Iter 165: parms (-3.403248, 0.232145, 0.497944), trn like -94.045219 acc 0.693750 test like -25.576641 acc 0.625000 *\n",
      "Iter 166: parms (-3.400146, 0.231921, 0.497524), trn like -94.035382 acc 0.693750 test like -25.570974 acc 0.625000 *\n",
      "Iter 167: parms (-3.397052, 0.231698, 0.497105), trn like -94.025601 acc 0.693750 test like -25.565330 acc 0.625000 *\n",
      "Iter 168: parms (-3.393968, 0.231475, 0.496688), trn like -94.015876 acc 0.693750 test like -25.559711 acc 0.625000 *\n",
      "Iter 169: parms (-3.390892, 0.231253, 0.496272), trn like -94.006206 acc 0.693750 test like -25.554116 acc 0.625000 *\n",
      "Iter 170: parms (-3.387825, 0.231031, 0.495857), trn like -93.996591 acc 0.693750 test like -25.548545 acc 0.625000 *\n",
      "Iter 171: parms (-3.384766, 0.230810, 0.495443), trn like -93.987032 acc 0.693750 test like -25.542998 acc 0.625000 *\n",
      "Iter 172: parms (-3.381717, 0.230590, 0.495030), trn like -93.977527 acc 0.693750 test like -25.537475 acc 0.625000 *\n",
      "Iter 173: parms (-3.378676, 0.230371, 0.494619), trn like -93.968077 acc 0.693750 test like -25.531975 acc 0.625000 *\n",
      "Iter 174: parms (-3.375644, 0.230152, 0.494208), trn like -93.958681 acc 0.693750 test like -25.526499 acc 0.625000 *\n",
      "Iter 175: parms (-3.372621, 0.229934, 0.493799), trn like -93.949340 acc 0.693750 test like -25.521047 acc 0.625000 *\n",
      "Iter 176: parms (-3.369606, 0.229716, 0.493391), trn like -93.940052 acc 0.693750 test like -25.515618 acc 0.625000 *\n",
      "Iter 177: parms (-3.366600, 0.229499, 0.492985), trn like -93.930817 acc 0.693750 test like -25.510213 acc 0.625000 *\n",
      "Iter 178: parms (-3.363603, 0.229283, 0.492579), trn like -93.921636 acc 0.693750 test like -25.504831 acc 0.625000 *\n",
      "Iter 179: parms (-3.360614, 0.229067, 0.492175), trn like -93.912508 acc 0.693750 test like -25.499472 acc 0.625000 *\n",
      "Iter 180: parms (-3.357635, 0.228853, 0.491772), trn like -93.903432 acc 0.693750 test like -25.494136 acc 0.625000 *\n",
      "Iter 181: parms (-3.354663, 0.228638, 0.491370), trn like -93.894409 acc 0.693750 test like -25.488823 acc 0.625000 *\n",
      "Iter 182: parms (-3.351701, 0.228425, 0.490969), trn like -93.885438 acc 0.693750 test like -25.483534 acc 0.625000 *\n",
      "Iter 183: parms (-3.348746, 0.228212, 0.490570), trn like -93.876520 acc 0.693750 test like -25.478267 acc 0.625000 *\n",
      "Iter 184: parms (-3.345801, 0.227999, 0.490171), trn like -93.867653 acc 0.693750 test like -25.473023 acc 0.625000 *\n",
      "Iter 185: parms (-3.342864, 0.227788, 0.489774), trn like -93.858838 acc 0.693750 test like -25.467801 acc 0.625000 *\n",
      "Iter 186: parms (-3.339936, 0.227577, 0.489378), trn like -93.850073 acc 0.693750 test like -25.462603 acc 0.625000 *\n",
      "Iter 187: parms (-3.337016, 0.227366, 0.488983), trn like -93.841360 acc 0.693750 test like -25.457427 acc 0.625000 *\n",
      "Iter 188: parms (-3.334104, 0.227156, 0.488589), trn like -93.832698 acc 0.693750 test like -25.452273 acc 0.625000 *\n",
      "Iter 189: parms (-3.331202, 0.226947, 0.488197), trn like -93.824086 acc 0.693750 test like -25.447142 acc 0.625000 *\n",
      "Iter 190: parms (-3.328307, 0.226739, 0.487805), trn like -93.815525 acc 0.693750 test like -25.442033 acc 0.625000 *\n",
      "Iter 191: parms (-3.325421, 0.226531, 0.487415), trn like -93.807014 acc 0.693750 test like -25.436946 acc 0.625000 *\n",
      "Iter 192: parms (-3.322544, 0.226324, 0.487026), trn like -93.798552 acc 0.693750 test like -25.431881 acc 0.625000 *\n",
      "Iter 193: parms (-3.319675, 0.226117, 0.486638), trn like -93.790140 acc 0.693750 test like -25.426839 acc 0.625000 *\n",
      "Iter 194: parms (-3.316814, 0.225911, 0.486252), trn like -93.781778 acc 0.693750 test like -25.421818 acc 0.625000 *\n",
      "Iter 195: parms (-3.313962, 0.225706, 0.485866), trn like -93.773464 acc 0.693750 test like -25.416819 acc 0.625000 *\n",
      "Iter 196: parms (-3.311118, 0.225501, 0.485481), trn like -93.765200 acc 0.693750 test like -25.411842 acc 0.625000 *\n",
      "Iter 197: parms (-3.308283, 0.225297, 0.485098), trn like -93.756984 acc 0.693750 test like -25.406887 acc 0.625000 *\n",
      "Iter 198: parms (-3.305456, 0.225093, 0.484716), trn like -93.748816 acc 0.693750 test like -25.401954 acc 0.625000 *\n",
      "Iter 199: parms (-3.302637, 0.224891, 0.484335), trn like -93.740697 acc 0.693750 test like -25.397042 acc 0.625000 *\n",
      "Iter 200: parms (-3.299827, 0.224688, 0.483955), trn like -93.732625 acc 0.693750 test like -25.392151 acc 0.625000 *\n",
      "Iter 201: parms (-3.297025, 0.224487, 0.483576), trn like -93.724602 acc 0.693750 test like -25.387282 acc 0.625000 *\n",
      "Iter 202: parms (-3.294231, 0.224286, 0.483199), trn like -93.716625 acc 0.693750 test like -25.382434 acc 0.625000 *\n",
      "Iter 203: parms (-3.291446, 0.224085, 0.482822), trn like -93.708696 acc 0.687500 test like -25.377607 acc 0.625000 *\n",
      "Iter 204: parms (-3.288668, 0.223886, 0.482447), trn like -93.700814 acc 0.687500 test like -25.372802 acc 0.625000 *\n",
      "Iter 205: parms (-3.285899, 0.223687, 0.482073), trn like -93.692979 acc 0.687500 test like -25.368018 acc 0.625000 *\n",
      "Iter 206: parms (-3.283139, 0.223488, 0.481700), trn like -93.685190 acc 0.687500 test like -25.363254 acc 0.625000 *\n",
      "Iter 207: parms (-3.280386, 0.223290, 0.481328), trn like -93.677447 acc 0.687500 test like -25.358512 acc 0.625000 *\n",
      "Iter 208: parms (-3.277642, 0.223093, 0.480957), trn like -93.669751 acc 0.687500 test like -25.353790 acc 0.625000 *\n",
      "Iter 209: parms (-3.274905, 0.222896, 0.480587), trn like -93.662100 acc 0.687500 test like -25.349089 acc 0.625000 *\n",
      "Iter 210: parms (-3.272177, 0.222700, 0.480218), trn like -93.654495 acc 0.687500 test like -25.344409 acc 0.625000 *\n",
      "Iter 211: parms (-3.269458, 0.222505, 0.479851), trn like -93.646935 acc 0.687500 test like -25.339749 acc 0.625000 *\n",
      "Iter 212: parms (-3.266746, 0.222310, 0.479485), trn like -93.639421 acc 0.687500 test like -25.335110 acc 0.625000 *\n",
      "Iter 213: parms (-3.264042, 0.222116, 0.479119), trn like -93.631951 acc 0.687500 test like -25.330491 acc 0.625000 *\n",
      "Iter 214: parms (-3.261347, 0.221922, 0.478755), trn like -93.624526 acc 0.687500 test like -25.325892 acc 0.625000 *\n",
      "Iter 215: parms (-3.258659, 0.221729, 0.478392), trn like -93.617146 acc 0.687500 test like -25.321314 acc 0.625000 *\n",
      "Iter 216: parms (-3.255980, 0.221536, 0.478030), trn like -93.609810 acc 0.687500 test like -25.316756 acc 0.625000 *\n",
      "Iter 217: parms (-3.253308, 0.221345, 0.477669), trn like -93.602518 acc 0.687500 test like -25.312218 acc 0.625000 *\n",
      "Iter 218: parms (-3.250645, 0.221153, 0.477310), trn like -93.595269 acc 0.687500 test like -25.307700 acc 0.625000 *\n",
      "Iter 219: parms (-3.247990, 0.220963, 0.476951), trn like -93.588065 acc 0.687500 test like -25.303202 acc 0.625000 *\n",
      "Iter 220: parms (-3.245343, 0.220773, 0.476593), trn like -93.580903 acc 0.687500 test like -25.298724 acc 0.625000 *\n",
      "Iter 221: parms (-3.242703, 0.220583, 0.476237), trn like -93.573785 acc 0.687500 test like -25.294266 acc 0.625000 *\n",
      "Iter 222: parms (-3.240072, 0.220394, 0.475881), trn like -93.566710 acc 0.687500 test like -25.289827 acc 0.625000 *\n",
      "Iter 223: parms (-3.237448, 0.220206, 0.475527), trn like -93.559677 acc 0.687500 test like -25.285408 acc 0.625000 *\n",
      "Iter 224: parms (-3.234833, 0.220018, 0.475174), trn like -93.552687 acc 0.687500 test like -25.281008 acc 0.625000 *\n",
      "Iter 225: parms (-3.232225, 0.219831, 0.474822), trn like -93.545739 acc 0.687500 test like -25.276628 acc 0.625000 *\n",
      "Iter 226: parms (-3.229626, 0.219645, 0.474471), trn like -93.538834 acc 0.687500 test like -25.272268 acc 0.625000 *\n",
      "Iter 227: parms (-3.227034, 0.219459, 0.474121), trn like -93.531970 acc 0.687500 test like -25.267927 acc 0.625000 *\n",
      "Iter 228: parms (-3.224450, 0.219274, 0.473772), trn like -93.525147 acc 0.687500 test like -25.263605 acc 0.625000 *\n",
      "Iter 229: parms (-3.221874, 0.219089, 0.473424), trn like -93.518366 acc 0.687500 test like -25.259302 acc 0.625000 *\n",
      "Iter 230: parms (-3.219306, 0.218905, 0.473077), trn like -93.511627 acc 0.687500 test like -25.255018 acc 0.625000 *\n",
      "Iter 231: parms (-3.216745, 0.218721, 0.472731), trn like -93.504928 acc 0.687500 test like -25.250753 acc 0.625000 *\n",
      "Iter 232: parms (-3.214193, 0.218538, 0.472387), trn like -93.498270 acc 0.687500 test like -25.246507 acc 0.625000 *\n",
      "Iter 233: parms (-3.211648, 0.218356, 0.472043), trn like -93.491653 acc 0.687500 test like -25.242280 acc 0.625000 *\n",
      "Iter 234: parms (-3.209111, 0.218174, 0.471701), trn like -93.485076 acc 0.687500 test like -25.238072 acc 0.625000 *\n",
      "Iter 235: parms (-3.206582, 0.217992, 0.471359), trn like -93.478539 acc 0.687500 test like -25.233883 acc 0.625000 *\n",
      "Iter 236: parms (-3.204060, 0.217812, 0.471019), trn like -93.472042 acc 0.687500 test like -25.229712 acc 0.625000 *\n",
      "Iter 237: parms (-3.201546, 0.217632, 0.470679), trn like -93.465585 acc 0.687500 test like -25.225560 acc 0.625000 *\n",
      "Iter 238: parms (-3.199040, 0.217452, 0.470341), trn like -93.459167 acc 0.687500 test like -25.221426 acc 0.625000 *\n",
      "Iter 239: parms (-3.196541, 0.217273, 0.470004), trn like -93.452788 acc 0.687500 test like -25.217310 acc 0.625000 *\n",
      "Iter 240: parms (-3.194051, 0.217094, 0.469668), trn like -93.446449 acc 0.687500 test like -25.213213 acc 0.625000 *\n",
      "Iter 241: parms (-3.191567, 0.216917, 0.469333), trn like -93.440149 acc 0.687500 test like -25.209135 acc 0.625000 *\n",
      "Iter 242: parms (-3.189092, 0.216739, 0.468998), trn like -93.433887 acc 0.687500 test like -25.205074 acc 0.625000 *\n",
      "Iter 243: parms (-3.186624, 0.216563, 0.468665), trn like -93.427664 acc 0.687500 test like -25.201032 acc 0.625000 *\n",
      "Iter 244: parms (-3.184164, 0.216386, 0.468333), trn like -93.421479 acc 0.687500 test like -25.197007 acc 0.625000 *\n",
      "Iter 245: parms (-3.181711, 0.216211, 0.468002), trn like -93.415332 acc 0.687500 test like -25.193001 acc 0.625000 *\n",
      "Iter 246: parms (-3.179266, 0.216036, 0.467672), trn like -93.409223 acc 0.687500 test like -25.189012 acc 0.625000 *\n",
      "Iter 247: parms (-3.176828, 0.215861, 0.467343), trn like -93.403152 acc 0.687500 test like -25.185041 acc 0.625000 *\n",
      "Iter 248: parms (-3.174398, 0.215687, 0.467015), trn like -93.397118 acc 0.687500 test like -25.181088 acc 0.625000 *\n",
      "Iter 249: parms (-3.171975, 0.215514, 0.466689), trn like -93.391121 acc 0.687500 test like -25.177153 acc 0.625000 *\n",
      "Iter 250: parms (-3.169560, 0.215341, 0.466363), trn like -93.385162 acc 0.687500 test like -25.173235 acc 0.625000 *\n",
      "Iter 251: parms (-3.167153, 0.215169, 0.466038), trn like -93.379239 acc 0.687500 test like -25.169335 acc 0.625000 *\n",
      "Iter 252: parms (-3.164753, 0.214997, 0.465714), trn like -93.373353 acc 0.687500 test like -25.165452 acc 0.625000 *\n",
      "Iter 253: parms (-3.162360, 0.214826, 0.465391), trn like -93.367504 acc 0.687500 test like -25.161587 acc 0.625000 *\n",
      "Iter 254: parms (-3.159975, 0.214655, 0.465069), trn like -93.361691 acc 0.687500 test like -25.157738 acc 0.625000 *\n",
      "Iter 255: parms (-3.157597, 0.214485, 0.464749), trn like -93.355914 acc 0.687500 test like -25.153908 acc 0.625000 *\n",
      "Iter 256: parms (-3.155226, 0.214316, 0.464429), trn like -93.350173 acc 0.687500 test like -25.150094 acc 0.625000 *\n",
      "Iter 257: parms (-3.152863, 0.214147, 0.464110), trn like -93.344468 acc 0.687500 test like -25.146297 acc 0.625000 *\n",
      "Iter 258: parms (-3.150508, 0.213978, 0.463792), trn like -93.338798 acc 0.687500 test like -25.142518 acc 0.625000 *\n",
      "Iter 259: parms (-3.148159, 0.213810, 0.463475), trn like -93.333163 acc 0.687500 test like -25.138755 acc 0.625000 *\n",
      "Iter 260: parms (-3.145818, 0.213643, 0.463160), trn like -93.327564 acc 0.687500 test like -25.135009 acc 0.625000 *\n",
      "Iter 261: parms (-3.143484, 0.213476, 0.462845), trn like -93.322000 acc 0.687500 test like -25.131281 acc 0.625000 *\n",
      "Iter 262: parms (-3.141158, 0.213310, 0.462531), trn like -93.316470 acc 0.687500 test like -25.127568 acc 0.625000 *\n",
      "Iter 263: parms (-3.138839, 0.213144, 0.462218), trn like -93.310975 acc 0.687500 test like -25.123873 acc 0.625000 *\n",
      "Iter 264: parms (-3.136527, 0.212979, 0.461907), trn like -93.305514 acc 0.687500 test like -25.120194 acc 0.625000 *\n",
      "Iter 265: parms (-3.134222, 0.212814, 0.461596), trn like -93.300088 acc 0.687500 test like -25.116532 acc 0.625000 *\n",
      "Iter 266: parms (-3.131925, 0.212650, 0.461286), trn like -93.294695 acc 0.687500 test like -25.112886 acc 0.625000 *\n",
      "Iter 267: parms (-3.129635, 0.212486, 0.460977), trn like -93.289337 acc 0.681250 test like -25.109256 acc 0.625000 *\n",
      "Iter 268: parms (-3.127352, 0.212323, 0.460669), trn like -93.284012 acc 0.681250 test like -25.105643 acc 0.625000 *\n",
      "Iter 269: parms (-3.125076, 0.212161, 0.460362), trn like -93.278720 acc 0.681250 test like -25.102046 acc 0.625000 *\n",
      "Iter 270: parms (-3.122807, 0.211999, 0.460056), trn like -93.273462 acc 0.681250 test like -25.098466 acc 0.625000 *\n",
      "Iter 271: parms (-3.120546, 0.211837, 0.459751), trn like -93.268237 acc 0.681250 test like -25.094901 acc 0.625000 *\n",
      "Iter 272: parms (-3.118292, 0.211676, 0.459447), trn like -93.263044 acc 0.681250 test like -25.091352 acc 0.625000 *\n",
      "Iter 273: parms (-3.116044, 0.211516, 0.459144), trn like -93.257885 acc 0.681250 test like -25.087820 acc 0.625000 *\n",
      "Iter 274: parms (-3.113804, 0.211356, 0.458842), trn like -93.252758 acc 0.681250 test like -25.084303 acc 0.625000 *\n",
      "Iter 275: parms (-3.111571, 0.211196, 0.458541), trn like -93.247663 acc 0.681250 test like -25.080802 acc 0.625000 *\n",
      "Iter 276: parms (-3.109345, 0.211037, 0.458241), trn like -93.242601 acc 0.681250 test like -25.077317 acc 0.625000 *\n",
      "Iter 277: parms (-3.107126, 0.210879, 0.457942), trn like -93.237570 acc 0.681250 test like -25.073848 acc 0.625000 *\n",
      "Iter 278: parms (-3.104914, 0.210721, 0.457644), trn like -93.232572 acc 0.681250 test like -25.070395 acc 0.625000 *\n",
      "Iter 279: parms (-3.102709, 0.210564, 0.457347), trn like -93.227605 acc 0.681250 test like -25.066957 acc 0.625000 *\n",
      "Iter 280: parms (-3.100511, 0.210407, 0.457050), trn like -93.222669 acc 0.681250 test like -25.063534 acc 0.625000 *\n",
      "Iter 281: parms (-3.098320, 0.210251, 0.456755), trn like -93.217765 acc 0.681250 test like -25.060127 acc 0.625000 *\n",
      "Iter 282: parms (-3.096136, 0.210095, 0.456461), trn like -93.212892 acc 0.681250 test like -25.056735 acc 0.625000 *\n",
      "Iter 283: parms (-3.093959, 0.209940, 0.456167), trn like -93.208050 acc 0.681250 test like -25.053359 acc 0.625000 *\n",
      "Iter 284: parms (-3.091789, 0.209785, 0.455875), trn like -93.203239 acc 0.681250 test like -25.049998 acc 0.625000 *\n",
      "Iter 285: parms (-3.089626, 0.209630, 0.455583), trn like -93.198458 acc 0.681250 test like -25.046652 acc 0.625000 *\n",
      "Iter 286: parms (-3.087470, 0.209477, 0.455293), trn like -93.193708 acc 0.681250 test like -25.043321 acc 0.625000 *\n",
      "Iter 287: parms (-3.085320, 0.209323, 0.455003), trn like -93.188988 acc 0.681250 test like -25.040006 acc 0.625000 *\n",
      "Iter 288: parms (-3.083178, 0.209171, 0.454714), trn like -93.184298 acc 0.681250 test like -25.036705 acc 0.625000 *\n",
      "Iter 289: parms (-3.081042, 0.209018, 0.454426), trn like -93.179639 acc 0.681250 test like -25.033419 acc 0.625000 *\n",
      "Iter 290: parms (-3.078913, 0.208867, 0.454139), trn like -93.175008 acc 0.681250 test like -25.030148 acc 0.625000 *\n",
      "Iter 291: parms (-3.076791, 0.208715, 0.453853), trn like -93.170408 acc 0.681250 test like -25.026892 acc 0.625000 *\n",
      "Iter 292: parms (-3.074676, 0.208565, 0.453568), trn like -93.165837 acc 0.681250 test like -25.023651 acc 0.625000 *\n",
      "Iter 293: parms (-3.072567, 0.208414, 0.453284), trn like -93.161295 acc 0.681250 test like -25.020424 acc 0.625000 *\n",
      "Iter 294: parms (-3.070465, 0.208264, 0.453001), trn like -93.156782 acc 0.681250 test like -25.017212 acc 0.625000 *\n",
      "Iter 295: parms (-3.068370, 0.208115, 0.452719), trn like -93.152298 acc 0.681250 test like -25.014015 acc 0.625000 *\n",
      "Iter 296: parms (-3.066282, 0.207966, 0.452437), trn like -93.147843 acc 0.681250 test like -25.010832 acc 0.625000 *\n",
      "Iter 297: parms (-3.064201, 0.207818, 0.452157), trn like -93.143417 acc 0.681250 test like -25.007663 acc 0.625000 *\n",
      "Iter 298: parms (-3.062126, 0.207670, 0.451877), trn like -93.139019 acc 0.681250 test like -25.004509 acc 0.625000 *\n",
      "Iter 299: parms (-3.060057, 0.207523, 0.451599), trn like -93.134649 acc 0.681250 test like -25.001369 acc 0.625000 *\n",
      "Iter 300: parms (-3.057996, 0.207376, 0.451321), trn like -93.130307 acc 0.681250 test like -24.998243 acc 0.625000 *\n",
      "Iter 301: parms (-3.055941, 0.207230, 0.451044), trn like -93.125994 acc 0.681250 test like -24.995132 acc 0.625000 *\n",
      "Iter 302: parms (-3.053893, 0.207084, 0.450768), trn like -93.121708 acc 0.681250 test like -24.992034 acc 0.625000 *\n",
      "Iter 303: parms (-3.051851, 0.206938, 0.450493), trn like -93.117450 acc 0.681250 test like -24.988951 acc 0.625000 *\n",
      "Iter 304: parms (-3.049816, 0.206794, 0.450219), trn like -93.113219 acc 0.681250 test like -24.985882 acc 0.625000 *\n",
      "Iter 305: parms (-3.047788, 0.206649, 0.449946), trn like -93.109015 acc 0.681250 test like -24.982826 acc 0.625000 *\n",
      "Iter 306: parms (-3.045766, 0.206505, 0.449673), trn like -93.104839 acc 0.681250 test like -24.979785 acc 0.625000 *\n",
      "Iter 307: parms (-3.043750, 0.206362, 0.449402), trn like -93.100690 acc 0.681250 test like -24.976757 acc 0.625000 *\n"
     ]
    },
    {
     "name": "stdout",
     "output_type": "stream",
     "text": [
      "Iter 308: parms (-3.041741, 0.206219, 0.449131), trn like -93.096567 acc 0.681250 test like -24.973743 acc 0.625000 *\n",
      "Iter 309: parms (-3.039739, 0.206076, 0.448862), trn like -93.092472 acc 0.681250 test like -24.970743 acc 0.625000 *\n",
      "Iter 310: parms (-3.037743, 0.205934, 0.448593), trn like -93.088402 acc 0.681250 test like -24.967756 acc 0.625000 *\n",
      "Iter 311: parms (-3.035754, 0.205793, 0.448325), trn like -93.084360 acc 0.681250 test like -24.964783 acc 0.625000 *\n",
      "Iter 312: parms (-3.033771, 0.205651, 0.448058), trn like -93.080343 acc 0.681250 test like -24.961823 acc 0.625000 *\n",
      "Iter 313: parms (-3.031795, 0.205511, 0.447792), trn like -93.076353 acc 0.681250 test like -24.958877 acc 0.625000 *\n",
      "Iter 314: parms (-3.029825, 0.205371, 0.447526), trn like -93.072388 acc 0.681250 test like -24.955945 acc 0.625000 *\n",
      "Iter 315: parms (-3.027861, 0.205231, 0.447262), trn like -93.068449 acc 0.681250 test like -24.953025 acc 0.625000 *\n",
      "Iter 316: parms (-3.025904, 0.205092, 0.446998), trn like -93.064536 acc 0.681250 test like -24.950119 acc 0.625000 *\n",
      "Iter 317: parms (-3.023953, 0.204953, 0.446736), trn like -93.060649 acc 0.681250 test like -24.947226 acc 0.625000 *\n",
      "Iter 318: parms (-3.022008, 0.204815, 0.446474), trn like -93.056786 acc 0.681250 test like -24.944347 acc 0.625000 *\n",
      "Iter 319: parms (-3.020070, 0.204677, 0.446213), trn like -93.052949 acc 0.681250 test like -24.941480 acc 0.625000 *\n",
      "Iter 320: parms (-3.018139, 0.204539, 0.445953), trn like -93.049137 acc 0.681250 test like -24.938626 acc 0.625000 *\n",
      "Iter 321: parms (-3.016213, 0.204403, 0.445694), trn like -93.045350 acc 0.681250 test like -24.935786 acc 0.625000 *\n",
      "Iter 322: parms (-3.014294, 0.204266, 0.445435), trn like -93.041587 acc 0.681250 test like -24.932958 acc 0.625000 *\n",
      "Iter 323: parms (-3.012381, 0.204130, 0.445178), trn like -93.037850 acc 0.681250 test like -24.930144 acc 0.625000 *\n",
      "Iter 324: parms (-3.010474, 0.203995, 0.444921), trn like -93.034136 acc 0.681250 test like -24.927342 acc 0.625000 *\n",
      "Iter 325: parms (-3.008574, 0.203859, 0.444665), trn like -93.030447 acc 0.681250 test like -24.924552 acc 0.625000 *\n",
      "Iter 326: parms (-3.006680, 0.203725, 0.444410), trn like -93.026782 acc 0.681250 test like -24.921776 acc 0.625000 *\n",
      "Iter 327: parms (-3.004792, 0.203591, 0.444156), trn like -93.023141 acc 0.681250 test like -24.919012 acc 0.625000 *\n",
      "Iter 328: parms (-3.002910, 0.203457, 0.443903), trn like -93.019524 acc 0.681250 test like -24.916261 acc 0.625000 *\n",
      "Iter 329: parms (-3.001035, 0.203324, 0.443650), trn like -93.015931 acc 0.681250 test like -24.913522 acc 0.625000 *\n",
      "Iter 330: parms (-2.999165, 0.203191, 0.443399), trn like -93.012362 acc 0.681250 test like -24.910796 acc 0.625000 *\n",
      "Iter 331: parms (-2.997302, 0.203058, 0.443148), trn like -93.008815 acc 0.681250 test like -24.908082 acc 0.625000 *\n",
      "Iter 332: parms (-2.995445, 0.202926, 0.442898), trn like -93.005293 acc 0.681250 test like -24.905381 acc 0.625000 *\n",
      "Iter 333: parms (-2.993594, 0.202795, 0.442649), trn like -93.001793 acc 0.681250 test like -24.902692 acc 0.625000 *\n",
      "Iter 334: parms (-2.991749, 0.202664, 0.442400), trn like -92.998316 acc 0.681250 test like -24.900015 acc 0.625000 *\n",
      "Iter 335: parms (-2.989910, 0.202533, 0.442153), trn like -92.994863 acc 0.681250 test like -24.897350 acc 0.625000 *\n",
      "Iter 336: parms (-2.988078, 0.202403, 0.441906), trn like -92.991432 acc 0.681250 test like -24.894697 acc 0.625000 *\n",
      "Iter 337: parms (-2.986251, 0.202273, 0.441660), trn like -92.988023 acc 0.681250 test like -24.892057 acc 0.625000 *\n",
      "Iter 338: parms (-2.984430, 0.202144, 0.441415), trn like -92.984638 acc 0.681250 test like -24.889429 acc 0.625000 *\n",
      "Iter 339: parms (-2.982616, 0.202015, 0.441171), trn like -92.981274 acc 0.681250 test like -24.886812 acc 0.625000 *\n",
      "Iter 340: parms (-2.980807, 0.201887, 0.440928), trn like -92.977933 acc 0.681250 test like -24.884208 acc 0.625000 *\n",
      "Iter 341: parms (-2.979005, 0.201759, 0.440685), trn like -92.974614 acc 0.681250 test like -24.881615 acc 0.625000 *\n",
      "Iter 342: parms (-2.977208, 0.201631, 0.440443), trn like -92.971317 acc 0.681250 test like -24.879035 acc 0.625000 *\n",
      "Iter 343: parms (-2.975417, 0.201504, 0.440202), trn like -92.968042 acc 0.681250 test like -24.876466 acc 0.625000 *\n",
      "Iter 344: parms (-2.973633, 0.201378, 0.439962), trn like -92.964788 acc 0.681250 test like -24.873908 acc 0.625000 *\n",
      "Iter 345: parms (-2.971854, 0.201251, 0.439723), trn like -92.961556 acc 0.681250 test like -24.871363 acc 0.625000 *\n",
      "Iter 346: parms (-2.970081, 0.201126, 0.439484), trn like -92.958346 acc 0.681250 test like -24.868829 acc 0.625000 *\n",
      "Iter 347: parms (-2.968314, 0.201000, 0.439247), trn like -92.955157 acc 0.681250 test like -24.866307 acc 0.625000 *\n",
      "Iter 348: parms (-2.966553, 0.200875, 0.439010), trn like -92.951989 acc 0.681250 test like -24.863796 acc 0.625000 *\n",
      "Iter 349: parms (-2.964798, 0.200751, 0.438774), trn like -92.948842 acc 0.681250 test like -24.861296 acc 0.625000 *\n",
      "Iter 350: parms (-2.963048, 0.200627, 0.438538), trn like -92.945716 acc 0.681250 test like -24.858808 acc 0.625000 *\n",
      "Iter 351: parms (-2.961305, 0.200503, 0.438304), trn like -92.942610 acc 0.681250 test like -24.856332 acc 0.625000 *\n",
      "Iter 352: parms (-2.959567, 0.200380, 0.438070), trn like -92.939526 acc 0.681250 test like -24.853866 acc 0.625000 *\n",
      "Iter 353: parms (-2.957835, 0.200257, 0.437837), trn like -92.936462 acc 0.681250 test like -24.851412 acc 0.625000 *\n",
      "Iter 354: parms (-2.956109, 0.200134, 0.437605), trn like -92.933419 acc 0.681250 test like -24.848969 acc 0.625000 *\n",
      "Iter 355: parms (-2.954388, 0.200012, 0.437373), trn like -92.930395 acc 0.681250 test like -24.846538 acc 0.625000 *\n",
      "Iter 356: parms (-2.952674, 0.199891, 0.437143), trn like -92.927392 acc 0.681250 test like -24.844117 acc 0.625000 *\n",
      "Iter 357: parms (-2.950965, 0.199769, 0.436913), trn like -92.924409 acc 0.681250 test like -24.841707 acc 0.625000 *\n",
      "Iter 358: parms (-2.949262, 0.199649, 0.436684), trn like -92.921446 acc 0.681250 test like -24.839309 acc 0.625000 *\n",
      "Iter 359: parms (-2.947564, 0.199528, 0.436455), trn like -92.918503 acc 0.681250 test like -24.836921 acc 0.625000 *\n",
      "Iter 360: parms (-2.945872, 0.199408, 0.436228), trn like -92.915580 acc 0.681250 test like -24.834545 acc 0.625000 *\n",
      "Iter 361: parms (-2.944186, 0.199289, 0.436001), trn like -92.912676 acc 0.681250 test like -24.832179 acc 0.625000 *\n",
      "Iter 362: parms (-2.942506, 0.199170, 0.435775), trn like -92.909791 acc 0.681250 test like -24.829824 acc 0.625000 *\n",
      "Iter 363: parms (-2.940831, 0.199051, 0.435550), trn like -92.906926 acc 0.681250 test like -24.827480 acc 0.625000 *\n",
      "Iter 364: parms (-2.939162, 0.198933, 0.435325), trn like -92.904080 acc 0.681250 test like -24.825146 acc 0.625000 *\n",
      "Iter 365: parms (-2.937498, 0.198815, 0.435101), trn like -92.901254 acc 0.681250 test like -24.822823 acc 0.625000 *\n",
      "Iter 366: parms (-2.935840, 0.198697, 0.434878), trn like -92.898446 acc 0.681250 test like -24.820511 acc 0.625000 *\n",
      "Iter 367: parms (-2.934188, 0.198580, 0.434656), trn like -92.895657 acc 0.681250 test like -24.818209 acc 0.625000 *\n",
      "Iter 368: parms (-2.932541, 0.198464, 0.434435), trn like -92.892887 acc 0.681250 test like -24.815918 acc 0.625000 *\n",
      "Iter 369: parms (-2.930899, 0.198347, 0.434214), trn like -92.890135 acc 0.681250 test like -24.813637 acc 0.625000 *\n",
      "Iter 370: parms (-2.929264, 0.198231, 0.433994), trn like -92.887402 acc 0.681250 test like -24.811367 acc 0.625000 *\n",
      "Iter 371: parms (-2.927633, 0.198116, 0.433775), trn like -92.884688 acc 0.681250 test like -24.809107 acc 0.625000 *\n",
      "Iter 372: parms (-2.926009, 0.198001, 0.433556), trn like -92.881991 acc 0.681250 test like -24.806857 acc 0.625000 *\n",
      "Iter 373: parms (-2.924389, 0.197886, 0.433339), trn like -92.879313 acc 0.681250 test like -24.804618 acc 0.625000 *\n",
      "Iter 374: parms (-2.922775, 0.197772, 0.433122), trn like -92.876653 acc 0.681250 test like -24.802389 acc 0.625000 *\n",
      "Iter 375: parms (-2.921167, 0.197658, 0.432905), trn like -92.874011 acc 0.681250 test like -24.800170 acc 0.625000 *\n",
      "Iter 376: parms (-2.919564, 0.197544, 0.432690), trn like -92.871387 acc 0.681250 test like -24.797961 acc 0.625000 *\n",
      "Iter 377: parms (-2.917967, 0.197431, 0.432475), trn like -92.868780 acc 0.681250 test like -24.795763 acc 0.625000 *\n",
      "Iter 378: parms (-2.916375, 0.197318, 0.432261), trn like -92.866191 acc 0.681250 test like -24.793574 acc 0.625000 *\n",
      "Iter 379: parms (-2.914788, 0.197206, 0.432048), trn like -92.863620 acc 0.681250 test like -24.791395 acc 0.625000 *\n",
      "Iter 380: parms (-2.913207, 0.197094, 0.431835), trn like -92.861066 acc 0.681250 test like -24.789227 acc 0.625000 *\n",
      "Iter 381: parms (-2.911631, 0.196983, 0.431623), trn like -92.858529 acc 0.681250 test like -24.787068 acc 0.625000 *\n",
      "Iter 382: parms (-2.910060, 0.196871, 0.431412), trn like -92.856010 acc 0.681250 test like -24.784919 acc 0.625000 *\n",
      "Iter 383: parms (-2.908495, 0.196761, 0.431202), trn like -92.853508 acc 0.681250 test like -24.782780 acc 0.625000 *\n",
      "Iter 384: parms (-2.906935, 0.196650, 0.430992), trn like -92.851022 acc 0.681250 test like -24.780651 acc 0.625000 *\n",
      "Iter 385: parms (-2.905380, 0.196540, 0.430783), trn like -92.848554 acc 0.681250 test like -24.778531 acc 0.625000 *\n",
      "Iter 386: parms (-2.903831, 0.196430, 0.430575), trn like -92.846102 acc 0.681250 test like -24.776421 acc 0.625000 *\n",
      "Iter 387: parms (-2.902287, 0.196321, 0.430367), trn like -92.843667 acc 0.681250 test like -24.774321 acc 0.625000 *\n",
      "Iter 388: parms (-2.900748, 0.196212, 0.430160), trn like -92.841248 acc 0.681250 test like -24.772230 acc 0.625000 *\n",
      "Iter 389: parms (-2.899214, 0.196104, 0.429954), trn like -92.838846 acc 0.681250 test like -24.770149 acc 0.625000 *\n",
      "Iter 390: parms (-2.897686, 0.195996, 0.429749), trn like -92.836460 acc 0.681250 test like -24.768078 acc 0.625000 *\n",
      "Iter 391: parms (-2.896163, 0.195888, 0.429544), trn like -92.834091 acc 0.681250 test like -24.766016 acc 0.625000 *\n",
      "Iter 392: parms (-2.894645, 0.195780, 0.429340), trn like -92.831738 acc 0.681250 test like -24.763963 acc 0.625000 *\n",
      "Iter 393: parms (-2.893132, 0.195673, 0.429137), trn like -92.829400 acc 0.681250 test like -24.761920 acc 0.625000 *\n",
      "Iter 394: parms (-2.891624, 0.195567, 0.428934), trn like -92.827079 acc 0.681250 test like -24.759886 acc 0.625000 *\n",
      "Iter 395: parms (-2.890122, 0.195461, 0.428732), trn like -92.824773 acc 0.681250 test like -24.757861 acc 0.625000 *\n",
      "Iter 396: parms (-2.888625, 0.195355, 0.428531), trn like -92.822484 acc 0.681250 test like -24.755845 acc 0.625000 *\n",
      "Iter 397: parms (-2.887132, 0.195249, 0.428330), trn like -92.820210 acc 0.681250 test like -24.753839 acc 0.625000 *\n",
      "Iter 398: parms (-2.885645, 0.195144, 0.428130), trn like -92.817951 acc 0.681250 test like -24.751842 acc 0.625000 *\n",
      "Iter 399: parms (-2.884163, 0.195039, 0.427931), trn like -92.815708 acc 0.681250 test like -24.749854 acc 0.625000 *\n",
      "Best parameters: (-2.884163, 0.195039, 0.427931)\n"
     ]
    },
    {
     "name": "stderr",
     "output_type": "stream",
     "text": [
      "C:\\Users\\THETANG\\anaconda3\\lib\\site-packages\\numpy\\core\\_asarray.py:136: VisibleDeprecationWarning: Creating an ndarray from ragged nested sequences (which is a list-or-tuple of lists-or-tuples-or ndarrays with different lengths or shapes) is deprecated. If you meant to do this, you must specify 'dtype=object' when creating the ndarray\n",
      "  return array(a, dtype, copy=False, order=order, subok=True)\n"
     ]
    },
    {
     "data": {
      "image/png": "[encoded data removed]",
      "text/plain": [
       "<Figure size 576x360 with 1 Axes>"
      ]
     },
     "metadata": {
      "needs_background": "light"
     },
     "output_type": "display_data"
    }
   ],
   "source": [
    "X1_train = X1[0:80,:]\n",
    "X1_test = X1[80:,:]\n",
    "X2_train = X2[0:80,:]\n",
    "X2_test = X2[80:,:]\n",
    "\n",
    "X_train = np.concatenate((X1_train, X2_train), 0)\n",
    "y_train = np.concatenate((np.zeros((80,1)), np.ones((80,1))), 0)\n",
    "X_test = np.concatenate((X1_test, X2_test), 0)\n",
    "y_test = np.concatenate((np.zeros((20,1)), np.ones((20,1))), 0)\n",
    "\n",
    "def predict(X, theta):\n",
    "    return 1 / (1 + np.exp(- X @ theta))\n",
    "\n",
    "def loglike(y, ypred):\n",
    "    return sum(y * np.log(ypred) + (1-y) * np.log(1-ypred))[0]\n",
    "\n",
    "def accuracy(y, ypred):\n",
    "    return sum((ypred >= 0.5) == (y == 1)) / y.size\n",
    "    \n",
    "test_idx_0 = (y_test==0).reshape(X_test.shape[0])\n",
    "test_idx_1 = (y_test==1).reshape(X_test.shape[0])\n",
    "\n",
    "theta = np.array([[-4,0,1]]).T\n",
    "theta_best = theta\n",
    "loglike_test_best = 0\n",
    "alpha = 0.001\n",
    "for i in range(0,400):\n",
    "    ypred_train = predict(X_train, theta)\n",
    "    loglike_train = loglike(y_train, ypred_train)\n",
    "    acc_train = accuracy(y_train, ypred_train)\n",
    "    ypred_test = predict(X_test, theta)\n",
    "    loglike_test = loglike(y_test, ypred_test)\n",
    "    acc_test = accuracy(y_test, ypred_test)\n",
    "    sbest = ''\n",
    "    if i == 0 or loglike_test > loglike_test_best:\n",
    "        loglike_test_best = loglike_test\n",
    "        theta_best = theta\n",
    "        sbest = '*'\n",
    "    print('Iter %d: parms (%f, %f, %f), trn like %f acc %f test like %f acc %f %s' %\n",
    "          (i, theta[0], theta[1], theta[2], loglike_train, acc_train, loglike_test, acc_test, sbest))\n",
    "    dtheta = X_train.T @ (y_train - ypred_train)\n",
    "    theta = theta + alpha * dtheta\n",
    "\n",
    "def plot_line(plot_handle, theta):\n",
    "    X11 = -3.5\n",
    "    X12 = (- theta[0] - theta[1] * X11) / theta[2]\n",
    "    X21 = 3.5\n",
    "    X22 = (- theta[0] - theta[1] * X21) / theta[2]\n",
    "    plot_handle.plot([X11, X21], [X21, X22], 'k-')\n",
    "\n",
    "plt.figure(figsize=(8, 5))\n",
    "plt.plot(X_test[test_idx_0, 1], X_test[test_idx_0, 2], 'ro', label='Class 1')\n",
    "plt.plot(X_test[test_idx_1, 1], X_test[test_idx_1, 2], 'bo', label='Class 2')\n",
    "plot_line(plt, theta_best)\n",
    "plt.xlim([-3.5,3.5])\n",
    "plt.legend()\n",
    "plt.title('Best logistic regression classifier')\n",
    "\n",
    "print('Best parameters: (%f, %f, %f)' % (theta_best[0], theta_best[1], theta_best[2]))\n"
   ]
  },
  {
   "cell_type": "markdown",
   "metadata": {},
   "source": [
    "4. **Transform the data to contain five input variables: $x_1$, $x_2$, $x_1^2$, $x_2^2$, and $x_1x_2$. Build a new logistic regression model, report its training and test set accuracy, and optimal parameters here:**"
   ]
  },
  {
   "cell_type": "code",
   "execution_count": 9,
   "metadata": {},
   "outputs": [
    {
     "name": "stdout",
     "output_type": "stream",
     "text": [
      "Iter 0: parms (-4.000000, 0.000000, 1.000000, 0.000000, 0.000000, 0.000000), trn like -178.204232 acc 0.681250 test like -45.261525 acc 0.750000 *\n",
      "Iter 10000: parms (-4.118239, -0.059935, 1.003824, -1.803921, 0.060310, 0.032337), trn like -32.652587 acc 0.918750 test like -6.860220 acc 0.925000 *\n",
      "Iter 20000: parms (-4.264272, -0.125462, 1.019916, -2.170004, 0.083014, 0.042279), trn like -30.966179 acc 0.918750 test like -6.164223 acc 0.925000 *\n",
      "Iter 30000: parms (-4.404827, -0.178958, 1.047420, -2.348506, 0.092921, 0.049474), trn like -30.402300 acc 0.918750 test like -5.918262 acc 0.925000 *\n",
      "Iter 40000: parms (-4.539711, -0.223004, 1.080903, -2.450810, 0.097406, 0.054962), trn like -30.082226 acc 0.918750 test like -5.795987 acc 0.925000 *\n",
      "Iter 50000: parms (-4.669633, -0.259465, 1.117056, -2.514091, 0.099120, 0.059261), trn like -29.846063 acc 0.918750 test like -5.723510 acc 0.925000 *\n",
      "Iter 60000: parms (-4.795121, -0.289691, 1.154183, -2.555264, 0.099297, 0.062676), trn like -29.648325 acc 0.918750 test like -5.674728 acc 0.925000 *\n",
      "Iter 70000: parms (-4.916554, -0.314721, 1.191378, -2.583230, 0.098590, 0.065407), trn like -29.472747 acc 0.918750 test like -5.638245 acc 0.925000 *\n",
      "Iter 80000: parms (-5.034224, -0.335390, 1.228143, -2.603060, 0.097372, 0.067593), trn like -29.312443 acc 0.918750 test like -5.608464 acc 0.925000 *\n",
      "Iter 90000: parms (-5.148367, -0.352389, 1.264207, -2.617782, 0.095862, 0.069342), trn like -29.164008 acc 0.918750 test like -5.582442 acc 0.925000 *\n"
     ]
    }
   ],
   "source": [
    "def augment(X):\n",
    "    m = X.shape[0]\n",
    "    return np.concatenate(\n",
    "        (X,\n",
    "         (X[:,1] * X[:,1]).reshape(m,1),\n",
    "         (X[:,2] * X[:,2]).reshape(m,1),\n",
    "         (X[:,1] * X[:,2]).reshape(m,1)), 1)\n",
    "\n",
    "\n",
    "XX_train = augment(X_train)\n",
    "XX_test = augment(X_test)\n",
    "\n",
    "theta = np.array([[-4,0,1,0,0,0]]).T\n",
    "theta_best = theta\n",
    "loglike_test_best = 0\n",
    "alpha = 0.00001\n",
    "for i in range(0,100000):\n",
    "    ypred_train = predict(XX_train, theta)\n",
    "    loglike_train = loglike(y_train, ypred_train)\n",
    "    acc_train = accuracy(y_train, ypred_train)\n",
    "    ypred_test = predict(XX_test, theta)\n",
    "    loglike_test = loglike(y_test, ypred_test)\n",
    "    acc_test = accuracy(y_test, ypred_test)\n",
    "    sbest = ''\n",
    "    if i == 0 or loglike_test > loglike_test_best:\n",
    "        loglike_test_best = loglike_test\n",
    "        theta_best = theta\n",
    "        sbest = '*'\n",
    "    if i % 10000 == 0:\n",
    "        print('Iter %d: parms (%f, %f, %f, %f, %f, %f), trn like %f acc %f test like %f acc %f %s' %\n",
    "              (i, theta[0], theta[1], theta[2], theta[3], theta[4], theta[5], loglike_train, acc_train, loglike_test, acc_test, sbest))\n",
    "    dtheta = XX_train.T @ (y_train - ypred_train)\n",
    "    theta = theta + alpha * dtheta"
   ]
  },
  {
   "cell_type": "code",
   "execution_count": 10,
   "metadata": {},
   "outputs": [
    {
     "name": "stdout",
     "output_type": "stream",
     "text": [
      "Best parameters: (-5.259172, -0.366295, 1.299425, -2.629256, 0.094196, 0.070733)\n"
     ]
    },
    {
     "data": {
      "image/png": "[encoded data removed]",
      "text/plain": [
       "<Figure size 576x360 with 1 Axes>"
      ]
     },
     "metadata": {
      "needs_background": "light"
     },
     "output_type": "display_data"
    }
   ],
   "source": [
    "\n",
    "plt.figure(figsize=(8, 5))\n",
    "y_pred_best = predict(XX_test, theta_best)\n",
    "idx_correct = (y_pred_best < 0.5) == (y_test == 0)\n",
    "idx_correct_0 = ((y_test == 0) & idx_correct).reshape(40)\n",
    "idx_correct_1 = ((y_test == 1) & idx_correct).reshape(40)\n",
    "idx_incorrect_0 = ((y_test == 0) & ~idx_correct).reshape(40)\n",
    "idx_incorrect_1 = ((y_test == 1) & ~idx_correct).reshape(40)\n",
    "\n",
    "plt.plot(X_test[idx_correct_0, 1], X_test[idx_correct_0, 2], 'ro', label='Class 0 correct')\n",
    "plt.plot(X_test[idx_correct_1, 1], X_test[idx_correct_1, 2], 'bo', label='Class 1 correct')\n",
    "plt.plot(X_test[idx_incorrect_0, 1], X_test[idx_incorrect_0, 2], 'r*', label='Class 0 incorrect', ms=20)\n",
    "plt.plot(X_test[idx_incorrect_1, 1], X_test[idx_incorrect_1, 2], 'b*', label='Class 1 incorrect', ms=20)\n",
    "plt.xlim([-3.5,3.5])\n",
    "plt.legend()\n",
    "plt.title('Best augmented logistic regression classifier')\n",
    "\n",
    "print('Best parameters: (%f, %f, %f, %f, %f, %f)' % (theta_best[0], theta_best[1], theta_best[2], theta_best[3], theta_best[4], theta_best[5]))"
   ]
  },
  {
   "cell_type": "markdown",
   "metadata": {},
   "source": [
    "## Question 5 (20 points)\n",
    "\n",
    "Suppose you were interested in predicting the number of traffic fatalities that occur at a given traffic intersection based on various factors that might indicate the level of danger at that intersection: number of lanes, speed limit, types and number of businesses close to the intersection, curvature of the roads leading to the intersection, number of people that live in the surrounding area, and so on.\n",
    "\n",
    "Imagine that you obtain monthly fatality counts for 500 intersections in Bangkok and also obtain the necessary input data on the characteristics of the intersections then start to model.\n",
    "\n",
    "The standard linear regression model would consider the outcome (the number of traffic fatalities per month) as a Gaussian random variable with a mean of $\\mathbf{\\theta}^T\\mathbf{x}$. But that might not be the best approach for this problem.\n",
    "\n",
    "For example, you might consider the [Poisson distribution](https://en.wikipedia.org/wiki/Poisson_distribution).\n",
    "\n",
    "**Do the following.**\n",
    "\n",
    "1. **Read briefly about the Poisson distribution and explain here why it would be a better model of the outcome (number of traffic fatalities per month at a particular intersection) than a Gaussian.**\n",
    "\n",
    "2. **Noting that the Poisson distribution is a member of the exponential family, explain in general how you could use the GLM approach to come up with a model that predicts the fatality rate to be a Poisson random variable with mean** $\\lambda = \\exp(\\mathbf{\\theta}^T\\textbf{x})$. **(Note that the exponential here is just to convert the linear combination of inputs, which could be positive or negative, to a strictly positive value.)**\n",
    "\n",
    "Note that for part 2, *you do not need to derive any equations*! Just explain what steps you would take to obtain a good machine learning algorithm for this problem.\n"
   ]
  },
  {
   "cell_type": "markdown",
   "metadata": {},
   "source": [
    "\n",
    "**Solution:**\n",
    "\n",
    "1. A Gaussian random variable has a range of $-\\infty$ to $\\infty$, with nonzero probability for every value in that range. Clearly, the probability of observing a negative number of fatalities at an intersection is zero. The Gaussian would have to be modified somehow (truncation?) to accurately model the observation. The truncated Gaussian probably wouldn't be a member of the exponential family any more.\n",
    "\n",
    "   A Poisson random variable, on the other hand, models exactly what we want, i.e., a distribution over the number $k$ of events occurring in a given range of time. It is only valid for integer values of $k \\ge 0$. \n",
    "\n",
    "2. We would first model the Poisson as a member of the exponential family, with parameter $\\lambda$, the expected number of fatalities per month at a given intersection. This will allow us to write down the log likelihood function, take the gradient of the log likelihood with respect to $\\mathbf{\\theta}$, and thereby arrive at an estimation algorithm for $\\mathbf{\\theta}$. Once we have the estimation algorithm, given a dataset, we guess an initial value for $\\mathbf{\\theta}$ and use gradient ascent to find the maximum."
   ]
  },
  {
   "cell_type": "code",
   "execution_count": null,
   "metadata": {},
   "outputs": [],
   "source": []
  }
 ],
 "metadata": {
  "kernelspec": {
   "display_name": "Python 3",
   "language": "python",
   "name": "python3"
  },
  "language_info": {
   "codemirror_mode": {
    "name": "ipython",
    "version": 3
   },
   "file_extension": ".py",
   "mimetype": "text/x-python",
   "name": "python",
   "nbconvert_exporter": "python",
   "pygments_lexer": "ipython3",
   "version": "3.8.10"
  }
 },
 "nbformat": 4,
 "nbformat_minor": 4
}
