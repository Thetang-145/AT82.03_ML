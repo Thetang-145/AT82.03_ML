{
 "cells": [
  {
   "cell_type": "markdown",
   "metadata": {},
   "source": [
    "Before you turn this problem in, make sure everything runs as expected. First, **restart the kernel** (in the menubar, select Kernel$\\rightarrow$Restart) and then **run all cells** (in the menubar, select Cell$\\rightarrow$Run All).\n",
    "\n",
    "Make sure you fill in any place that says `YOUR CODE HERE` or \"YOUR ANSWER HERE\", as well as your name and collaborators below:"
   ]
  },
  {
   "cell_type": "code",
   "execution_count": 28,
   "metadata": {},
   "outputs": [],
   "source": [
    "NAME = \"Nopphawan Nurnuansuwan\"\n",
    "ID = \"122410\""
   ]
  },
  {
   "cell_type": "markdown",
   "metadata": {},
   "source": [
    "---"
   ]
  },
  {
   "cell_type": "markdown",
   "metadata": {},
   "source": [
    "# Lab 07: Support Vector Machines\n",
    "\n",
    "Today we'll look at the SVM maximum margin classification problem and how we can implement the optimization\n",
    "in Python.\n",
    "\n",
    "We'll use the cvxopt quadratic programming optimizer in Python.\n",
    "\n",
    "Later in the lectures, we'll see that more specialized algorithms such as Sequential Minimal Optimization\n",
    "implemented by the machine learning libraries are more effective for large SVM problems."
   ]
  },
  {
   "cell_type": "markdown",
   "metadata": {},
   "source": [
    "## Linearly separable case: Direct solution using quadratic programming\n",
    "\n",
    "If we assume that the data are linearly separable, we can use the following setup for the optimization:\n",
    "- The data are pairs $(\\mathbf{x}^{(i)},y^{(i)})$ with $\\mathbf{x}^{(i)} \\in \\mathbb{R}^n$ and $y^{(i)} \\in \\{-1,1\\}$.\n",
    "- The hypothesis is\n",
    "  $$h_{\\mathbf{w},b}(\\mathbf{x}) = \\begin{cases} 1 & \\text{if} \\; \\mathbf{w}^\\top \\mathbf{x} + b > 0 \\\\ -1 & \\text{otherwise} \\end{cases}$$\n",
    "- The objective function is\n",
    "  $$\\mathbf{w}^*,b^* = \\mathrm{argmax}_{\\mathbf{w},b} \\gamma,$$\n",
    "  where $\\gamma$ is the minimum geometric margin for the training data:\n",
    "  $$\\gamma = \\min_i \\gamma^{(i)}$$\n",
    "  and $\\gamma^{(i)}$ is the geometric margin for training example $i$, i.e., the signed distance of $\\mathbf{x}^{(i)}$ from the decision boundary,\n",
    "  with positive distances indicating that the point is on the correct side of the boundary and negative distances indicating that the point is on the\n",
    "  incorrect side of the boundary:\n",
    "  $$\\gamma^{(i)} = y^{(i)}\\left( \\left( \\frac{\\mathbf{w}}{\\|\\mathbf{w}\\|} \\right)^\\top \\mathbf{x}^{(i)} + \\frac{b}{\\| \\mathbf{w}\\|} \\right). $$\n",
    "- As we derived in lecture, to find the optimal $\\mathbf{w},b$ according to the objective function above, we can in its place solve the constrained\n",
    "  optimization problem\n",
    "  $$ \\begin{array}{rl} \\min_{\\mathbf{w},b} & \\frac{1}{2}\\|\\mathbf{w}\\|^2 \\\\\n",
    "                     \\text{subject to} & y^{(i)}(\\mathbf{w}^\\top\\mathbf{x}^{(i)}+b)\\ge 1, i \\in 1..m\n",
    "   \\end{array}\n",
    "  $$\n",
    "  \n",
    "So let's do it! In case you don't already have the cvxopt pip package installed:"
   ]
  },
  {
   "cell_type": "code",
   "execution_count": 29,
   "metadata": {},
   "outputs": [
    {
     "name": "stdout",
     "output_type": "stream",
     "text": [
      "Requirement already satisfied: cvxopt in /opt/conda/lib/python3.8/site-packages (1.2.7)\r\n"
     ]
    }
   ],
   "source": [
    "# Run in case there is no cvxopt installed. You can also do this in a separate terminal.\n",
    "\n",
    "!https_proxy=http://192.41.170.23:3128 http_proxy=http://192.41.170.23:3128 pip install cvxopt"
   ]
  },
  {
   "cell_type": "code",
   "execution_count": 30,
   "metadata": {},
   "outputs": [],
   "source": [
    "import numpy as np\n",
    "import matplotlib.pyplot as plt\n",
    "import cvxopt"
   ]
  },
  {
   "cell_type": "markdown",
   "metadata": {},
   "source": [
    "Here are some sample data. In this example, we've planted some specific points that will serve as the support vectors so that we know the \"correct\" answer for the maximum margin hyperplane."
   ]
  },
  {
   "cell_type": "code",
   "execution_count": 31,
   "metadata": {},
   "outputs": [],
   "source": [
    "Xf = np.matrix([[ 164.939, 163.431, 157.554, 152.785, 156.385, 159.242, 156.281, 164.411, 157.308, 159.579 ],\n",
    "                [  56.927,  48.945,  45.678,  45.969,  40.896,  46.848,  42.225,  42.380,  42.150,  49.739 ]]).T;\n",
    "Xm = np.matrix([[ 168.524, 171.597, 179.469, 176.063, 180.939, 177.011, 183.284, 180.549, 176.502, 185.392 ],\n",
    "                [  64.353,  61.793,  74.552,  69.851,  74.730,  75.871,  79.170,  79.753,  64.923,  73.665 ]]).T;\n",
    "X = np.concatenate([Xf, Xm],0);\n",
    "y = np.concatenate([-np.matrix(np.ones([10,1])),np.matrix(np.ones([10,1]))]);"
   ]
  },
  {
   "cell_type": "code",
   "execution_count": 32,
   "metadata": {},
   "outputs": [
    {
     "name": "stdout",
     "output_type": "stream",
     "text": [
      "(20, 2)\n",
      "(20, 1)\n"
     ]
    }
   ],
   "source": [
    "print(X.shape)\n",
    "print(y.shape)"
   ]
  },
  {
   "cell_type": "code",
   "execution_count": 33,
   "metadata": {},
   "outputs": [
    {
     "data": {
      "image/png": "[encoded data removed]",
      "text/plain": [
       "<Figure size 432x288 with 1 Axes>"
      ]
     },
     "metadata": {
      "needs_background": "light"
     },
     "output_type": "display_data"
    }
   ],
   "source": [
    "# Plot the data\n",
    "def plot_mf(Xf,Xm):\n",
    "    axes = plt.axes()\n",
    "    females_series = plt.scatter(np.array(Xf[:,0]), np.array(Xf[:,1]), s=30, c='b', marker='o', label='Females')\n",
    "    males_series = plt.scatter(np.array(Xm[:,0]), np.array(Xm[:,1]), s=30, c='y', marker='o', label='Males')\n",
    "    axes.set_aspect('equal', 'datalim')\n",
    "    plt.xlabel('Height')\n",
    "    plt.ylabel('Weight')\n",
    "    plt.title('Height-weight data for males and females (fake data!)')\n",
    "    plt.legend(handles=[females_series, males_series], bbox_to_anchor=(1.05, 1), loc=2, borderaxespad=0.)\n",
    "    return axes\n",
    "\n",
    "def plot_w(axes, w, b):\n",
    "    w = w.reshape(-1,1)\n",
    "    ylim = axes.get_ylim()\n",
    "    xlim = axes.get_xlim()\n",
    "    p1 = (xlim[0], - (w[0,0] * xlim[0] + b) / w[1,0])\n",
    "    p2 = (xlim[1], - (w[0,0] * xlim[1] + b) / w[1,0])\n",
    "    plt.plot((p1[0],p2[0]), (p1[1],p2[1]), 'r-')\n",
    "    \n",
    "plot_mf(Xf, Xm)\n",
    "plt.show()"
   ]
  },
  {
   "cell_type": "markdown",
   "metadata": {
    "deletable": false,
    "editable": false,
    "nbgrader": {
     "cell_type": "markdown",
     "checksum": "d16ba799f8e97249e6655200ae9eeb7e",
     "grade": false,
     "grade_id": "cell-1d103ab78869ba19",
     "locked": true,
     "schema_version": 3,
     "solution": false,
     "task": false
    }
   },
   "source": [
    "## Exercise 1 (in lab): Linearly separable data (total of 25 points)\n",
    "\n",
    "Take the example data and SVM optimization code using cvxopt from the exercise in lecture. Verify that you can find the decision boundary for such \"easy\" cases.\n",
    "Show your results in your lab report. We'll go step by step below."
   ]
  },
  {
   "cell_type": "markdown",
   "metadata": {
    "deletable": false,
    "editable": false,
    "nbgrader": {
     "cell_type": "markdown",
     "checksum": "fbb8ff7b2e821107d2fdfd42414f9800",
     "grade": false,
     "grade_id": "cell-e315984c5219307a",
     "locked": true,
     "schema_version": 3,
     "solution": false,
     "task": false
    }
   },
   "source": [
    "### Exercise 1.1 Create SVM function using cvopt (5 points)\n",
    "\n",
    "You'll want to ensure that $\\mathtt{Q}$ is symmetric by setting it to $(\\mathtt{Q} + \\mathtt{Q}^\\top)/2$.\n",
    "Then create an `args` variable containing $\\mathtt{Q}$ and $\\mathbf{c}$, each converted from numpy to\n",
    "cvxopt using `cvxopt.matrix(numpy_matrix)`. If `A` is supplied, you should add `A` and `B` to the\n",
    "list of arguments, and if `E` is supplied, you should add `E` and `d` to the list of arguments. Finally,\n",
    "you can call `cvxopt.solvers.qp(*args)`. If the status returned is `optimal` return the valid solution else\n",
    "return `None`."
   ]
  },
  {
   "cell_type": "code",
   "execution_count": 34,
   "metadata": {},
   "outputs": [],
   "source": [
    "#E = cvxopt.matrix(E, (1, m), 'd')"
   ]
  },
  {
   "cell_type": "code",
   "execution_count": 35,
   "metadata": {
    "deletable": false,
    "nbgrader": {
     "cell_type": "code",
     "checksum": "91c73ec55643e4c87e0236cf3c0e99bc",
     "grade": false,
     "grade_id": "cell-b725a5d7df43afc7",
     "locked": false,
     "schema_version": 3,
     "solution": true,
     "task": false
    }
   },
   "outputs": [],
   "source": [
    "def cvxopt_solve_qp(Q, c, A=None, B=None, E=None, d=None):\n",
    "    Q_new = (Q+Q.T)/2\n",
    "    args = [cvxopt.matrix(Q_new), cvxopt.matrix(c)]\n",
    "    if A is not None:\n",
    "        args.extend([cvxopt.matrix(A), cvxopt.matrix(B)])\n",
    "        if E is not None:\n",
    "            args.extend([cvxopt.matrix(E, (1, c.shape[0]), 'd'), cvxopt.matrix(d)])\n",
    "    sol = cvxopt.solvers.qp(*args)\n",
    "    if sol is not None and 'optimal' not in sol['status']:\n",
    "        return None\n",
    "    x = sol['x']\n",
    "    return np.array(x).reshape(-1)"
   ]
  },
  {
   "cell_type": "code",
   "execution_count": 36,
   "metadata": {
    "deletable": false,
    "editable": false,
    "nbgrader": {
     "cell_type": "code",
     "checksum": "cffc0152473ac7fd00036068fcc5af8b",
     "grade": true,
     "grade_id": "cell-578fb1a6746cabe5",
     "locked": true,
     "points": 10,
     "schema_version": 3,
     "solution": false,
     "task": false
    }
   },
   "outputs": [
    {
     "name": "stdout",
     "output_type": "stream",
     "text": [
      "     pcost       dcost       gap    pres   dres\n",
      " 0:  2.8800e-02  1.0464e+00  1e+01  1e+00  3e+01\n",
      " 1:  1.8859e-01 -8.5852e-01  1e+00  2e-01  3e+00\n",
      " 2:  1.6523e-01  3.7852e-02  1e-01  4e-16  4e-16\n",
      " 3:  8.2300e-02  7.2465e-02  1e-02  6e-16  3e-15\n",
      " 4:  8.0043e-02  7.9915e-02  1e-04  7e-16  2e-16\n",
      " 5:  8.0000e-02  7.9999e-02  1e-06  2e-16  1e-15\n",
      " 6:  8.0000e-02  8.0000e-02  1e-08  8e-16  1e-15\n",
      "Optimal solution found.\n",
      "x_test: [-0.40000001  4.20000012]\n",
      "success!\n"
     ]
    }
   ],
   "source": [
    "# Test function: Do not remove\n",
    "Q_test = np.array([[1, 0],[0, 0]])\n",
    "c_test = np.zeros([2])\n",
    "A_test = np.array([[15., 1.],[14., 1.], [13., 1], [-5.,-1.],[-6.,-1.],[-8,-1]])\n",
    "B_test = -np.ones([6])\n",
    "try:\n",
    "    x_test = cvxopt_solve_qp(Q_test, c_test, A_test, B_test)\n",
    "    print('x_test:', x_test)\n",
    "except:\n",
    "    assert False, \"cvxopt_solve_qp is incorrect\"\n",
    "\n",
    "print(\"success!\")\n",
    "# End Test function"
   ]
  },
  {
   "cell_type": "markdown",
   "metadata": {
    "deletable": false,
    "editable": false,
    "nbgrader": {
     "cell_type": "markdown",
     "checksum": "5e3d907f964efd168916d89b5805ca67",
     "grade": false,
     "grade_id": "cell-163f9b78fbd51036",
     "locked": true,
     "schema_version": 3,
     "solution": false,
     "task": false
    }
   },
   "source": [
    "**Expected result (or look-alike)**:\\\n",
    "     pcost       dcost       gap    pres   dres\\\n",
    " 0:  2.8800e-02  1.0464e+00  1e+01  1e+00  3e+01\\\n",
    " 1:  1.8859e-01 -8.5852e-01  1e+00  2e-01  3e+00\\\n",
    " 2:  1.6523e-01  3.7852e-02  1e-01  4e-16  4e-16\\\n",
    " 3:  8.2300e-02  7.2465e-02  1e-02  6e-16  3e-15\\\n",
    " 4:  8.0043e-02  7.9915e-02  1e-04  7e-16  2e-16\\\n",
    " 5:  8.0000e-02  7.9999e-02  1e-06  2e-16  1e-15\\\n",
    " 6:  8.0000e-02  8.0000e-02  1e-08  8e-16  1e-15\\\n",
    "Optimal solution found.\\\n",
    "x_test: [-0.40000001  4.20000012]\\"
   ]
  },
  {
   "cell_type": "markdown",
   "metadata": {
    "deletable": false,
    "editable": false,
    "nbgrader": {
     "cell_type": "markdown",
     "checksum": "e61785a2741aba9ecee743b1d4ea5019",
     "grade": false,
     "grade_id": "cell-4ab09d896374cbc6",
     "locked": true,
     "schema_version": 3,
     "solution": false,
     "task": false
    }
   },
   "source": [
    "### Exercise 1.2: Find Q, c, A, B for input into cvxopt_solve_qp function (10 points)\n",
    "\n",
    "Now you should use the `cvxopt_solve_qp` function to find $\\mathbf{w}$ and $b$ for the data $\\mathtt{X}, \\mathbf{y}$ prepared earlier. You'll need to set up numpy arrays for $\\mathtt{Q}$, $\\mathbf{c}$, $\\mathtt{A}$, and $\\mathtt{B}$ that when passed to the QP solver will give us the optimal decision boundary."
   ]
  },
  {
   "cell_type": "code",
   "execution_count": 37,
   "metadata": {
    "deletable": false,
    "nbgrader": {
     "cell_type": "code",
     "checksum": "f2ec32f56a4be9634e842a491be5ff4e",
     "grade": false,
     "grade_id": "cell-b3c4535270564f26",
     "locked": false,
     "schema_version": 3,
     "solution": true,
     "task": false
    }
   },
   "outputs": [
    {
     "name": "stdout",
     "output_type": "stream",
     "text": [
      "     pcost       dcost       gap    pres   dres\n",
      " 0:  1.4721e-03  6.5053e+00  5e+01  2e+00  4e+02\n",
      " 1:  1.0012e-02 -4.7161e+00  1e+01  6e-01  1e+02\n",
      " 2:  2.6180e-02 -4.8172e+00  7e+00  2e-01  6e+01\n",
      " 3:  3.9767e-02 -4.5363e-01  5e-01  1e-02  2e+00\n",
      " 4:  3.5404e-02  1.8200e-02  2e-02  4e-15  2e-13\n",
      " 5:  3.1392e-02  3.0877e-02  5e-04  6e-15  2e-12\n",
      " 6:  3.1250e-02  3.1245e-02  5e-06  4e-15  6e-13\n",
      " 7:  3.1249e-02  3.1248e-02  5e-08  4e-15  2e-13\n",
      "Optimal solution found.\n"
     ]
    }
   ],
   "source": [
    "m, n = X.shape\n",
    "Q = np.eye(n+1)\n",
    "Q[-1][-1] = 0\n",
    "c = np.zeros(n+1)\n",
    "A = np.multiply(np.concatenate((X, np.ones((m,1))), axis=1),-y)\n",
    "B = -np.ones([m])\n",
    "\n",
    "x = cvxopt_solve_qp(Q, c, A, B)"
   ]
  },
  {
   "cell_type": "code",
   "execution_count": 38,
   "metadata": {
    "deletable": false,
    "editable": false,
    "nbgrader": {
     "cell_type": "code",
     "checksum": "dbc62596523e99288764720015ba5f84",
     "grade": true,
     "grade_id": "cell-f03eb689e172de12",
     "locked": true,
     "points": 10,
     "schema_version": 3,
     "solution": false,
     "task": false
    }
   },
   "outputs": [
    {
     "name": "stdout",
     "output_type": "stream",
     "text": [
      "Q:\n",
      " [[1. 0. 0.]\n",
      " [0. 1. 0.]\n",
      " [0. 0. 0.]]\n",
      "c:\n",
      " [0. 0. 0.]\n",
      "A:\n",
      " [[ 164.411   42.38     1.   ]\n",
      " [ 157.308   42.15     1.   ]\n",
      " [ 159.579   49.739    1.   ]\n",
      " [-168.524  -64.353   -1.   ]\n",
      " [-171.597  -61.793   -1.   ]\n",
      " [-179.469  -74.552   -1.   ]]\n",
      "B:\n",
      " [-1. -1. -1. -1. -1. -1. -1. -1. -1. -1. -1. -1. -1. -1. -1. -1. -1. -1.\n",
      " -1. -1.]\n",
      "x:\n",
      " [  0.16001143   0.19207647 -38.32646165]\n",
      "success!\n"
     ]
    }
   ],
   "source": [
    "print('Q:\\n', Q)\n",
    "print('c:\\n', c)\n",
    "print('A:\\n', A[7:13])\n",
    "print('B:\\n', B)\n",
    "print('x:\\n', x)\n",
    "# Test function: Do not remove\n",
    "assert Q.shape == (3, 3) and Q[2,2] == Q[0,1] and Q[2,0] == 0 and Q[0,0] == Q[1,1] and Q[0,0] == 1, 'Q value is incorrect'\n",
    "assert c.shape == 3 or c.shape == (3,) or c.shape == (3,1), 'Size of c is incorrect'\n",
    "assert np.all((c == 0)), 'c value is incorrect'\n",
    "assert A.shape == (20,3), 'Size of A is incorrect'\n",
    "assert np.max(A[:,2]) == 1 and np.min(A[:,2]) == -1, 'A value is incorrect'\n",
    "assert not np.array_equal(np.round(A[:,0:2],1), np.round(X,1)), 'A value is incorrect'\n",
    "assert np.array_equal(np.round(x,1), np.round([0.16001143, 0.19207647, -38.32646165],1)), 'x value is incorrect'\n",
    "\n",
    "print(\"success!\")\n",
    "# End Test function"
   ]
  },
  {
   "cell_type": "markdown",
   "metadata": {
    "deletable": false,
    "editable": false,
    "nbgrader": {
     "cell_type": "markdown",
     "checksum": "95c1fa1fe1e39871c75c3d86abb01e16",
     "grade": false,
     "grade_id": "cell-f9097502c97cb76d",
     "locked": true,
     "schema_version": 3,
     "solution": false,
     "task": false
    }
   },
   "source": [
    "**Expected Result (or look-alike)**:\\\n",
    "Q:\\\n",
    " [[1. 0. 0.]\\\n",
    " [0. 1. 0.]\\\n",
    " [0. 0. 0.]]\\\n",
    "c:\\\n",
    " [0. 0. 0.]\\\n",
    "A:\\\n",
    " [[ 164.411   42.38     1.   ]\\\n",
    " [ 157.308   42.15     1.   ]\\\n",
    " [ 159.579   49.739    1.   ]\\\n",
    " [-168.524  -64.353   -1.   ]\\\n",
    " [-171.597  -61.793   -1.   ]\\\n",
    " [-179.469  -74.552   -1.   ]]\\\n",
    "B:\\\n",
    " [-1. -1. -1. -1. -1. -1. -1. -1. -1. -1. -1. -1. -1. -1. -1. -1. -1. -1. -1. -1.]\\\n",
    "x:\\\n",
    " [  0.16001143   0.19207647 -38.32646165]\\"
   ]
  },
  {
   "cell_type": "markdown",
   "metadata": {
    "deletable": false,
    "editable": false,
    "nbgrader": {
     "cell_type": "markdown",
     "checksum": "8d7e6a3d7e92daa8cb7bed1b1578500f",
     "grade": false,
     "grade_id": "cell-a602aa628ce04a87",
     "locked": true,
     "schema_version": 3,
     "solution": false,
     "task": false
    }
   },
   "source": [
    "### Exercise 1.3: Use x from above to find w and b (5 points)\n",
    "\n",
    "Now you've got the optimal parameter vector for the QP problem. Extract $\\mathbf{w}$ and $b$, and be sure to normalize $\\mathbf{w}$ to unit length and $b$ accordingly."
   ]
  },
  {
   "cell_type": "code",
   "execution_count": 39,
   "metadata": {
    "deletable": false,
    "nbgrader": {
     "cell_type": "code",
     "checksum": "0b4e7e94a0a3774594ae6223ef9a022e",
     "grade": false,
     "grade_id": "cell-a4ea37e3ba33da01",
     "locked": false,
     "schema_version": 3,
     "solution": true,
     "task": false
    }
   },
   "outputs": [],
   "source": [
    "x_norm = x/np.sqrt(np.sum(x[:-1]**2))\n",
    "w = x_norm[:-1].reshape(-1,1)\n",
    "b = x_norm[-1]"
   ]
  },
  {
   "cell_type": "code",
   "execution_count": 40,
   "metadata": {
    "deletable": false,
    "editable": false,
    "nbgrader": {
     "cell_type": "code",
     "checksum": "c93c59bb9029b7b28d36eeab7ebc6b46",
     "grade": true,
     "grade_id": "cell-1a06a5cefb1fda2c",
     "locked": true,
     "points": 5,
     "schema_version": 3,
     "solution": false,
     "task": false
    }
   },
   "outputs": [
    {
     "name": "stdout",
     "output_type": "stream",
     "text": [
      "Optimal w: [0.640061 0.768324] b: -153.309495\n"
     ]
    },
    {
     "data": {
      "image/png": "[encoded data removed]",
      "text/plain": [
       "<Figure size 432x288 with 1 Axes>"
      ]
     },
     "metadata": {
      "needs_background": "light"
     },
     "output_type": "display_data"
    },
    {
     "name": "stdout",
     "output_type": "stream",
     "text": [
      "success!\n"
     ]
    }
   ],
   "source": [
    "print('Optimal w: [%f %f] b: %f' % (w[0,0],w[1,0],b))\n",
    "\n",
    "axes = plot_mf(Xf, Xm)\n",
    "plot_w(axes, w, b)\n",
    "plt.show()\n",
    "\n",
    "# Test function: Do not remove\n",
    "assert w.shape == 2 or w.shape ==(2,) or w.shape == (2,1), 'Size of w is incorrect'\n",
    "assert w[0] > 0 and w[1] > 0 and w[0] <= 1 and w[1] <= 1, 'w value is incorrect'\n",
    "assert isinstance(b, (float, int)), 'Type of b is incorrect'\n",
    "assert b < 0, 'b value is incorrect'\n",
    "\n",
    "print(\"success!\")\n",
    "# End Test function"
   ]
  },
  {
   "attachments": {
    "lab06-1.png": {
     "image/png": "[encoded data removed]"
    }
   },
   "cell_type": "markdown",
   "metadata": {
    "deletable": false,
    "editable": false,
    "nbgrader": {
     "cell_type": "markdown",
     "checksum": "bb2e793c9428b7a3a4fe55e0be10901e",
     "grade": false,
     "grade_id": "cell-5cbe18da87dae14d",
     "locked": true,
     "schema_version": 3,
     "solution": false,
     "task": false
    }
   },
   "source": [
    "**Expected result (Or look-alike)**:\\\n",
    "Optimal w: [0.640061 0.768324] b: -153.309495\n",
    "\n",
    "![lab06-1.png](attachment:lab06-1.png)"
   ]
  },
  {
   "cell_type": "markdown",
   "metadata": {},
   "source": [
    "Here's some code to get the prediction accuracy of a linear SVM with parameters $\\mathbf{w}$ and $b$ already identified:"
   ]
  },
  {
   "cell_type": "code",
   "execution_count": 41,
   "metadata": {},
   "outputs": [
    {
     "name": "stdout",
     "output_type": "stream",
     "text": [
      "1.0\n"
     ]
    }
   ],
   "source": [
    "def predict_linear(X,w,b):\n",
    "    s = X@w+b\n",
    "    s[s >= 0] = 1\n",
    "    s[s < 0] = -1\n",
    "    return s\n",
    "y_pred = predict_linear(X,w,b)\n",
    "accuracy = np.sum(y_pred==y)/y.size\n",
    "print(accuracy)"
   ]
  },
  {
   "cell_type": "markdown",
   "metadata": {
    "deletable": false,
    "editable": false,
    "nbgrader": {
     "cell_type": "markdown",
     "checksum": "19f07bd4c532f21bb5b08c4843c71acb",
     "grade": false,
     "grade_id": "cell-095ce13ecac0d1ef",
     "locked": true,
     "schema_version": 3,
     "solution": false,
     "task": false
    }
   },
   "source": [
    "## Exercise 2 (in lab): non-separable data (5 points)\n",
    "\n",
    "Take the example of the annulus from the logistic regression lab. Verify that cvxopt cannot find a decision boundary for this case. Show your results in your lab report.\n",
    "\n",
    "**Note**: You don't need to separate the data into train/test subsets."
   ]
  },
  {
   "cell_type": "code",
   "execution_count": 42,
   "metadata": {
    "deletable": false,
    "editable": false,
    "nbgrader": {
     "cell_type": "code",
     "checksum": "6e9db836d1b0bcf199ba1c433d3589de",
     "grade": false,
     "grade_id": "cell-3b70d3305e5739cd",
     "locked": true,
     "schema_version": 3,
     "solution": false,
     "task": false
    }
   },
   "outputs": [],
   "source": [
    "# Generate data for class 1\n",
    "mu_1 = np.array([1.0, 2.0])\n",
    "sigma_1 = 1\n",
    "num_sample = 100\n",
    "cov_mat = np.matrix([[sigma_1,0],[0,sigma_1]])\n",
    "X1 = np.random.multivariate_normal(mean= mu_1, cov=cov_mat, size = num_sample)\n",
    "\n",
    "# Generate data for class 2\n",
    "angle = np.random.uniform(0, 2*np.pi, num_sample)\n",
    "d =  np.random.normal(np.square(3*sigma_1),np.square(.5*sigma_1),num_sample)\n",
    "X2 = np.array([X1[:,0] + d*np.cos(angle), X1[:,1] + d*np.sin(angle)]).T\n",
    "\n",
    "# Combine X1 and X2 into single dataset\n",
    "X_annulus = np.concatenate([X1, X2],axis = 0)\n",
    "y_annulus = np.append(-np.ones(num_sample),np.ones(num_sample))[:,np.newaxis]"
   ]
  },
  {
   "cell_type": "code",
   "execution_count": 43,
   "metadata": {},
   "outputs": [
    {
     "data": {
      "image/png": "[encoded data removed]",
      "text/plain": [
       "<Figure size 576x576 with 1 Axes>"
      ]
     },
     "metadata": {
      "needs_background": "light"
     },
     "output_type": "display_data"
    }
   ],
   "source": [
    "def plot_annulus(X1, X2):\n",
    "    ax = plt.axes() \n",
    "    plt.title('Sample data for classification problem')\n",
    "    plt.grid(axis='both', alpha=.25)\n",
    "    plt.plot(X1[:,0],X1[:,1],'b.', label = 'Class 1')\n",
    "    plt.plot(X2[:,0],X2[:,1],'g*', label = 'Class 2')\n",
    "    plt.legend(loc=2)\n",
    "    ax.set_aspect('equal', 'datalim')\n",
    "    return ax\n",
    "\n",
    "fig1 = plt.figure(figsize=(8,8))\n",
    "plot_annulus(X1, X2)\n",
    "plt.show()\n"
   ]
  },
  {
   "cell_type": "markdown",
   "metadata": {
    "deletable": false,
    "editable": false,
    "nbgrader": {
     "cell_type": "markdown",
     "checksum": "cc51047287b2715e78e1ae92e7dd919a",
     "grade": false,
     "grade_id": "cell-06053fcc6e62a4b5",
     "locked": true,
     "schema_version": 3,
     "solution": false,
     "task": false
    }
   },
   "source": [
    "### Exercise 2.1: Fill in Q, c, A, B for the annulus data and find w and b\n",
    "\n",
    "Here you just have to repeat the same process as in Exercise 1 but with the annulus data generated above."
   ]
  },
  {
   "cell_type": "code",
   "execution_count": 44,
   "metadata": {
    "deletable": false,
    "nbgrader": {
     "cell_type": "code",
     "checksum": "f9b1043e26883aa23de72c2f03888761",
     "grade": false,
     "grade_id": "cell-b4b54b0b928e56de",
     "locked": false,
     "schema_version": 3,
     "solution": true,
     "task": false
    }
   },
   "outputs": [
    {
     "name": "stdout",
     "output_type": "stream",
     "text": [
      "     pcost       dcost       gap    pres   dres\n",
      " 0:  1.1678e-04  1.9903e+02  2e+02  2e+00  6e-14\n",
      " 1:  1.0778e-08  4.5855e+02  5e+00  1e+00  5e-14\n",
      " 2:  1.0211e-12  3.9535e+04  5e+00  1e+00  9e-12\n",
      " 3:  1.0205e-16  3.3185e+08  4e+02  1e+00  8e-08\n",
      " 4:  1.0205e-20  2.7848e+14  3e+06  1e+00  2e-01\n",
      " 5:  1.0205e-24  2.3369e+22  3e+12  1e+00  8e+06\n",
      " 6:  4.9305e-26  1.9039e+32  9e+20  1e+00  6e+16\n",
      " 7:  1.0188e-25  3.1088e+40  1e+29  1e+00  7e+24\n",
      " 8:  1.2313e-25  8.7327e+47  4e+36  1e+00  9e+31\n",
      " 9:  1.5099e-25  4.5600e+55  2e+44  1e+00  8e+39\n",
      "10:  1.2681e-25  1.6989e+63  8e+51  1e+00  8e+47\n",
      "11:  1.2806e-25  7.1150e+70  3e+59  1e+00  2e+55\n",
      "12:  4.9723e-26  1.3177e+79  6e+67  1e+00  3e+63\n",
      "13:  8.4549e-26  4.0734e+86  2e+75  1e+00  1e+71\n",
      "14:  1.6613e-25  9.3334e+94  4e+83  1e+00  2e+79\n",
      "15:  1.2189e-25  5.1474e+102  2e+91  1e+00  6e+86\n",
      "16:  1.3763e-25  1.9070e+110  9e+98  1e+00  9e+94\n",
      "17:  1.4334e-25  1.2395e+118  6e+106  1e+00 1e+102\n",
      "18:  1.2965e-25  2.4877e+125  1e+114  1e+00 1e+110\n",
      "19:  1.2669e-25  1.0989e+133  5e+121  1e+00 4e+117\n",
      "20:  5.2341e-26  2.0143e+141  9e+129  1e+00 1e+126\n",
      "21:  8.6352e-26  6.3027e+148  3e+137  1e+00 2e+133\n",
      "22:  1.3922e-25  1.1364e+157  5e+145  1e+00 4e+141\n",
      "23:  1.5489e-25  5.6348e+164  3e+153  1e+00 3e+149\n",
      "24:  1.2627e-25  1.6293e+172  7e+160  1e+00    inf\n",
      "25:  1.2836e-25  6.5966e+179  3e+168  1e+00    inf\n",
      "26:  4.4897e-26  1.2087e+188  5e+176  1e+00    inf\n",
      "27:  7.6694e-26  2.9570e+195  1e+184  1e+00    inf\n",
      "28:  1.8560e-25  9.2501e+203  4e+192  1e+00    inf\n",
      "29:  2.0752e-25  1.4347e+211  7e+199  1e+00    inf\n",
      "30:  9.9281e-26  6.5263e+218  3e+207  1e+00    inf\n",
      "31:  1.0617e-25  1.7944e+226  8e+214  1e+00    inf\n",
      "32:  1.1995e-25  6.1348e+233  3e+222  1e+00    inf\n",
      "33:  5.3443e-26  1.1855e+242  5e+230  1e+00    inf\n",
      "34:  8.5421e-26  3.4137e+249  2e+238  1e+00    inf\n",
      "35:  1.3280e-25  8.8087e+257  4e+246  1e+00    inf\n",
      "36:  1.2674e-25  3.7212e+265  2e+254  1e+00    inf\n",
      "37:  4.7107e-26  6.6894e+273  3e+262  1e+00    inf\n",
      "38:  8.0698e-26  1.9417e+281  9e+269  1e+00    inf\n",
      "39:  1.6857e-25  4.6250e+289  2e+278  1e+00    inf\n"
     ]
    }
   ],
   "source": [
    "# Try to use try/catch to get output\n",
    "get_error = False\n",
    "\n",
    "try:\n",
    "    m, n = X_annulus.shape\n",
    "    Q = np.eye(n+1)\n",
    "    Q[-1][-1] = 0\n",
    "    c = np.zeros(n+1)\n",
    "    A = np.multiply(np.concatenate((X_annulus, np.ones((m,1))), axis=1),y_annulus)\n",
    "    B = -np.ones([m])\n",
    "    x = cvxopt_solve_qp(Q, c, A, B)\n",
    "    x = -x\n",
    "    x_norm = x/np.sqrt(np.sum(x[:-1]**2))\n",
    "    w = x_norm[:-1].reshape(-1,1)\n",
    "    b = x_norm[-1]\n",
    "    output_str = 'Optimal w: [%f %f] b: %f' % (w[0,0],w[1,0],b)\n",
    "    get_error = False\n",
    "except Exception as e:\n",
    "    output_str = e\n",
    "    get_error = True"
   ]
  },
  {
   "cell_type": "code",
   "execution_count": 45,
   "metadata": {
    "deletable": false,
    "editable": false,
    "nbgrader": {
     "cell_type": "code",
     "checksum": "67fe2b8552b7f23921c8a50802ba0c70",
     "grade": true,
     "grade_id": "cell-2cf82920ca94dd9f",
     "locked": true,
     "points": 5,
     "schema_version": 3,
     "solution": false,
     "task": false
    }
   },
   "outputs": [
    {
     "name": "stdout",
     "output_type": "stream",
     "text": [
      "domain error\n",
      "success!\n"
     ]
    }
   ],
   "source": [
    "print(output_str)\n",
    "\n",
    "# Test function: Do not remove\n",
    "assert Q.shape == (3, 3) and Q[2,2] == Q[0,1] and Q[2,0] == 0 and Q[0,0] == Q[1,1] and Q[0,0] == 1, 'Q value is incorrect'\n",
    "assert c.shape == 3 or c.shape == (3,) or c.shape == (3,1), 'Size of c is incorrect'\n",
    "assert np.all((c == 0)), 'c value is incorrect'\n",
    "assert A.shape == (200,3), 'Size of A is incorrect'\n",
    "assert str(output_str) == 'domain error' or \"'NoneType' object is not subscriptable\" or get_error, 'Output incorrect'\n",
    "\n",
    "print(\"success!\")\n",
    "# End Test function"
   ]
  },
  {
   "cell_type": "markdown",
   "metadata": {
    "deletable": false,
    "editable": false,
    "nbgrader": {
     "cell_type": "markdown",
     "checksum": "7ecbc864597bebe959e5c4b18145207b",
     "grade": false,
     "grade_id": "cell-923f7bb35cc0c350",
     "locked": true,
     "schema_version": 3,
     "solution": false,
     "task": false
    }
   },
   "source": [
    "**Expected result**: Show that there was an error and that the optimization did not converge."
   ]
  },
  {
   "cell_type": "markdown",
   "metadata": {},
   "source": [
    "## Generalized Lagrangian optimization for SVMs\n",
    "\n",
    "Now we consider the generalized Lagrangian for the SVM. This technique is suitable for solving problems of the form\n",
    "  $$ \\begin{array}{rl}\n",
    "    \\min_{\\mathbf{w}} & f(\\mathbf{w}) \\\\\n",
    "    \\text{subject to} & g_i(\\mathbf{w}) \\le 0, i \\in 1..k \\\\\n",
    "                      & h_i(\\mathbf{w}) = 0, i \\in 1..l\n",
    "   \\end{array}$$\n",
    "\n",
    "The generalized Lagrangian is\n",
    "$$\\cal{L}(\\mathbf{w},\\mathbf{\\alpha},\\mathbf{\\beta}) = f(\\mathbf{w}) + \\sum_{i=1}^k \\alpha_i g_i(\\mathbf{w}) + \\sum_{i=1}^l \\beta_i h_i(\\mathbf{w}),$$\n",
    "which has been cleverly arranged to be equal to $f(\\mathbf{w})$ whenever $\\mathbf{w}$ satisfies the constraints and $\\infty$ otherwise.\n",
    "\n",
    "### Primal and dual Lagrangian problems\n",
    "\n",
    "The primal problem is to find\n",
    "$$p^* = \\min_{\\mathbf{w}}\\theta_{\\cal P}(\\mathbf{w}) = \\min_\\mathbf{w}\\max_{\\mathbf{\\alpha},\\mathbf{\\beta},\\alpha_i \\ge 0} {\\cal L}(\\mathbf{w},\\mathbf{\\alpha},\\mathbf{\\beta})$$\n",
    "and the dual problem is to find\n",
    "$$d^* = \\max_{\\mathbf{\\alpha},\\mathbf{\\beta},\\alpha_i \\ge 0} \\theta_{\\cal D}(\\mathbf{\\alpha},\\mathbf{\\beta}) =  \\max_{\\mathbf{\\alpha},\\mathbf{\\beta},\\alpha_i \\ge 0} \\min_\\mathbf{w}{\\cal L}(\\mathbf{w},\\mathbf{\\alpha},\\mathbf{\\beta}).$$\n",
    "If $f$ is convex, the $g_i$'s are affine, the $h_i$'s are convex, and the $g_i$'s are strictly\n",
    "feasible, it turns out that the solutions to the primal and dual problem are the same, and the KKT conditions hold:\n",
    "$$ \\begin{array}{rcl}\n",
    "  \\frac{\\partial}{\\partial w_i}{\\cal L}(\\mathbf{w}^*,\\mathbf{\\alpha}^*,\\mathbf{\\beta}^*) & = & 0, i \\in 1..n \\\\\n",
    "  \\frac{\\partial}{\\partial \\beta_i}{\\cal L}(\\mathbf{w}^*,\\mathbf{\\alpha}^*,\\mathbf{\\beta}^*) & = & 0, i \\in 1..l \\\\\n",
    "  \\alpha_i^*g_i(\\mathbf{w}^*) & = & 0, i \\in 1..k \\\\\n",
    "  g_i(\\mathbf{w}^*) & \\le & 0, i \\in 1..k \\\\\n",
    "  \\alpha_i^* & \\ge & 0, i \\in 1..k\n",
    "  \\end{array} $$"
   ]
  },
  {
   "cell_type": "markdown",
   "metadata": {},
   "source": [
    "### Solving the dual Lagrangian problem\n",
    "\n",
    "The dual problem (finding $\\mathbf{\\alpha}$ maximizing\n",
    "the Lagrangian with the optimal $\\mathbf{w}$ turns out to be easiest to solve and gives us the ability to use kernels other than the linear (inner product) kernel.\n",
    "\n",
    "We first solve for $\\mathbf{w}$ assuming fixed $\\mathbf{\\alpha}$ and $\\mathbf{\\beta}$ (we don't have equality constraints though, so no need for $\\mathbf{\\beta}$).\n",
    "\n",
    "We need to rewrite the SVM constraints in the necessary form with $g_i(\\mathbf{w})=0$. For the SVM, the constraints are\n",
    "$$g_i(\\mathbf{w},b) = -y^{(i)}(\\mathbf{w}^\\top\\mathbf{x}^{(i)} + b) + 1 \\ge 0.$$\n",
    "Using that definition of $g_i(\\mathbf{w},b)$, we obtain the Lagrangian\n",
    "$${\\cal L}(\\mathbf{w},b,\\mathbf{\\alpha}) = \\frac{1}{2}\\|\\mathbf{w}\\|^2 - \\sum_{i=1}^m\\alpha_i\\left[ y^{(i)}(\\mathbf{w}^\\top\\mathbf{x}^{(i)} + b) -1 \\right] $$\n",
    "Taking the gradient of ${\\cal L}$ with respect to $\\mathbf{w}$ and setting it to 0, we obtain\n",
    "\n",
    "$$\\nabla_\\mathbf{w}{\\cal L}(\\mathbf{w},b,\\mathbf{\\alpha}) = \\mathbf{w} - \\sum_{i=1}^m\\alpha_i y^{(i)} \\mathbf{x}^{(i)} = 0,$$\n",
    "which gives us\n",
    "\n",
    "$$\\mathbf{w}=\\sum_{i=1}^m\\alpha_i y^{(i)} \\mathbf{x}^{(i)}.$$\n",
    "\n",
    "From $\\frac{\\partial {\\cal L}}{\\partial b} = 0$, we obtain\n",
    "$$\\sum_{i=1}^m \\alpha_i y^{(i)} = 0,$$\n",
    "which is interesting (think about what it means also considering that $\\alpha_i > 0$ only for examples on the margin.\n",
    "Unfortunately it doesn't help us find $b$! In any case, we plug this definition for the optimal $\\mathbf{w}$ into the original Lagrangian,\n",
    "to obtain\n",
    "$${\\cal L}(\\mathbf{w},b,\\mathbf{\\alpha}) = \\sum_{i=1}^m \\alpha_i - \\frac{1}{2}\\sum_{i,j=1}^m y^{(i)} y^{(j)} \\alpha_i \\alpha_j (\\mathbf{x}^{(i)})^\\top\\mathbf{x}^{(j)} - b\\sum_{i=1}^m \\alpha_i y^{(i)}. $$\n",
    "We already know that the last term is 0, so we get\n",
    "$${\\cal L}(\\mathbf{w},b,\\mathbf{\\alpha}) = \\sum_{i=1}^m \\alpha_i - \\frac{1}{2}\\sum_{i,j=1}^m y^{(i)} y^{(j)} \\alpha_i \\alpha_j \\left< \\mathbf{x}^{(i)},\\mathbf{x}^{(j)} \\right> . $$\n",
    "OK! We've eliminated $\\mathbf{w}$ and $b$ from the optimization. Now we just need to maximize ${\\cal L}$ with respect to $\\mathbf{\\alpha}$.\n",
    "This gives us the final (dual) optimization problem\n",
    "$$ \\begin{array}{rl}\n",
    "  \\max_{\\mathbf{\\alpha}} & W(\\mathbf{\\alpha}) = \\sum_{i=1}^m \\alpha_i - \\frac{1}{2} \\sum_{i,j=1}^m y^{(i)} y^{(j)} \\alpha_i \\alpha_j \\left< \\mathbf{x}^{(i)}, \\mathbf{x}^{(j)} \\right> \\\\\n",
    "  \\text{such that} & \\alpha_i \\ge 0, i \\in 1..m \\\\\n",
    "                   & \\sum_{i=1}^m \\alpha_i y^{(i)} = 0\n",
    "\\end{array} $$\n",
    "This turns out to be QP again!\n",
    "\n",
    "Aside: once we solve for $\\mathbf{\\alpha}$, we obtain $\\mathbf{w}$ according to the equation above, then it turns out that the optimal $b$ can be obtained as in\n",
    "the lecture notes."
   ]
  },
  {
   "cell_type": "markdown",
   "metadata": {},
   "source": [
    "### QP solution to dual problem\n",
    "\n",
    "We need to negate our objective function to turn the max (SVM formulation) into a min (QP formalation).\n",
    "\n",
    "For the second term of $W(\\mathbf{\\alpha})$, first let $\\mathtt{K}$ be the kernel matrix with $\\mathtt{K}_{ij} = \\left< \\mathbf{x}^{(i)}, \\mathbf{x}^{(j)} \\right>$. Then $\\mathbf{\\alpha}^\\top \\text{diag}(\\mathbf{y}) \\mathtt{K} \\text{diag}(\\mathbf{y}) \\mathbf{\\alpha}$ gives us the summation in the second term ($\\text{diag}(\\mathbf{y})$ is just the square diagonal matrix with $\\mathbf{y}$ as its diagonal).\n",
    "\n",
    "The (negated) first term of $W(\\mathbf{\\alpha})$ can be written in QP form with $\\mathbf{c} = \\begin{bmatrix} -1 & -1 & \\ldots \\end{bmatrix}^\\top$.\n",
    "\n",
    "So that gives us our QP setup:\n",
    "$$ \\mathtt{Q} = \\text{diag}(\\mathbf{y}) \\mathtt{K} \\text{diag}(\\mathbf{y}) \\; \\; \\;\n",
    "   \\mathbf{c} = \\begin{bmatrix} -1 \\\\ -1 \\\\ \\vdots \\end{bmatrix} $$\n",
    "\n",
    "$$\\mathtt{A} = -\\mathtt{I}_{m\\times m} \\;\\;\\;\n",
    "  \\mathbf{b} = \\begin{bmatrix} 0 \\\\ 0 \\\\ \\vdots \\end{bmatrix} $$\n",
    "\n",
    "$$\\mathtt{E} = \\mathbf{y}^\\top \\;\\;\\;\n",
    "  \\mathbf{d} = \\begin{bmatrix} 0 \\end{bmatrix}. $$\n",
    "\n",
    "OK, now the code:"
   ]
  },
  {
   "cell_type": "code",
   "execution_count": 46,
   "metadata": {},
   "outputs": [],
   "source": [
    "m = X.shape[0];\n",
    "n = X.shape[1];\n",
    "\n",
    "# Transform data set so that each attribute has a\n",
    "# mean of 0 and a standard deviation of 1\n",
    "\n",
    "def preprocess(X):\n",
    "    means = X.mean(0);\n",
    "    scales = 1/np.std(X,0);\n",
    "    Xh = np.concatenate([X.T,np.ones([1,20])],0);\n",
    "    Tm = np.matrix(np.eye(3));\n",
    "    Tm[0:2,2:3] = -X.mean(0).T;\n",
    "    Ts = np.matrix(np.eye(3));\n",
    "    Ts[0:2,0:2] = np.diagflat(scales);\n",
    "    T = Ts*Tm;\n",
    "    XX = (T * Xh);\n",
    "    XX = XX[0:2,:].T;\n",
    "    return XX, T;\n",
    "\n",
    "# RBF/Gaussian kernel\n",
    "\n",
    "def gauss_kernel(X):\n",
    "    sigma = 0.2\n",
    "    m = X.shape[0];\n",
    "    K = np.matrix(np.zeros([m,m]));\n",
    "    for i in range(0,m):\n",
    "        for j in range(0,m):\n",
    "            K[i,j] = (X[i,:] - X[j,:]).reshape(1,-1) @ (X[i,:] - X[j,:]).reshape(-1,1)\n",
    "    K = np.exp(-K/(2*sigma*sigma))      \n",
    "    return K;\n",
    "\n",
    "def linear_kernel(X):\n",
    "    m = X.shape[0];\n",
    "    K = np.matrix(np.zeros([m,m]));\n",
    "    for i in range(0,m):\n",
    "        for j in range(0,m):\n",
    "            K[i,j] = (X[i,:].reshape(1,-1)@X[j,:].reshape(-1,1))\n",
    "    return K;"
   ]
  },
  {
   "cell_type": "markdown",
   "metadata": {},
   "source": [
    "## Exercise 3 (in lab): linearly separable data (15 points)\n",
    "\n",
    "Take the example data from Exercise 1. Verify that you can use the dual optmization to find the decision boundary for such \"easy\" cases. Show your results in your lab report."
   ]
  },
  {
   "cell_type": "markdown",
   "metadata": {},
   "source": [
    "### Exercise 3.1: Find Q, c, A, b, E, d for input into cvxopt_solve_qp function (10 points)\n",
    "\n",
    "Here you need to set up the QP variables appropriate to get the solution to the dual optimization problem. When we pass them to cvxopt, we should get $\\mathbf{\\alpha}^*$, the optimal Lagrangian parameters. We know from inspection which examples in the original data will be the support vectors with non-zero $\\alpha_i$'s."
   ]
  },
  {
   "cell_type": "code",
   "execution_count": 47,
   "metadata": {
    "deletable": false,
    "nbgrader": {
     "cell_type": "code",
     "checksum": "e797f1397a7fd7d750abe044ca6b8329",
     "grade": false,
     "grade_id": "cell-2601acb8866c12cb",
     "locked": false,
     "schema_version": 3,
     "solution": true,
     "task": false
    }
   },
   "outputs": [
    {
     "name": "stdout",
     "output_type": "stream",
     "text": [
      "     pcost       dcost       gap    pres   dres\n",
      " 0: -2.7646e+00 -4.9725e+00  5e+01  6e+00  2e+00\n",
      " 1: -6.4101e+00 -3.8299e+00  1e+01  2e+00  6e-01\n",
      " 2: -5.0055e+00 -1.2719e+00  7e+00  8e-01  2e-01\n",
      " 3: -5.1552e-02 -4.0648e-02  5e-01  3e-02  1e-02\n",
      " 4: -1.8200e-02 -3.5404e-02  2e-02  9e-18  2e-13\n",
      " 5: -3.0877e-02 -3.1392e-02  5e-04  3e-18  1e-13\n",
      " 6: -3.1245e-02 -3.1250e-02  5e-06  4e-18  2e-13\n",
      " 7: -3.1248e-02 -3.1249e-02  5e-08  6e-18  2e-13\n",
      "Optimal solution found.\n"
     ]
    }
   ],
   "source": [
    "K = linear_kernel(X)\n",
    "m, n = X.shape\n",
    "diag_y = np.diag(np.array(y).reshape(-1))\n",
    "Q = diag_y*K*diag_y\n",
    "c = -np.ones((m,1))\n",
    "A = -np.eye(m)\n",
    "B = np.zeros(m)\n",
    "E = y.T\n",
    "d = np.zeros(1)\n",
    "\n",
    "alpha_star = cvxopt_solve_qp(Q, c, A, B, E, d);"
   ]
  },
  {
   "cell_type": "code",
   "execution_count": 48,
   "metadata": {
    "deletable": false,
    "editable": false,
    "nbgrader": {
     "cell_type": "code",
     "checksum": "b5c87a466ffa9414d8587cdce144e0d0",
     "grade": true,
     "grade_id": "cell-d38331f5aaf30b63",
     "locked": true,
     "points": 10,
     "schema_version": 3,
     "solution": false,
     "task": false
    }
   },
   "outputs": [
    {
     "name": "stdout",
     "output_type": "stream",
     "text": [
      "Q rank: 2\n",
      "Optimal alpha:\n",
      " [3.12484796e-02 1.13821985e-09 7.68004003e-10 6.22346942e-10\n",
      " 6.43114906e-10 8.93974185e-10 6.60695980e-10 4.31409827e-10\n",
      " 6.68557407e-10 1.19689394e-09 1.56332821e-02 1.56151999e-02\n",
      " 5.00606721e-10 6.71834910e-10 4.89168003e-10 4.93113729e-10\n",
      " 4.90935291e-10 4.85894509e-10 9.54348935e-10 4.42078646e-10]\n",
      "success!\n"
     ]
    }
   ],
   "source": [
    "print('Q rank: %d' % np.linalg.matrix_rank(Q))\n",
    "print(\"Optimal alpha:\\n\", alpha_star)\n",
    "\n",
    "# Test function: Do not remove\n",
    "assert Q.shape == (20, 20), 'Size of Q is incorrect'\n",
    "assert np.linalg.matrix_rank(Q) == 2, 'Q rank is incorrect'\n",
    "assert np.all((c == -1)), 'c value is incorrect'\n",
    "assert A.shape == (20,20), 'Size of A is incorrect'\n",
    "assert np.all((B == 0)), 'b value is incorrect'\n",
    "assert np.array_equal(np.round(E,1), np.round(y.T,1)), 'E value is incorrect'\n",
    "assert d.shape == (1,) or d.shape == 1 or d.shape == (1,1) , 'Size of d is incorrect'\n",
    "assert np.all((d == 0)), 'd value is incorrect'\n",
    "assert alpha_star.shape == (20,) or alpha_star.shape == 20 or alpha_star.shape == (20,1), 'Size of alpha_star is incorrect'\n",
    "\n",
    "print(\"success!\")\n",
    "# End Test function"
   ]
  },
  {
   "cell_type": "markdown",
   "metadata": {
    "deletable": false,
    "editable": false,
    "nbgrader": {
     "cell_type": "markdown",
     "checksum": "8b45baa38233acbb8dcc54432273d231",
     "grade": false,
     "grade_id": "cell-f29b7226479b7dcf",
     "locked": true,
     "schema_version": 3,
     "solution": false,
     "task": false
    }
   },
   "source": [
    "**Expected Result (or look a like):**\\\n",
    "Q rank: 2\\\n",
    "Optimal alpha:\\\n",
    " [3.12484796e-02 1.13821985e-09 7.68004003e-10 6.22346942e-10\\\n",
    " 6.43114906e-10 8.93974184e-10 6.60695980e-10 4.31409827e-10\\\n",
    " 6.68557407e-10 1.19689394e-09 1.56332821e-02 1.56151999e-02\\\n",
    " 5.00606721e-10 6.71834910e-10 4.89168003e-10 4.93113729e-10\\\n",
    " 4.90935291e-10 4.85894509e-10 9.54348935e-10 4.42078646e-10]"
   ]
  },
  {
   "cell_type": "markdown",
   "metadata": {
    "deletable": false,
    "editable": false,
    "nbgrader": {
     "cell_type": "markdown",
     "checksum": "cee1ddaf53d9fba3a69df20c4d480d81",
     "grade": false,
     "grade_id": "cell-b419f69d3dd7ff82",
     "locked": true,
     "schema_version": 3,
     "solution": false,
     "task": false
    }
   },
   "source": [
    "### Exercise 3.2: write get_wb function (5 points)\n",
    "\n",
    "Next, try to write the `get_wb()` function that, given the optimal $\\alpha_i$'s, returns\n",
    "the corresponding $\\mathbf{w}$ and $b$. If you get stuck, refer to the handout from lecture,\n",
    "but it will be better for you to try to figure it out for yourself."
   ]
  },
  {
   "cell_type": "code",
   "execution_count": 49,
   "metadata": {
    "deletable": false,
    "nbgrader": {
     "cell_type": "code",
     "checksum": "1d5fd5e4d15ce88d701d9717883c5a31",
     "grade": false,
     "grade_id": "cell-1323cda22d92c94d",
     "locked": false,
     "schema_version": 3,
     "solution": true,
     "task": false
    }
   },
   "outputs": [],
   "source": [
    "def get_wb(X, y, alpha, K):\n",
    "    # Find the support vectors\n",
    "    S = alpha > 1e-2\n",
    "    XS = X[S]\n",
    "    yS = y[S]\n",
    "    alphaS = alpha[S]\n",
    "    alphaSyS = np.multiply(yS.T, alphaS)\n",
    "    w = np.array(alphaSyS@XS).reshape(-1)\n",
    "    # Find b\n",
    "    KS = K[S,:][:,S]\n",
    "    NS = len(alphaS)\n",
    "    # Normalize w,b\n",
    "    scalef = np.sqrt(np.sum(w**2))\n",
    "    w = w/scalef\n",
    "    b = (np.sum(yS) - np.sum(alphaSyS*KS))/NS/scalef\n",
    "    return w,b"
   ]
  },
  {
   "cell_type": "code",
   "execution_count": 50,
   "metadata": {
    "deletable": false,
    "editable": false,
    "nbgrader": {
     "cell_type": "code",
     "checksum": "6b8c9b50d01d58e4c32f7cd65f05f67f",
     "grade": true,
     "grade_id": "cell-37fb98710c508a69",
     "locked": true,
     "points": 5,
     "schema_version": 3,
     "solution": false,
     "task": false
    }
   },
   "outputs": [
    {
     "name": "stdout",
     "output_type": "stream",
     "text": [
      "Optimal w: [0.640062,0.768324] b: -153.309583\n"
     ]
    },
    {
     "data": {
      "image/png": "[encoded data removed]",
      "text/plain": [
       "<Figure size 432x288 with 1 Axes>"
      ]
     },
     "metadata": {
      "needs_background": "light"
     },
     "output_type": "display_data"
    },
    {
     "name": "stdout",
     "output_type": "stream",
     "text": [
      "success!\n"
     ]
    }
   ],
   "source": [
    "# Test function: Do not remove\n",
    "w,b = get_wb(X, y, alpha_star, K)\n",
    "\n",
    "print(\"Optimal w: [%f,%f] b: %f\" % (w[0],w[1],b))\n",
    "\n",
    "axes = plot_mf(Xf, Xm)\n",
    "plot_w(axes, w, b)\n",
    "plt.show()\n",
    "\n",
    "print(\"success!\")\n",
    "# End test function"
   ]
  },
  {
   "attachments": {
    "lab06-2.png": {
     "image/png": "[encoded data removed]"
    }
   },
   "cell_type": "markdown",
   "metadata": {
    "deletable": false,
    "editable": false,
    "nbgrader": {
     "cell_type": "markdown",
     "checksum": "de1c6c585c3a843c8adfe031982e3e6c",
     "grade": false,
     "grade_id": "cell-71293c160e5d5af2",
     "locked": true,
     "schema_version": 3,
     "solution": false,
     "task": false
    }
   },
   "source": [
    "**Expected Result (Or look-alike)**:\\\n",
    "Optimal w: [0.640062,0.768324] b: -153.309583\n",
    "\n",
    "![lab06-2.png](attachment:lab06-2.png)"
   ]
  },
  {
   "cell_type": "code",
   "execution_count": 51,
   "metadata": {
    "deletable": false,
    "editable": false,
    "nbgrader": {
     "cell_type": "code",
     "checksum": "3ecb51d4236ed41d5d614bb550eb7fc9",
     "grade": false,
     "grade_id": "cell-208510915b6513f2",
     "locked": true,
     "schema_version": 3,
     "solution": false,
     "task": false
    }
   },
   "outputs": [
    {
     "name": "stdout",
     "output_type": "stream",
     "text": [
      "10.0\n"
     ]
    }
   ],
   "source": [
    "y_pred = predict_linear(X,w,b)\n",
    "accuracy = np.sum(y_pred==y)/y.size\n",
    "print(accuracy)"
   ]
  },
  {
   "cell_type": "markdown",
   "metadata": {
    "deletable": false,
    "editable": false,
    "nbgrader": {
     "cell_type": "markdown",
     "checksum": "8d42c4d778225bddf95209af989f8c68",
     "grade": false,
     "grade_id": "cell-230105cf02c2f813",
     "locked": true,
     "schema_version": 3,
     "solution": false,
     "task": false
    }
   },
   "source": [
    "### Exercise 4.1 (in lab): non-separable data, linear kernel (15 points)\n",
    "\n",
    "Again, take the example of the annulus from the logistic regression lab. Verify that the dual optimization with the linear kernel still cannot find a decision boundary for this case. Show your results in your lab report.\n",
    "As before, you'll want to set up $\\mathtt{Q}$, $\\mathbf{c}$, $\\mathtt{A}$, $\\mathtt{B}$, $\\mathtt{E}$, and $\\mathbf{d}$ appropriately but now for the dual optimization problem."
   ]
  },
  {
   "cell_type": "code",
   "execution_count": 52,
   "metadata": {
    "deletable": false,
    "nbgrader": {
     "cell_type": "code",
     "checksum": "355f98d5e2897cc3b22dbb4c0b99bbaa",
     "grade": false,
     "grade_id": "cell-d2542c8e66fcc8b8",
     "locked": false,
     "schema_version": 3,
     "solution": true,
     "task": false
    }
   },
   "outputs": [
    {
     "name": "stdout",
     "output_type": "stream",
     "text": [
      "(200, 2)\n"
     ]
    }
   ],
   "source": [
    "(m, n) = X_annulus.shape\n",
    "print(X_annulus.shape)\n",
    "K_annulus = linear_kernel(X_annulus);\n",
    "\n",
    "diag_y = np.diag(np.array(y_annulus).reshape(-1))\n",
    "Q_annulus = diag_y*K_annulus*diag_y\n",
    "c = -np.ones((m,1))\n",
    "A = -np.eye(m)\n",
    "B = np.zeros(m)\n",
    "E = y_annulus.T\n",
    "d = np.zeros(1)"
   ]
  },
  {
   "cell_type": "code",
   "execution_count": 53,
   "metadata": {
    "deletable": false,
    "editable": false,
    "nbgrader": {
     "cell_type": "code",
     "checksum": "71a5d905e8da1a2b3677387b591388c3",
     "grade": true,
     "grade_id": "cell-0701239f81d55f9b",
     "locked": true,
     "points": 10,
     "schema_version": 3,
     "solution": false,
     "task": false
    },
    "scrolled": true
   },
   "outputs": [
    {
     "name": "stdout",
     "output_type": "stream",
     "text": [
      "     pcost       dcost       gap    pres   dres\n",
      " 0: -1.9903e+02 -4.3154e+02  2e+02  1e-14  2e+00\n",
      " 1: -4.5855e+02 -4.6394e+02  5e+00  6e-14  1e+00\n",
      " 2: -3.9535e+04 -3.9539e+04  5e+00  3e-12  1e+00\n",
      " 3: -3.2674e+08 -3.2674e+08  1e+03  2e-08  1e+00\n",
      " 4: -6.0013e+08 -6.0013e+08  2e+03  6e-08  1e+00\n",
      "Terminated (singular KKT matrix).\n",
      "Optimal alpha: None\n",
      "success!\n"
     ]
    }
   ],
   "source": [
    "alpha_star_annulus = cvxopt_solve_qp(Q_annulus, c, A, B, E, d)\n",
    "\n",
    "print(\"Optimal alpha:\", alpha_star_annulus)\n",
    "# Test function: Do not remove\n",
    "assert alpha_star_annulus is None, \"alpha_star_annulus cannot be calculated.\"\n",
    "\n",
    "print(\"success!\")\n",
    "# End test function"
   ]
  },
  {
   "cell_type": "code",
   "execution_count": 54,
   "metadata": {
    "deletable": false,
    "editable": false,
    "nbgrader": {
     "cell_type": "code",
     "checksum": "973adee32d4a53d0a38c6f11ecb56b17",
     "grade": true,
     "grade_id": "cell-4946b0b751c99bc4",
     "locked": true,
     "points": 5,
     "schema_version": 3,
     "solution": false,
     "task": false
    }
   },
   "outputs": [
    {
     "name": "stdout",
     "output_type": "stream",
     "text": [
      "'>' not supported between instances of 'NoneType' and 'float'\n",
      "success!\n"
     ]
    }
   ],
   "source": [
    "get_error = False\n",
    "try:\n",
    "    w,b = get_wb(X_annulus, y_annulus, alpha_star_annulus, K_annulus)\n",
    "\n",
    "    output_str = \"Optimal w: [%f,%f] b: %f\" % (w[0],w[1],b)\n",
    "    plot_mf(Xf,Xm)\n",
    "    plot_w(w,b)\n",
    "    get_error = False\n",
    "except Exception as e:\n",
    "    output_str = str(e)\n",
    "    get_error = True\n",
    "    \n",
    "print(output_str)\n",
    "# Test function: Do not remove\n",
    "assert str(output_str) == 'domain error' or \"'NoneType' object is not subscriptable\" or get_error, 'Output incorrect'\n",
    "\n",
    "print(\"success!\")\n",
    "# End Test function"
   ]
  },
  {
   "cell_type": "markdown",
   "metadata": {},
   "source": [
    "**Expected Result**: Error due to `alpha_star` being `None`."
   ]
  },
  {
   "cell_type": "markdown",
   "metadata": {
    "deletable": false,
    "editable": false,
    "nbgrader": {
     "cell_type": "markdown",
     "checksum": "1b263b043a8ef9bd8305c4457754aa2c",
     "grade": false,
     "grade_id": "cell-4f2c3660925558f8",
     "locked": true,
     "schema_version": 3,
     "solution": false,
     "task": false
    }
   },
   "source": [
    "### Exercise 5.1 (in lab): \"easy\" non-separable data, Gaussian (RBF) kernel with non-overlapping data (10 points)\n",
    "\n",
    "Now we'll use the Gaussian (radial basis function) kernel instead of the linear kernel implemented in the code above and verify that we can correctly solve the easy non-separable data where a transformation to a feature space makes the data linearly separable. We already know that a simple polar transformation will give us linearly separable data, but it turns out we can achieve the same thing using the RBF kernel.\n",
    "\n",
    "By the way, you might think about which solution is better for our annulus problem: the explicit transformation or the RBF kernel. See how many support vectors we get before you decide."
   ]
  },
  {
   "cell_type": "code",
   "execution_count": 55,
   "metadata": {
    "deletable": false,
    "nbgrader": {
     "cell_type": "code",
     "checksum": "2c8d90ec2f3816231de26676970f5165",
     "grade": false,
     "grade_id": "cell-cf5d4590bf29c5da",
     "locked": false,
     "schema_version": 3,
     "solution": true,
     "task": false
    }
   },
   "outputs": [],
   "source": [
    "m, n = X_annulus.shape\n",
    "K_annulus = gauss_kernel(X_annulus);\n",
    "\n",
    "diag_y = np.diag(np.array(y_annulus).reshape(-1))\n",
    "Q_annulus = diag_y*K_annulus*diag_y\n",
    "c = -np.ones((m,1))\n",
    "A = -np.eye(m)\n",
    "B = np.zeros(m)\n",
    "E = y_annulus.T\n",
    "d = np.zeros(1)"
   ]
  },
  {
   "cell_type": "code",
   "execution_count": 56,
   "metadata": {
    "deletable": false,
    "editable": false,
    "nbgrader": {
     "cell_type": "code",
     "checksum": "bc412a2c524847bcb7275d864a57e72c",
     "grade": true,
     "grade_id": "cell-4c3700a6cf49c105",
     "locked": true,
     "points": 10,
     "schema_version": 3,
     "solution": false,
     "task": false
    }
   },
   "outputs": [
    {
     "name": "stdout",
     "output_type": "stream",
     "text": [
      "     pcost       dcost       gap    pres   dres\n",
      " 0: -4.9832e+01 -1.3843e+02  9e+01  1e-14  2e+00\n",
      " 1: -5.7961e+01 -6.5409e+01  7e+00  2e-14  3e-01\n",
      " 2: -6.1023e+01 -6.3013e+01  2e+00  6e-15  5e-02\n",
      " 3: -6.1234e+01 -6.1474e+01  2e-01  1e-14  3e-03\n",
      " 4: -6.1265e+01 -6.1282e+01  2e-02  1e-14  1e-04\n",
      " 5: -6.1268e+01 -6.1269e+01  7e-04  2e-14  3e-06\n",
      " 6: -6.1269e+01 -6.1269e+01  1e-05  2e-15  4e-08\n",
      "Optimal solution found.\n",
      "Q rank: 200\n",
      "Optimal alpha:\n",
      "[7.33436796e-01 2.55217816e-01 5.87626023e-01 7.24512084e-01\n",
      " 3.52356579e-07]\n",
      "success!\n"
     ]
    }
   ],
   "source": [
    "alpha_star_annulus = cvxopt_solve_qp(Q_annulus, c, A, B, E, d)\n",
    "\n",
    "print('Q rank: %d' % np.linalg.matrix_rank(Q_annulus))\n",
    "print(\"Optimal alpha:\")\n",
    "print(alpha_star_annulus[:5])\n",
    "\n",
    "# Test function: Do not remove\n",
    "assert np.linalg.matrix_rank(Q_annulus) > 2, \"Q rank is incorrect\"\n",
    "assert alpha_star_annulus is not None, \"alpha_star_annulus cannot be calculated.\"\n",
    "\n",
    "print(\"success!\")\n",
    "# End test function"
   ]
  },
  {
   "cell_type": "markdown",
   "metadata": {
    "deletable": false,
    "editable": false,
    "nbgrader": {
     "cell_type": "markdown",
     "checksum": "0134c63f28a18c618c3cbc398644f97d",
     "grade": false,
     "grade_id": "cell-e63752ddd52ecef2",
     "locked": true,
     "schema_version": 3,
     "solution": false,
     "task": false
    }
   },
   "source": [
    "**Expected result (or look-alike)**:\\\n",
    "     pcost       dcost       gap    pres   dres\\\n",
    " 0: -5.0795e+01 -1.3928e+02  9e+01  1e-15  2e+00\\\n",
    " 1: -5.9073e+01 -6.6466e+01  7e+00  2e-14  3e-01\\\n",
    " 2: -6.2076e+01 -6.3563e+01  1e+00  1e-14  4e-02\\\n",
    " 3: -6.2184e+01 -6.2423e+01  2e-01  8e-15  5e-03\\\n",
    " 4: -6.2205e+01 -6.2232e+01  3e-02  3e-14  5e-04\\\n",
    " 5: -6.2209e+01 -6.2209e+01  7e-04  4e-14  6e-06\\\n",
    " 6: -6.2209e+01 -6.2209e+01  1e-05  1e-14  7e-08\\\n",
    "Optimal solution found.\\\n",
    "Q rank: 200\\\n",
    "Optimal alpha:\\\n",
    "[5.77224260e-01 1.31648362e+00 1.17475881e+00 4.38419640e-01 8.16578932e-07]"
   ]
  },
  {
   "cell_type": "markdown",
   "metadata": {
    "deletable": false,
    "editable": false,
    "nbgrader": {
     "cell_type": "markdown",
     "checksum": "e496990226d5811976e111ec4c4faf5d",
     "grade": false,
     "grade_id": "cell-237476f85c279987",
     "locked": true,
     "schema_version": 3,
     "solution": false,
     "task": false
    }
   },
   "source": [
    "With the nonlinear kernel, we no longer have a $\\mathbf{w}$ and $b$ in the input space. First,\n",
    "let's revise our prediction method using just support vectors, their $\\alpha_i$'s, and their\n",
    "labels:"
   ]
  },
  {
   "cell_type": "code",
   "execution_count": 57,
   "metadata": {},
   "outputs": [
    {
     "name": "stdout",
     "output_type": "stream",
     "text": [
      "1.0\n"
     ]
    }
   ],
   "source": [
    "def predict(x, X, y, alpha):\n",
    "    s = []\n",
    "    sigma = 0.2\n",
    "    for j in range(x.shape[0]):\n",
    "        ss = 0\n",
    "        for i in range(X.shape[0]):\n",
    "            ss += alpha[i]*y[i]*np.exp((-(X[i]-x[j])@(X[i]-x[j]))/(2*sigma*sigma))\n",
    "        s.append(ss)\n",
    "    s = np.array(s)\n",
    "    s[s >= 0] = 1\n",
    "    s[s < 0] = -1\n",
    "    return s\n",
    "    \n",
    "y_pred = predict(X_annulus, X_annulus, y_annulus, alpha_star_annulus)\n",
    "print(np.sum(y_annulus == y_pred)/y_annulus.size)"
   ]
  },
  {
   "cell_type": "markdown",
   "metadata": {},
   "source": [
    "Another problem is graphing the decision boundary. Since the decision boundary is in feature space, which is infinite dimensional in the case of the RBF kernel, we can't exactly graph it! Instead, consider the 2-dimensional input space, let's obtain the prediction of the model at each point in a regular grid over the space, then let's plot the resulting mesh on top of the data."
   ]
  },
  {
   "cell_type": "code",
   "execution_count": 58,
   "metadata": {},
   "outputs": [
    {
     "data": {
      "image/png": "[encoded data removed]",
      "text/plain": [
       "<Figure size 576x576 with 1 Axes>"
      ]
     },
     "metadata": {
      "needs_background": "light"
     },
     "output_type": "display_data"
    }
   ],
   "source": [
    "res = 100\n",
    "x_series = np.linspace(-15, 15, res)\n",
    "y_series = np.linspace(-15, 15, res)\n",
    "\n",
    "x_mesh, y_mesh = np.meshgrid(x_series, y_series)\n",
    "\n",
    "x_mesh = x_mesh.reshape(-1, 1)\n",
    "y_mesh = y_mesh.reshape(-1, 1)\n",
    "\n",
    "mesh = np.append(x_mesh, y_mesh, axis=1)\n",
    "y_pred = predict(mesh, X_annulus, y_annulus, alpha_star_annulus)\n",
    "\n",
    "x_mesh = x_mesh.reshape(res, res)\n",
    "y_mesh = y_mesh.reshape(res, res)\n",
    "y_pred = y_pred.reshape(res, res)\n",
    "\n",
    "fig1 = plt.figure(figsize=(8,8))\n",
    "ax = plot_annulus(X1, X2)\n",
    "ax.pcolormesh(x_mesh, y_mesh, y_pred, cmap='viridis', shading='auto', alpha=0.1)\n",
    "plt.show()"
   ]
  },
  {
   "attachments": {
    "lab06-3.png": {
     "image/png": "[encoded data removed]"
    }
   },
   "cell_type": "markdown",
   "metadata": {
    "deletable": false,
    "editable": false,
    "nbgrader": {
     "cell_type": "markdown",
     "checksum": "836b2b1b0c0bb2628f09d5573738e9cc",
     "grade": false,
     "grade_id": "cell-41f023f34ac9ef6f",
     "locked": true,
     "schema_version": 3,
     "solution": false,
     "task": false
    }
   },
   "source": [
    "**Expected Result**:\n",
    "\n",
    "![lab06-3.png](attachment:lab06-3.png)"
   ]
  },
  {
   "cell_type": "markdown",
   "metadata": {
    "deletable": false,
    "editable": false,
    "nbgrader": {
     "cell_type": "markdown",
     "checksum": "79ed6521678fba67bac72462e35a6388",
     "grade": false,
     "grade_id": "cell-873518651396f614",
     "locked": true,
     "points": 30,
     "schema_version": 3,
     "solution": false,
     "task": true
    }
   },
   "source": [
    "## Exercise 6 (take home): more difficult non-separable data\n",
    "\n",
    "Now find or generate a dataset in which the decision boundary is nonlinear AND the data overlap along that nonlinear boundary. Show that the result."
   ]
  },
  {
   "cell_type": "markdown",
   "metadata": {},
   "source": [
    "### Generate dataset"
   ]
  },
  {
   "cell_type": "code",
   "execution_count": 86,
   "metadata": {
    "scrolled": false
   },
   "outputs": [
    {
     "data": {
      "image/png": "[encoded data removed]",
      "text/plain": [
       "<Figure size 432x288 with 1 Axes>"
      ]
     },
     "metadata": {
      "needs_background": "light"
     },
     "output_type": "display_data"
    }
   ],
   "source": [
    "num_sample = 250\n",
    "\n",
    "# Generate data for class 1\n",
    "mu_1 = np.array([1.0, 2.0])\n",
    "sigma_1 = 0.6\n",
    "cov_mat = np.matrix([[sigma_1,0],[0,sigma_1]])\n",
    "X1 = np.random.multivariate_normal(mean= mu_1, cov=cov_mat, size = num_sample)\n",
    "\n",
    "# Generate data for class 2\n",
    "angle = np.random.uniform(0, 2*np.pi, num_sample)\n",
    "d =  np.random.normal(np.square(3*sigma_1),np.square(.5*sigma_1),num_sample)\n",
    "X2 = np.array([X1[:,0] + d*np.cos(angle), X1[:,1] + d*np.sin(angle)]).T\n",
    "\n",
    "# Combine X1 and X2 into single dataset\n",
    "X_gen = np.concatenate([X1, X2],axis = 0)\n",
    "y_gen = np.append(-np.ones(num_sample),np.ones(num_sample))[:,np.newaxis]\n",
    "\n",
    "X_calss1 = X_gen[y_gen.reshape(-1)==-1]\n",
    "X_calss2 = X_gen[y_gen.reshape(-1)==1]\n",
    "ax = plot_annulus(X_calss1, X_calss2)"
   ]
  },
  {
   "cell_type": "markdown",
   "metadata": {},
   "source": [
    "### Create function: get_alpha_star"
   ]
  },
  {
   "cell_type": "code",
   "execution_count": 79,
   "metadata": {},
   "outputs": [],
   "source": [
    "def get_alpha_star(X, y, K, C):    \n",
    "    m, n = X.shape\n",
    "    diag_y = np.diag(np.array(y).reshape(-1))\n",
    "    Q = diag_y*K*diag_y\n",
    "    c = -np.ones((m,1))\n",
    "    A = np.vstack((-np.eye(m), np.eye(m)))\n",
    "    B = np.hstack((np.zeros(m), np.ones(m) * C))\n",
    "    E = y.reshape(1,-1)\n",
    "    d = np.zeros(1)\n",
    "\n",
    "    alpha_star = (cvxopt_solve_qp(Q, c, A, B, E, d))\n",
    "    return alpha_star"
   ]
  },
  {
   "cell_type": "markdown",
   "metadata": {},
   "source": [
    "### Split data"
   ]
  },
  {
   "cell_type": "code",
   "execution_count": 91,
   "metadata": {},
   "outputs": [],
   "source": [
    "train_size = 0.8\n",
    "m, n = X.shape\n",
    "\n",
    "idx = list(range(m))\n",
    "np.random.shuffle(idx)\n",
    "train_sample_size = int(0.8*m)\n",
    "\n",
    "idx_train = idx[:train_sample_size]\n",
    "idx_test = idx[train_sample_size:]\n",
    "\n",
    "X_train_val = X_gen[idx_train]\n",
    "X_test = X_gen[idx_test]\n",
    "y_train_val = y_gen[idx_train]\n",
    "y_test = y_gen[idx_test]"
   ]
  },
  {
   "cell_type": "markdown",
   "metadata": {},
   "source": [
    "### Perform cross validation to find slack variable"
   ]
  },
  {
   "cell_type": "code",
   "execution_count": 98,
   "metadata": {
    "scrolled": false
   },
   "outputs": [
    {
     "name": "stdout",
     "output_type": "stream",
     "text": [
      "     pcost       dcost       gap    pres   dres\n",
      " 0: -4.9576e+01 -2.2852e+01  2e+03  4e+01  3e-16\n",
      " 1: -1.9994e+01 -9.7272e+00  9e+01  3e+00  5e-16\n",
      " 2: -2.7191e+00 -6.7059e+00  4e+00  3e-16  1e-15\n",
      " 3: -2.9702e+00 -3.3328e+00  4e-01  4e-17  5e-16\n",
      " 4: -3.0611e+00 -3.1069e+00  5e-02  4e-17  3e-16\n",
      " 5: -3.0625e+00 -3.0671e+00  5e-03  5e-17  4e-16\n",
      " 6: -3.0626e+00 -3.0661e+00  3e-03  1e-16  1e-15\n",
      " 7: -3.0631e+00 -3.0642e+00  1e-03  3e-17  4e-16\n",
      " 8: -3.0633e+00 -3.0637e+00  4e-04  1e-16  4e-16\n",
      " 9: -3.0634e+00 -3.0635e+00  5e-05  4e-17  4e-16\n",
      "10: -3.0635e+00 -3.0635e+00  7e-06  4e-17  4e-16\n",
      "11: -3.0635e+00 -3.0635e+00  1e-07  3e-17  4e-16\n",
      "Optimal solution found.\n"
     ]
    },
    {
     "name": "stderr",
     "output_type": "stream",
     "text": [
      "/tmp/ipykernel_90/1367669387.py:14: RuntimeWarning: invalid value encountered in true_divide\n",
      "  w = w/scalef\n",
      "/tmp/ipykernel_90/1367669387.py:15: RuntimeWarning: invalid value encountered in double_scalars\n",
      "  b = (np.sum(yS) - np.sum(alphaSyS*KS))/NS/scalef\n"
     ]
    },
    {
     "name": "stdout",
     "output_type": "stream",
     "text": [
      "     pcost       dcost       gap    pres   dres\n",
      " 0: -4.9925e+01 -2.3230e+01  2e+03  4e+01  3e-16\n",
      " 1: -2.0270e+01 -9.7413e+00  1e+02  3e+00  5e-16\n",
      " 2: -2.7035e+00 -6.7677e+00  4e+00  9e-16  2e-15\n",
      " 3: -2.9551e+00 -3.3596e+00  4e-01  1e-16  5e-16\n",
      " 4: -3.0445e+00 -3.0891e+00  4e-02  5e-17  3e-16\n",
      " 5: -3.0459e+00 -3.0512e+00  5e-03  9e-17  4e-16\n",
      " 6: -3.0460e+00 -3.0503e+00  4e-03  3e-17  7e-16\n",
      " 7: -3.0465e+00 -3.0478e+00  1e-03  3e-17  4e-16\n",
      " 8: -3.0468e+00 -3.0471e+00  3e-04  7e-17  4e-16\n",
      " 9: -3.0469e+00 -3.0469e+00  4e-05  4e-17  4e-16\n",
      "10: -3.0469e+00 -3.0469e+00  2e-06  4e-17  3e-16\n",
      "Optimal solution found.\n",
      "     pcost       dcost       gap    pres   dres\n",
      " 0: -4.7836e+01 -2.2495e+01  2e+03  4e+01  3e-16\n",
      " 1: -1.9630e+01 -9.8280e+00  9e+01  3e+00  4e-16\n",
      " 2: -2.6593e+00 -6.6742e+00  4e+00  4e-16  2e-15\n",
      " 3: -2.9145e+00 -3.2909e+00  4e-01  4e-17  5e-16\n",
      " 4: -2.9814e+00 -2.9974e+00  2e-02  5e-17  3e-16\n",
      " 5: -2.9822e+00 -2.9881e+00  6e-03  4e-17  3e-16\n",
      " 6: -2.9828e+00 -2.9854e+00  3e-03  1e-16  3e-16\n",
      " 7: -2.9834e+00 -2.9840e+00  5e-04  1e-16  4e-16\n",
      " 8: -2.9836e+00 -2.9837e+00  7e-05  3e-17  4e-16\n",
      " 9: -2.9836e+00 -2.9837e+00  7e-06  6e-17  4e-16\n",
      "10: -2.9836e+00 -2.9836e+00  1e-07  4e-17  4e-16\n",
      "Optimal solution found.\n",
      "     pcost       dcost       gap    pres   dres\n",
      " 0: -4.8261e+01 -2.3011e+01  2e+03  4e+01  3e-16\n",
      " 1: -1.9925e+01 -9.9758e+00  1e+02  3e+00  5e-16\n",
      " 2: -2.7203e+00 -6.8789e+00  4e+00  3e-16  2e-15\n",
      " 3: -2.9681e+00 -3.4063e+00  4e-01  5e-17  5e-16\n",
      " 4: -3.0966e+00 -3.1582e+00  6e-02  3e-17  3e-16\n",
      " 5: -3.0982e+00 -3.1022e+00  4e-03  6e-17  3e-16\n",
      " 6: -3.0987e+00 -3.1005e+00  2e-03  4e-17  3e-16\n",
      " 7: -3.0991e+00 -3.0996e+00  5e-04  3e-17  4e-16\n",
      " 8: -3.0993e+00 -3.0994e+00  1e-04  7e-17  4e-16\n",
      " 9: -3.0993e+00 -3.0994e+00  2e-05  4e-17  4e-16\n",
      "10: -3.0993e+00 -3.0994e+00  2e-06  4e-17  4e-16\n",
      "Optimal solution found.\n",
      "     pcost       dcost       gap    pres   dres\n",
      " 0: -4.7989e+01 -2.2873e+01  1e+03  4e+01  3e-16\n",
      " 1: -1.9916e+01 -9.5931e+00  9e+01  2e+00  4e-16\n",
      " 2: -2.7424e+00 -6.5470e+00  4e+00  7e-16  2e-15\n",
      " 3: -2.9553e+00 -3.3052e+00  3e-01  7e-17  5e-16\n",
      " 4: -2.9991e+00 -3.0375e+00  4e-02  1e-16  4e-16\n",
      " 5: -3.0023e+00 -3.0280e+00  3e-02  3e-17  2e-16\n",
      " 6: -3.0067e+00 -3.0129e+00  6e-03  4e-17  3e-16\n",
      " 7: -3.0076e+00 -3.0111e+00  4e-03  3e-17  3e-16\n",
      " 8: -3.0085e+00 -3.0092e+00  7e-04  4e-17  4e-16\n",
      " 9: -3.0087e+00 -3.0089e+00  2e-04  4e-17  3e-16\n",
      "10: -3.0088e+00 -3.0088e+00  2e-05  6e-17  3e-16\n",
      "11: -3.0088e+00 -3.0088e+00  3e-06  4e-17  3e-16\n",
      "Optimal solution found.\n",
      "     pcost       dcost       gap    pres   dres\n",
      " 0: -4.9895e+01 -2.8885e+01  2e+03  4e+01  3e-16\n",
      " 1: -2.1038e+01 -1.6277e+01  9e+01  2e+00  4e-16\n",
      " 2: -5.4775e+00 -1.2525e+01  7e+00  5e-16  1e-15\n",
      " 3: -5.8950e+00 -6.4667e+00  6e-01  2e-16  5e-16\n",
      " 4: -6.0084e+00 -6.0583e+00  5e-02  7e-17  3e-16\n",
      " 5: -6.0100e+00 -6.0275e+00  2e-02  1e-16  3e-16\n",
      " 6: -6.0102e+00 -6.0258e+00  2e-02  2e-16  4e-16\n",
      " 7: -6.0122e+00 -6.0171e+00  5e-03  2e-16  4e-16\n",
      " 8: -6.0133e+00 -6.0148e+00  2e-03  1e-16  3e-16\n",
      " 9: -6.0136e+00 -6.0143e+00  7e-04  7e-17  3e-16\n",
      "10: -6.0138e+00 -6.0139e+00  9e-05  8e-17  4e-16\n",
      "11: -6.0139e+00 -6.0139e+00  2e-06  8e-17  4e-16\n",
      "Optimal solution found.\n",
      "     pcost       dcost       gap    pres   dres\n",
      " 0: -5.0245e+01 -2.9348e+01  2e+03  4e+01  3e-16\n",
      " 1: -2.1333e+01 -1.6380e+01  9e+01  2e+00  5e-16\n",
      " 2: -5.4746e+00 -1.2639e+01  7e+00  3e-16  2e-15\n",
      " 3: -5.8825e+00 -6.4751e+00  6e-01  7e-17  5e-16\n",
      " 4: -5.9827e+00 -6.0138e+00  3e-02  2e-16  3e-16\n",
      " 5: -5.9836e+00 -5.9945e+00  1e-02  3e-16  4e-16\n",
      " 6: -5.9863e+00 -5.9902e+00  4e-03  2e-16  4e-16\n",
      " 7: -5.9874e+00 -5.9881e+00  7e-04  8e-17  4e-16\n",
      " 8: -5.9877e+00 -5.9877e+00  8e-05  8e-17  4e-16\n",
      " 9: -5.9877e+00 -5.9877e+00  6e-06  2e-16  4e-16\n",
      "10: -5.9877e+00 -5.9877e+00  1e-07  8e-17  4e-16\n",
      "Optimal solution found.\n",
      "     pcost       dcost       gap    pres   dres\n",
      " 0: -4.8142e+01 -2.8452e+01  2e+03  4e+01  3e-16\n",
      " 1: -2.0613e+01 -1.6299e+01  9e+01  2e+00  5e-16\n",
      " 2: -5.4005e+00 -1.2451e+01  7e+00  3e-16  2e-15\n",
      " 3: -5.7885e+00 -6.3093e+00  5e-01  7e-17  5e-16\n",
      " 4: -5.8425e+00 -5.8932e+00  5e-02  2e-16  4e-16\n",
      " 5: -5.8471e+00 -5.8756e+00  3e-02  6e-17  3e-16\n",
      " 6: -5.8523e+00 -5.8589e+00  7e-03  7e-17  4e-16\n",
      " 7: -5.8540e+00 -5.8555e+00  2e-03  1e-16  4e-16\n",
      " 8: -5.8545e+00 -5.8547e+00  2e-04  1e-16  4e-16\n",
      " 9: -5.8546e+00 -5.8546e+00  2e-05  7e-17  4e-16\n",
      "10: -5.8546e+00 -5.8546e+00  3e-07  2e-16  5e-16\n",
      "Optimal solution found.\n",
      "     pcost       dcost       gap    pres   dres\n",
      " 0: -4.8567e+01 -2.9218e+01  2e+03  4e+01  3e-16\n",
      " 1: -2.0944e+01 -1.6696e+01  1e+02  3e+00  5e-16\n",
      " 2: -5.4552e+00 -1.2854e+01  7e+00  3e-16  1e-15\n",
      " 3: -5.8894e+00 -6.5416e+00  7e-01  8e-17  5e-16\n",
      " 4: -6.0704e+00 -6.1719e+00  1e-01  7e-17  3e-16\n",
      " 5: -6.0744e+00 -6.0856e+00  1e-02  7e-17  3e-16\n",
      " 6: -6.0751e+00 -6.0835e+00  8e-03  7e-17  4e-16\n",
      " 7: -6.0765e+00 -6.0791e+00  3e-03  1e-16  4e-16\n",
      " 8: -6.0771e+00 -6.0778e+00  7e-04  2e-16  4e-16\n",
      " 9: -6.0774e+00 -6.0775e+00  1e-04  1e-16  4e-16\n",
      "10: -6.0774e+00 -6.0774e+00  1e-05  9e-17  4e-16\n",
      "11: -6.0774e+00 -6.0774e+00  1e-07  7e-17  4e-16\n",
      "Optimal solution found.\n",
      "     pcost       dcost       gap    pres   dres\n",
      " 0: -4.8290e+01 -2.8726e+01  1e+03  4e+01  3e-16\n",
      " 1: -2.0932e+01 -1.5971e+01  8e+01  2e+00  4e-16\n",
      " 2: -5.5138e+00 -1.2190e+01  7e+00  1e-15  2e-15\n",
      " 3: -5.8528e+00 -6.3190e+00  5e-01  7e-17  5e-16\n",
      " 4: -5.8890e+00 -5.9938e+00  1e-01  7e-17  3e-16\n",
      " 5: -5.8969e+00 -5.9605e+00  6e-02  6e-17  2e-16\n",
      " 6: -5.9092e+00 -5.9261e+00  2e-02  6e-17  3e-16\n",
      " 7: -5.9124e+00 -5.9198e+00  7e-03  7e-17  3e-16\n",
      " 8: -5.9146e+00 -5.9160e+00  1e-03  6e-17  3e-16\n",
      " 9: -5.9151e+00 -5.9154e+00  2e-04  1e-16  3e-16\n",
      "10: -5.9152e+00 -5.9153e+00  3e-05  7e-17  3e-16\n",
      "11: -5.9152e+00 -5.9152e+00  2e-06  7e-17  3e-16\n",
      "Optimal solution found.\n",
      "     pcost       dcost       gap    pres   dres\n",
      " 0: -5.0833e+01 -4.6922e+01  2e+03  4e+01  3e-16\n",
      " 1: -2.4045e+01 -3.5380e+01  9e+01  2e+00  4e-16\n",
      " 2: -1.3060e+01 -2.5308e+01  1e+01  6e-16  1e-15\n",
      " 3: -1.4015e+01 -1.4797e+01  8e-01  2e-16  4e-16\n",
      " 4: -1.4140e+01 -1.4287e+01  1e-01  7e-16  3e-16\n",
      " 5: -1.4149e+01 -1.4274e+01  1e-01  3e-16  2e-16\n",
      " 6: -1.4171e+01 -1.4214e+01  4e-02  2e-16  3e-16\n",
      " 7: -1.4182e+01 -1.4194e+01  1e-02  2e-16  4e-16\n",
      " 8: -1.4184e+01 -1.4190e+01  5e-03  5e-16  3e-16\n",
      " 9: -1.4186e+01 -1.4187e+01  8e-04  2e-16  4e-16\n",
      "10: -1.4187e+01 -1.4187e+01  3e-05  3e-16  4e-16\n",
      "11: -1.4187e+01 -1.4187e+01  4e-07  2e-16  4e-16\n",
      "Optimal solution found.\n",
      "     pcost       dcost       gap    pres   dres\n",
      " 0: -5.1184e+01 -4.7650e+01  2e+03  4e+01  4e-16\n",
      " 1: -2.4395e+01 -3.5760e+01  9e+01  2e+00  4e-16\n",
      " 2: -1.3128e+01 -2.5540e+01  1e+01  3e-16  1e-15\n",
      " 3: -1.4043e+01 -1.4807e+01  8e-01  2e-16  5e-16\n",
      " 4: -1.4129e+01 -1.4281e+01  2e-01  3e-16  3e-16\n",
      " 5: -1.4135e+01 -1.4269e+01  1e-01  2e-16  2e-16\n",
      " 6: -1.4158e+01 -1.4198e+01  4e-02  2e-16  3e-16\n",
      " 7: -1.4170e+01 -1.4178e+01  9e-03  2e-16  4e-16\n",
      " 8: -1.4173e+01 -1.4174e+01  1e-03  2e-16  3e-16\n",
      " 9: -1.4173e+01 -1.4173e+01  5e-05  2e-16  4e-16\n",
      "10: -1.4173e+01 -1.4173e+01  1e-06  2e-16  4e-16\n",
      "Optimal solution found.\n",
      "     pcost       dcost       gap    pres   dres\n",
      " 0: -4.9037e+01 -4.6252e+01  2e+03  4e+01  3e-16\n",
      " 1: -2.3554e+01 -3.5174e+01  9e+01  2e+00  5e-16\n",
      " 2: -1.2835e+01 -2.5233e+01  1e+01  7e-16  1e-15\n",
      " 3: -1.3685e+01 -1.4555e+01  9e-01  2e-16  4e-16\n",
      " 4: -1.3745e+01 -1.3951e+01  2e-01  2e-16  3e-16\n",
      " 5: -1.3758e+01 -1.3880e+01  1e-01  2e-16  3e-16\n",
      " 6: -1.3780e+01 -1.3811e+01  3e-02  2e-16  4e-16\n",
      " 7: -1.3788e+01 -1.3796e+01  8e-03  4e-16  3e-16\n",
      " 8: -1.3791e+01 -1.3792e+01  1e-03  2e-16  4e-16\n",
      " 9: -1.3791e+01 -1.3791e+01  8e-05  3e-16  4e-16\n",
      "10: -1.3791e+01 -1.3791e+01  2e-06  5e-16  4e-16\n",
      "Optimal solution found.\n",
      "     pcost       dcost       gap    pres   dres\n",
      " 0: -4.9467e+01 -4.7799e+01  2e+03  4e+01  3e-16\n",
      " 1: -2.3873e+01 -3.6329e+01  1e+02  2e+00  4e-16\n",
      " 2: -1.2917e+01 -2.6039e+01  1e+01  5e-16  9e-16\n",
      " 3: -1.3964e+01 -1.4870e+01  9e-01  9e-16  4e-16\n",
      " 4: -1.4256e+01 -1.4419e+01  2e-01  3e-16  3e-16\n",
      " 5: -1.4268e+01 -1.4315e+01  5e-02  2e-16  3e-16\n",
      " 6: -1.4270e+01 -1.4314e+01  4e-02  5e-16  3e-16\n",
      " 7: -1.4277e+01 -1.4295e+01  2e-02  3e-16  3e-16\n",
      " 8: -1.4281e+01 -1.4287e+01  6e-03  2e-16  3e-16\n",
      " 9: -1.4283e+01 -1.4284e+01  7e-04  2e-16  4e-16\n",
      "10: -1.4284e+01 -1.4284e+01  8e-05  2e-16  4e-16\n",
      "11: -1.4284e+01 -1.4284e+01  1e-06  2e-16  4e-16\n",
      "Optimal solution found.\n"
     ]
    },
    {
     "name": "stdout",
     "output_type": "stream",
     "text": [
      "     pcost       dcost       gap    pres   dres\n",
      " 0: -4.9175e+01 -4.6202e+01  1e+03  4e+01  4e-16\n",
      " 1: -2.3868e+01 -3.4535e+01  8e+01  2e+00  5e-16\n",
      " 2: -1.3223e+01 -2.4224e+01  1e+01  4e-16  1e-15\n",
      " 3: -1.3895e+01 -1.4817e+01  9e-01  2e-16  4e-16\n",
      " 4: -1.3961e+01 -1.4146e+01  2e-01  2e-16  3e-16\n",
      " 5: -1.3981e+01 -1.4094e+01  1e-01  2e-16  2e-16\n",
      " 6: -1.4012e+01 -1.4032e+01  2e-02  2e-16  3e-16\n",
      " 7: -1.4018e+01 -1.4023e+01  4e-03  2e-16  3e-16\n",
      " 8: -1.4020e+01 -1.4020e+01  5e-04  2e-16  3e-16\n",
      " 9: -1.4020e+01 -1.4020e+01  3e-05  2e-16  3e-16\n",
      "10: -1.4020e+01 -1.4020e+01  1e-06  2e-16  3e-16\n",
      "Optimal solution found.\n",
      "     pcost       dcost       gap    pres   dres\n",
      " 0: -5.2329e+01 -7.6776e+01  2e+03  2e+01  4e-16\n",
      " 1: -2.8655e+01 -6.5400e+01  9e+01  8e-01  4e-16\n",
      " 2: -2.3555e+01 -3.5060e+01  1e+01  2e-16  7e-16\n",
      " 3: -2.5285e+01 -2.6282e+01  1e+00  5e-16  3e-16\n",
      " 4: -2.5423e+01 -2.5804e+01  4e-01  1e-15  2e-16\n",
      " 5: -2.5470e+01 -2.5676e+01  2e-01  1e-15  3e-16\n",
      " 6: -2.5525e+01 -2.5576e+01  5e-02  2e-16  3e-16\n",
      " 7: -2.5542e+01 -2.5551e+01  9e-03  2e-16  3e-16\n",
      " 8: -2.5546e+01 -2.5547e+01  7e-04  3e-16  3e-16\n",
      " 9: -2.5546e+01 -2.5546e+01  1e-05  4e-16  4e-16\n",
      "Optimal solution found.\n",
      "     pcost       dcost       gap    pres   dres\n",
      " 0: -5.2681e+01 -7.7976e+01  2e+03  2e+01  4e-16\n",
      " 1: -2.9107e+01 -6.6287e+01  9e+01  8e-01  5e-16\n",
      " 2: -2.3765e+01 -3.5615e+01  1e+01  2e-16  7e-16\n",
      " 3: -2.5496e+01 -2.6474e+01  1e+00  9e-16  4e-16\n",
      " 4: -2.5582e+01 -2.5968e+01  4e-01  2e-16  3e-16\n",
      " 5: -2.5609e+01 -2.5857e+01  2e-01  8e-16  3e-16\n",
      " 6: -2.5666e+01 -2.5732e+01  7e-02  9e-16  3e-16\n",
      " 7: -2.5687e+01 -2.5700e+01  1e-02  2e-16  3e-16\n",
      " 8: -2.5692e+01 -2.5693e+01  1e-03  2e-16  4e-16\n",
      " 9: -2.5693e+01 -2.5693e+01  8e-05  2e-16  3e-16\n",
      "10: -2.5693e+01 -2.5693e+01  2e-06  8e-16  3e-16\n",
      "Optimal solution found.\n",
      "     pcost       dcost       gap    pres   dres\n",
      " 0: -5.0463e+01 -7.5682e+01  2e+03  2e+01  3e-16\n",
      " 1: -2.8044e+01 -6.4767e+01  1e+02  9e-01  4e-16\n",
      " 2: -2.2813e+01 -3.5791e+01  1e+01  6e-16  6e-16\n",
      " 3: -2.4533e+01 -2.5535e+01  1e+00  1e-15  3e-16\n",
      " 4: -2.4640e+01 -2.5024e+01  4e-01  5e-16  2e-16\n",
      " 5: -2.4713e+01 -2.4847e+01  1e-01  3e-16  2e-16\n",
      " 6: -2.4755e+01 -2.4779e+01  2e-02  2e-16  3e-16\n",
      " 7: -2.4763e+01 -2.4768e+01  5e-03  2e-16  3e-16\n",
      " 8: -2.4765e+01 -2.4765e+01  3e-04  2e-16  3e-16\n",
      " 9: -2.4765e+01 -2.4765e+01  5e-06  4e-16  3e-16\n",
      "Optimal solution found.\n",
      "     pcost       dcost       gap    pres   dres\n",
      " 0: -5.0898e+01 -7.8626e+01  2e+03  2e+01  3e-16\n",
      " 1: -2.8356e+01 -6.7296e+01  1e+02  8e-01  4e-16\n",
      " 2: -2.3179e+01 -3.6117e+01  1e+01  1e-15  6e-16\n",
      " 3: -2.5106e+01 -2.6177e+01  1e+00  9e-16  3e-16\n",
      " 4: -2.5455e+01 -2.5707e+01  3e-01  3e-16  3e-16\n",
      " 5: -2.5481e+01 -2.5611e+01  1e-01  2e-16  2e-16\n",
      " 6: -2.5513e+01 -2.5566e+01  5e-02  2e-16  2e-16\n",
      " 7: -2.5531e+01 -2.5541e+01  1e-02  7e-16  3e-16\n",
      " 8: -2.5534e+01 -2.5536e+01  2e-03  8e-16  3e-16\n",
      " 9: -2.5535e+01 -2.5535e+01  2e-04  3e-16  3e-16\n",
      "10: -2.5535e+01 -2.5535e+01  2e-06  2e-16  3e-16\n",
      "Optimal solution found.\n",
      "     pcost       dcost       gap    pres   dres\n",
      " 0: -5.0581e+01 -7.5052e+01  1e+03  2e+01  3e-16\n",
      " 1: -2.8489e+01 -6.3598e+01  8e+01  6e-01  4e-16\n",
      " 2: -2.3851e+01 -3.3278e+01  9e+00  2e-16  6e-16\n",
      " 3: -2.5269e+01 -2.6194e+01  9e-01  2e-16  3e-16\n",
      " 4: -2.5374e+01 -2.5710e+01  3e-01  3e-16  2e-16\n",
      " 5: -2.5427e+01 -2.5579e+01  2e-01  2e-16  2e-16\n",
      " 6: -2.5468e+01 -2.5500e+01  3e-02  3e-16  3e-16\n",
      " 7: -2.5479e+01 -2.5484e+01  5e-03  2e-16  2e-16\n",
      " 8: -2.5481e+01 -2.5481e+01  4e-04  2e-16  2e-16\n",
      " 9: -2.5481e+01 -2.5481e+01  3e-05  5e-16  2e-16\n",
      "10: -2.5481e+01 -2.5481e+01  6e-07  4e-16  2e-16\n",
      "Optimal solution found.\n",
      "     pcost       dcost       gap    pres   dres\n",
      " 0: -5.5070e+01 -1.3571e+02  2e+03  1e+01  4e-16\n",
      " 1: -3.6630e+01 -1.1872e+02  9e+01  5e-02  4e-16\n",
      " 2: -3.8171e+01 -4.6003e+01  8e+00  5e-03  3e-16\n",
      " 3: -3.9771e+01 -4.1435e+01  2e+00  9e-04  2e-16\n",
      " 4: -4.0173e+01 -4.0628e+01  5e-01  1e-04  2e-16\n",
      " 5: -4.0323e+01 -4.0391e+01  7e-02  9e-06  2e-16\n",
      " 6: -4.0347e+01 -4.0361e+01  1e-02  1e-06  3e-16\n",
      " 7: -4.0353e+01 -4.0354e+01  6e-04  3e-08  2e-16\n",
      " 8: -4.0353e+01 -4.0353e+01  1e-05  5e-10  3e-16\n",
      "Optimal solution found.\n",
      "     pcost       dcost       gap    pres   dres\n",
      " 0: -5.5417e+01 -1.3797e+02  2e+03  1e+01  4e-16\n",
      " 1: -3.7234e+01 -1.2076e+02  9e+01  6e-02  4e-16\n",
      " 2: -3.8733e+01 -4.7128e+01  9e+00  6e-03  3e-16\n",
      " 3: -4.0469e+01 -4.2314e+01  2e+00  1e-03  2e-16\n",
      " 4: -4.0901e+01 -4.1396e+01  5e-01  2e-04  2e-16\n",
      " 5: -4.1055e+01 -4.1149e+01  9e-02  2e-05  2e-16\n",
      " 6: -4.1090e+01 -4.1100e+01  1e-02  1e-06  3e-16\n",
      " 7: -4.1094e+01 -4.1095e+01  5e-04  4e-08  2e-16\n",
      " 8: -4.1094e+01 -4.1094e+01  1e-05  7e-10  2e-16\n",
      "Optimal solution found.\n",
      "     pcost       dcost       gap    pres   dres\n",
      " 0: -5.3067e+01 -1.3366e+02  2e+03  1e+01  4e-16\n",
      " 1: -3.5585e+01 -1.1706e+02  1e+02  1e-01  4e-16\n",
      " 2: -3.6534e+01 -4.5713e+01  9e+00  1e-02  2e-16\n",
      " 3: -3.8088e+01 -3.9951e+01  2e+00  2e-03  2e-16\n",
      " 4: -3.8495e+01 -3.8993e+01  5e-01  3e-04  2e-16\n",
      " 5: -3.8630e+01 -3.8748e+01  1e-01  6e-05  3e-16\n",
      " 6: -3.8671e+01 -3.8685e+01  1e-02  5e-06  2e-16\n",
      " 7: -3.8677e+01 -3.8678e+01  1e-03  3e-07  2e-16\n",
      " 8: -3.8677e+01 -3.8677e+01  7e-05  5e-09  2e-16\n",
      " 9: -3.8677e+01 -3.8677e+01  2e-06  6e-11  3e-16\n",
      "Optimal solution found.\n",
      "     pcost       dcost       gap    pres   dres\n",
      " 0: -5.3510e+01 -1.3975e+02  2e+03  1e+01  4e-16\n",
      " 1: -3.6077e+01 -1.2274e+02  1e+02  8e-02  4e-16\n",
      " 2: -3.7353e+01 -4.6547e+01  9e+00  8e-03  3e-16\n",
      " 3: -3.9205e+01 -4.0953e+01  2e+00  1e-03  2e-16\n",
      " 4: -3.9651e+01 -4.0057e+01  4e-01  1e-04  2e-16\n",
      " 5: -3.9780e+01 -3.9861e+01  8e-02  1e-05  2e-16\n",
      " 6: -3.9806e+01 -3.9823e+01  2e-02  2e-06  2e-16\n",
      " 7: -3.9812e+01 -3.9814e+01  2e-03  2e-07  2e-16\n",
      " 8: -3.9813e+01 -3.9813e+01  1e-04  7e-09  2e-16\n",
      " 9: -3.9813e+01 -3.9813e+01  3e-06  1e-10  2e-16\n",
      "Optimal solution found.\n",
      "     pcost       dcost       gap    pres   dres\n",
      " 0: -5.3139e+01 -1.3171e+02  1e+03  1e+01  4e-16\n",
      " 1: -3.6375e+01 -1.1466e+02  8e+01  2e-15  4e-16\n",
      " 2: -3.8510e+01 -4.4450e+01  6e+00  2e-16  4e-16\n",
      " 3: -4.0160e+01 -4.1475e+01  1e+00  2e-16  2e-16\n",
      " 4: -4.0550e+01 -4.1014e+01  5e-01  4e-16  2e-16\n",
      " 5: -4.0727e+01 -4.0803e+01  8e-02  9e-16  2e-16\n",
      " 6: -4.0760e+01 -4.0770e+01  1e-02  6e-16  2e-16\n",
      " 7: -4.0764e+01 -4.0765e+01  1e-03  2e-16  2e-16\n",
      " 8: -4.0764e+01 -4.0764e+01  4e-05  5e-16  2e-16\n",
      "Optimal solution found.\n",
      "     pcost       dcost       gap    pres   dres\n",
      " 0: -6.1273e+01 -3.0626e+02  2e+03  4e+00  4e-16\n",
      " 1: -5.2387e+01 -2.3261e+02  2e+02  3e-15  4e-16\n",
      " 2: -5.5814e+01 -7.3268e+01  2e+01  2e-16  3e-16\n",
      " 3: -5.8075e+01 -6.1648e+01  4e+00  1e-15  2e-16\n",
      " 4: -5.8697e+01 -5.9378e+01  7e-01  2e-16  2e-16\n",
      " 5: -5.8833e+01 -5.8958e+01  1e-01  2e-15  2e-16\n",
      " 6: -5.8857e+01 -5.8876e+01  2e-02  2e-16  2e-16\n",
      " 7: -5.8861e+01 -5.8863e+01  2e-03  2e-16  2e-16\n",
      " 8: -5.8861e+01 -5.8861e+01  6e-05  3e-15  2e-16\n",
      "Optimal solution found.\n",
      "     pcost       dcost       gap    pres   dres\n",
      " 0: -6.1575e+01 -3.1267e+02  2e+03  4e+00  5e-16\n",
      " 1: -5.3124e+01 -2.3887e+02  2e+02  5e-16  4e-16\n",
      " 2: -5.6488e+01 -7.4372e+01  2e+01  2e-15  3e-16\n",
      " 3: -5.8918e+01 -6.2241e+01  3e+00  6e-16  2e-16\n",
      " 4: -5.9597e+01 -6.0139e+01  5e-01  1e-15  2e-16\n",
      " 5: -5.9700e+01 -5.9852e+01  2e-01  4e-16  2e-16\n",
      " 6: -5.9731e+01 -5.9768e+01  4e-02  3e-16  2e-16\n",
      " 7: -5.9738e+01 -5.9742e+01  3e-03  4e-16  2e-16\n",
      " 8: -5.9739e+01 -5.9739e+01  1e-04  1e-15  2e-16\n",
      " 9: -5.9739e+01 -5.9739e+01  2e-06  1e-15  2e-16\n",
      "Optimal solution found.\n",
      "     pcost       dcost       gap    pres   dres\n",
      " 0: -5.8897e+01 -3.0049e+02  2e+03  4e+00  5e-16\n",
      " 1: -5.0252e+01 -2.2692e+02  2e+02  5e-16  4e-16\n",
      " 2: -5.3455e+01 -7.1342e+01  2e+01  3e-15  3e-16\n",
      " 3: -5.5692e+01 -5.8325e+01  3e+00  1e-16  2e-16\n",
      " 4: -5.6151e+01 -5.6761e+01  6e-01  6e-16  2e-16\n",
      " 5: -5.6274e+01 -5.6373e+01  1e-01  2e-15  2e-16\n",
      " 6: -5.6295e+01 -5.6310e+01  1e-02  1e-15  2e-16\n",
      " 7: -5.6298e+01 -5.6300e+01  2e-03  2e-15  2e-16\n",
      " 8: -5.6299e+01 -5.6299e+01  1e-04  5e-15  2e-16\n",
      " 9: -5.6299e+01 -5.6299e+01  4e-06  2e-15  2e-16\n",
      "Optimal solution found.\n",
      "     pcost       dcost       gap    pres   dres\n",
      " 0: -5.9329e+01 -3.1894e+02  2e+03  4e+00  5e-16\n",
      " 1: -5.0956e+01 -2.4459e+02  2e+02  5e-16  4e-16\n",
      " 2: -5.4219e+01 -7.2719e+01  2e+01  1e-15  3e-16\n",
      " 3: -5.6567e+01 -6.0380e+01  4e+00  1e-15  2e-16\n",
      " 4: -5.7195e+01 -5.8006e+01  8e-01  2e-16  2e-16\n",
      " 5: -5.7360e+01 -5.7508e+01  1e-01  2e-15  2e-16\n",
      " 6: -5.7391e+01 -5.7414e+01  2e-02  1e-15  2e-16\n",
      " 7: -5.7396e+01 -5.7400e+01  4e-03  2e-16  2e-16\n",
      " 8: -5.7397e+01 -5.7397e+01  3e-04  5e-16  2e-16\n",
      " 9: -5.7397e+01 -5.7397e+01  2e-05  1e-15  2e-16\n",
      "Optimal solution found.\n"
     ]
    },
    {
     "name": "stdout",
     "output_type": "stream",
     "text": [
      "     pcost       dcost       gap    pres   dres\n",
      " 0: -5.8771e+01 -2.9332e+02  2e+03  4e+00  4e-16\n",
      " 1: -5.1558e+01 -2.2001e+02  2e+02  1e-15  4e-16\n",
      " 2: -5.5031e+01 -7.1343e+01  2e+01  2e-15  3e-16\n",
      " 3: -5.7438e+01 -6.0182e+01  3e+00  3e-15  2e-16\n",
      " 4: -5.7970e+01 -5.8659e+01  7e-01  1e-15  2e-16\n",
      " 5: -5.8120e+01 -5.8267e+01  1e-01  1e-15  2e-16\n",
      " 6: -5.8151e+01 -5.8172e+01  2e-02  1e-16  2e-16\n",
      " 7: -5.8156e+01 -5.8158e+01  2e-03  1e-15  2e-16\n",
      " 8: -5.8156e+01 -5.8156e+01  2e-04  2e-15  2e-16\n",
      " 9: -5.8156e+01 -5.8156e+01  3e-06  2e-16  2e-16\n",
      "Optimal solution found.\n",
      "     pcost       dcost       gap    pres   dres\n",
      " 0: -6.4890e+01 -5.6975e+02  2e+03  2e+00  6e-16\n",
      " 1: -5.9478e+01 -3.0952e+02  3e+02  4e-15  3e-16\n",
      " 2: -6.7328e+01 -9.6381e+01  3e+01  6e-15  3e-16\n",
      " 3: -6.9740e+01 -7.4199e+01  4e+00  2e-15  2e-16\n",
      " 4: -7.0250e+01 -7.1187e+01  9e-01  2e-15  2e-16\n",
      " 5: -7.0375e+01 -7.0580e+01  2e-01  1e-15  2e-16\n",
      " 6: -7.0401e+01 -7.0449e+01  5e-02  2e-15  2e-16\n",
      " 7: -7.0407e+01 -7.0419e+01  1e-02  8e-16  2e-16\n",
      " 8: -7.0409e+01 -7.0411e+01  2e-03  3e-15  2e-16\n",
      " 9: -7.0409e+01 -7.0409e+01  1e-04  8e-15  2e-16\n",
      "10: -7.0409e+01 -7.0409e+01  1e-06  6e-15  2e-16\n",
      "Optimal solution found.\n",
      "     pcost       dcost       gap    pres   dres\n",
      " 0: -6.4997e+01 -5.8626e+02  2e+03  2e+00  5e-16\n",
      " 1: -5.9760e+01 -3.2366e+02  3e+02  1e-14  3e-16\n",
      " 2: -6.7224e+01 -9.7607e+01  3e+01  4e-15  3e-16\n",
      " 3: -6.9833e+01 -7.5240e+01  5e+00  3e-15  2e-16\n",
      " 4: -7.0441e+01 -7.1644e+01  1e+00  2e-16  2e-16\n",
      " 5: -7.0617e+01 -7.0894e+01  3e-01  1e-16  2e-16\n",
      " 6: -7.0653e+01 -7.0739e+01  9e-02  3e-16  2e-16\n",
      " 7: -7.0663e+01 -7.0674e+01  1e-02  2e-15  2e-16\n",
      " 8: -7.0665e+01 -7.0665e+01  3e-04  8e-16  2e-16\n",
      " 9: -7.0665e+01 -7.0665e+01  6e-06  5e-15  2e-16\n",
      "Optimal solution found.\n",
      "     pcost       dcost       gap    pres   dres\n",
      " 0: -6.2003e+01 -5.5493e+02  2e+03  2e+00  5e-16\n",
      " 1: -5.6639e+01 -2.9663e+02  2e+02  6e-15  3e-16\n",
      " 2: -6.4723e+01 -9.5451e+01  3e+01  5e-15  3e-16\n",
      " 3: -6.7287e+01 -7.2640e+01  5e+00  3e-15  2e-16\n",
      " 4: -6.7876e+01 -6.9078e+01  1e+00  2e-15  2e-16\n",
      " 5: -6.8050e+01 -6.8277e+01  2e-01  1e-15  2e-16\n",
      " 6: -6.8081e+01 -6.8143e+01  6e-02  4e-16  2e-16\n",
      " 7: -6.8091e+01 -6.8102e+01  1e-02  4e-15  2e-16\n",
      " 8: -6.8093e+01 -6.8094e+01  1e-03  3e-15  2e-16\n",
      " 9: -6.8093e+01 -6.8093e+01  1e-04  3e-15  2e-16\n",
      "10: -6.8093e+01 -6.8093e+01  2e-06  3e-15  2e-16\n",
      "Optimal solution found.\n",
      "     pcost       dcost       gap    pres   dres\n",
      " 0: -6.2309e+01 -6.0358e+02  2e+03  2e+00  5e-16\n",
      " 1: -5.6489e+01 -3.3845e+02  3e+02  5e-15  4e-16\n",
      " 2: -6.4332e+01 -9.9857e+01  4e+01  9e-15  3e-16\n",
      " 3: -6.6905e+01 -7.3065e+01  6e+00  2e-15  2e-16\n",
      " 4: -6.7530e+01 -6.8878e+01  1e+00  2e-16  2e-16\n",
      " 5: -6.7698e+01 -6.8006e+01  3e-01  1e-15  2e-16\n",
      " 6: -6.7743e+01 -6.7800e+01  6e-02  2e-15  2e-16\n",
      " 7: -6.7751e+01 -6.7764e+01  1e-02  1e-15  2e-16\n",
      " 8: -6.7753e+01 -6.7754e+01  1e-03  4e-15  2e-16\n",
      " 9: -6.7753e+01 -6.7753e+01  5e-05  8e-16  2e-16\n",
      "Optimal solution found.\n",
      "     pcost       dcost       gap    pres   dres\n",
      " 0: -6.1356e+01 -5.3484e+02  2e+03  1e+00  5e-16\n",
      " 1: -5.7483e+01 -2.7888e+02  2e+02  2e-15  3e-16\n",
      " 2: -6.4898e+01 -8.8936e+01  2e+01  4e-15  3e-16\n",
      " 3: -6.7067e+01 -7.1259e+01  4e+00  8e-16  2e-16\n",
      " 4: -6.7552e+01 -6.8486e+01  9e-01  3e-15  2e-16\n",
      " 5: -6.7691e+01 -6.7884e+01  2e-01  3e-15  2e-16\n",
      " 6: -6.7721e+01 -6.7760e+01  4e-02  2e-16  2e-16\n",
      " 7: -6.7727e+01 -6.7730e+01  3e-03  2e-16  2e-16\n",
      " 8: -6.7728e+01 -6.7728e+01  3e-04  1e-15  2e-16\n",
      " 9: -6.7728e+01 -6.7728e+01  5e-06  3e-15  2e-16\n",
      "Optimal solution found.\n"
     ]
    }
   ],
   "source": [
    "cv = 5\n",
    "C_list = [0.01, 0.02, 0.05, 0.1, 0.2, 0.5, 1]\n",
    "acc_list = []\n",
    "\n",
    "m, n = X_train_val.shape\n",
    "cv_size = int(m/cv)\n",
    "\n",
    "idx = list(range(m))\n",
    "np.random.shuffle(idx)\n",
    "\n",
    "for C in C_list:\n",
    "    acc = 0\n",
    "    for i in range(cv):\n",
    "    \n",
    "        X_val = X_train_val[i*cv_size:(i+1)*cv_size]\n",
    "        y_val = y_train_val[i*cv_size:(i+1)*cv_size]\n",
    "        X_train = np.delete(X_train_val, np.s_[i*cv_size:(i+1)*cv_size], axis=0)\n",
    "        y_train = np.delete(y_train_val, np.s_[i*cv_size:(i+1)*cv_size], axis=0)\n",
    "\n",
    "        K = gauss_kernel(X_train)\n",
    "        alpha_star = get_alpha_star(X_train, y_train, K, C)\n",
    "        w,b = get_wb(X_train, y_train, alpha_star, K)\n",
    "        y_pred = predict(X_val, X_val, y_val, alpha_star)\n",
    "        acc += (np.sum(y_val == y_pred)/y_val.size)\n",
    "    acc_list.append(acc/cv)\n"
   ]
  },
  {
   "cell_type": "code",
   "execution_count": 99,
   "metadata": {},
   "outputs": [
    {
     "name": "stdout",
     "output_type": "stream",
     "text": [
      "[1.0, 1.0, 1.0, 1.0, 1.0, 0.9924999999999999, 0.9824999999999999]\n"
     ]
    }
   ],
   "source": [
    "print(acc_list)"
   ]
  },
  {
   "cell_type": "markdown",
   "metadata": {},
   "source": [
    "### Train dataset using slack variable from CV and predict the test dataset"
   ]
  },
  {
   "cell_type": "code",
   "execution_count": 102,
   "metadata": {
    "scrolled": false
   },
   "outputs": [
    {
     "name": "stdout",
     "output_type": "stream",
     "text": [
      "     pcost       dcost       gap    pres   dres\n",
      " 0: -7.1025e+01 -7.3795e+02  2e+03  2e+00  6e-16\n",
      " 1: -6.2709e+01 -4.0797e+02  3e+02  3e-16  4e-16\n",
      " 2: -7.4007e+01 -1.1762e+02  4e+01  9e-16  4e-16\n",
      " 3: -7.7520e+01 -8.5363e+01  8e+00  1e-15  2e-16\n",
      " 4: -7.8290e+01 -7.9904e+01  2e+00  9e-16  2e-16\n",
      " 5: -7.8513e+01 -7.8861e+01  3e-01  2e-16  2e-16\n",
      " 6: -7.8559e+01 -7.8638e+01  8e-02  1e-15  2e-16\n",
      " 7: -7.8571e+01 -7.8586e+01  2e-02  6e-15  2e-16\n",
      " 8: -7.8573e+01 -7.8575e+01  2e-03  1e-15  2e-16\n",
      " 9: -7.8573e+01 -7.8574e+01  1e-04  4e-15  2e-16\n",
      "10: -7.8573e+01 -7.8573e+01  1e-06  2e-15  2e-16\n",
      "Optimal solution found.\n",
      "1.0\n"
     ]
    }
   ],
   "source": [
    "K = gauss_kernel(X_train_val)\n",
    "alpha_star = get_alpha_star(X_train_val, y_train_val, K, C)\n",
    "w,b = get_wb(X_train_val, y_train_val, alpha_star, K)\n",
    "y_pred = predict(X_test, X_test, y_test, alpha_star)\n",
    "acc = (np.sum(y_test == y_pred)/y_test.size)\n",
    "print(acc)"
   ]
  },
  {
   "cell_type": "markdown",
   "metadata": {},
   "source": [
    "### Plot the graph"
   ]
  },
  {
   "cell_type": "code",
   "execution_count": 104,
   "metadata": {},
   "outputs": [
    {
     "data": {
      "image/png": "[encoded data removed]",
      "text/plain": [
       "<Figure size 576x576 with 1 Axes>"
      ]
     },
     "metadata": {
      "needs_background": "light"
     },
     "output_type": "display_data"
    }
   ],
   "source": [
    "res = 100\n",
    "\n",
    "x_lim = [np.floor(np.min(X_gen[:,0])), np.ceil(np.max(X_gen[:,0]))]\n",
    "y_lim = [np.floor(np.min(X_gen[:,1])), np.ceil(np.max(X_gen[:,1]))]\n",
    "x_series = np.linspace(x_lim[0], x_lim[1], res)\n",
    "y_series = np.linspace(y_lim[0], y_lim[1], res)\n",
    "\n",
    "x_mesh, y_mesh = np.meshgrid(x_series, y_series)\n",
    "\n",
    "x_mesh = x_mesh.reshape(-1, 1)\n",
    "y_mesh = y_mesh.reshape(-1, 1)\n",
    "\n",
    "mesh = np.append(x_mesh, y_mesh, axis=1)\n",
    "y_pred = predict(mesh, X_train_val, y_train_val, alpha_star)\n",
    "\n",
    "x_mesh = x_mesh.reshape(res, res)\n",
    "y_mesh = y_mesh.reshape(res, res)\n",
    "y_pred = y_pred.reshape(res, res)\n",
    "\n",
    "fig1 = plt.figure(figsize=(8,8))\n",
    "ax = plot_annulus(X_calss1, X_calss2)\n",
    "ax.pcolormesh(x_mesh, y_mesh, y_pred, cmap='viridis', shading='auto', alpha=0.1)\n",
    "plt.show()"
   ]
  }
 ],
 "metadata": {
  "kernelspec": {
   "display_name": "Python 3 (ipykernel)",
   "language": "python",
   "name": "python3"
  },
  "language_info": {
   "codemirror_mode": {
    "name": "ipython",
    "version": 3
   },
   "file_extension": ".py",
   "mimetype": "text/x-python",
   "name": "python",
   "nbconvert_exporter": "python",
   "pygments_lexer": "ipython3",
   "version": "3.8.3"
  }
 },
 "nbformat": 4,
 "nbformat_minor": 4
}
