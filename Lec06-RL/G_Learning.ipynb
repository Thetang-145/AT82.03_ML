{
 "cells": [
  {
   "cell_type": "markdown",
   "metadata": {},
   "source": [
    "# Windy gridworld"
   ]
  },
  {
   "cell_type": "code",
   "execution_count": 1,
   "metadata": {},
   "outputs": [],
   "source": [
    "import numpy as np\n"
   ]
  },
  {
   "cell_type": "markdown",
   "metadata": {},
   "source": [
    "## Create environment"
   ]
  },
  {
   "cell_type": "code",
   "execution_count": 5,
   "metadata": {},
   "outputs": [],
   "source": [
    "gamma = 1\n",
    "s_initial = [3, 0]\n",
    "s_terminal = [3, 7]\n",
    "row_env, col_env = 7, 10\n",
    "\n",
    "# Actions\n",
    "act_names = ['U', 'R', 'D', 'L']\n",
    "n_act = len(act_names)\n",
    "\n",
    "def env(s, a):\n",
    "    s_row = s[0]\n",
    "    s_col = s[1]\n",
    "\n",
    "    a_row, a_col = actions(a)\n",
    "    print('a', actions(a))\n",
    "\n",
    "    wind_1 = [3, 4, 5, 8]\n",
    "    wind_2 = [6, 7]\n",
    "\n",
    "    if s_col in wind_1:\n",
    "        wind = 1\n",
    "    elif s_col in wind_2:\n",
    "        wind = 2\n",
    "    else:\n",
    "        wind = 0\n",
    "\n",
    "\n",
    "    s_row = s_row + a_row + wind\n",
    "    s_col = s_col + a_col\n",
    "\n",
    "    s_row = min(max(s_row, 0), row_env-1)\n",
    "    s_col = min(max(s_col, 0), col_env-1)\n",
    "    \n",
    "    return [s_row, s_col]\n",
    "\n",
    "def actions(a):\n",
    "    move = [[1,0],[0,1],[-1,0],[0,-1]]\n",
    "    return move[act_names.index(a)]\n",
    "\n",
    "\n",
    "def reward(s):\n",
    "    if s == s_terminal:\n",
    "        return 0\n",
    "    else:\n",
    "        return -1"
   ]
  },
  {
   "cell_type": "markdown",
   "metadata": {},
   "source": [
    "## Define parameters"
   ]
  },
  {
   "cell_type": "code",
   "execution_count": 6,
   "metadata": {},
   "outputs": [],
   "source": [
    "eps = 0.1\n",
    "alp = 0.5\n",
    "\n",
    "# Difine Q table\n",
    "Q_table = np.zeros((row_env, col_env, n_act))"
   ]
  },
  {
   "cell_type": "code",
   "execution_count": 7,
   "metadata": {},
   "outputs": [],
   "source": [
    "def choose_act(s, eps):\n",
    "    if np.random.uniform() < eps:\n",
    "        return np.random.randint(n_act)\n",
    "    else:\n",
    "        return np.argmax(Q_table[s[0], s[1]])"
   ]
  },
  {
   "cell_type": "code",
   "execution_count": 8,
   "metadata": {},
   "outputs": [
    {
     "name": "stdout",
     "output_type": "stream",
     "text": [
      "a [0, -1]\n",
      "[3, 7]\n"
     ]
    }
   ],
   "source": [
    "from IPython.display import clear_output\n",
    "\n",
    "n_episodes = 1\n",
    "steps_list = []\n",
    "state_list = []\n",
    "\n",
    "\n",
    "for episode in range(n_episodes):\n",
    "    state_now = s_initial\n",
    "    act = choose_act(state_now, eps)\n",
    "    steps = 0\n",
    "    # state_list.append([state_now])\n",
    "    while state_now != s_terminal:\n",
    "        clear_output(wait=True)\n",
    "        state_next = env(state_now, act_names[act])\n",
    "        # print(state_now, state_next)\n",
    "        R = reward(state_next)\n",
    "        act_new = choose_act(state_next, eps)\n",
    "        # print('a', act_new)\n",
    "        Q_now = Q_table[state_now[0], state_now[1], act]\n",
    "        Q_next = Q_table[state_next[0], state_next[1], act_new]\n",
    "        Q_table[state_now[0], state_now[1], act] = Q_now + alp*(R + gamma*Q_next - Q_now)\n",
    "        state_now = state_next\n",
    "        act = act_new\n",
    "        # state_list[episode].append(state_now)\n",
    "        steps += 1\n",
    "        print(state_now)\n",
    "        # if steps> 10:\n",
    "        #     break\n",
    "    # steps_list.append(steps)\n",
    "\n",
    "# print(steps_list)\n",
    "\n"
   ]
  },
  {
   "cell_type": "code",
   "execution_count": null,
   "metadata": {},
   "outputs": [],
   "source": [
    "# print(Q_table)"
   ]
  },
  {
   "cell_type": "code",
   "execution_count": null,
   "metadata": {},
   "outputs": [],
   "source": []
  }
 ],
 "metadata": {
  "interpreter": {
   "hash": "54d292b6f3ca4ff13f504c55e6e4b729c6c0a14070d37d9d8c8aca786423add6"
  },
  "kernelspec": {
   "display_name": "Python 3.8.10 64-bit ('base': conda)",
   "language": "python",
   "name": "python3"
  },
  "language_info": {
   "codemirror_mode": {
    "name": "ipython",
    "version": 3
   },
   "file_extension": ".py",
   "mimetype": "text/x-python",
   "name": "python",
   "nbconvert_exporter": "python",
   "pygments_lexer": "ipython3",
   "version": "3.8.10"
  },
  "orig_nbformat": 4
 },
 "nbformat": 4,
 "nbformat_minor": 2
}
