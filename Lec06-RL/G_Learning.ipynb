{
 "cells": [
  {
   "cell_type": "markdown",
   "metadata": {},
   "source": [
    "# Windy gridworld"
   ]
  },
  {
   "cell_type": "code",
   "execution_count": 25,
   "metadata": {},
   "outputs": [],
   "source": [
    "import numpy as np\n"
   ]
  },
  {
   "cell_type": "markdown",
   "metadata": {},
   "source": [
    "## Create environment"
   ]
  },
  {
   "cell_type": "code",
   "execution_count": 30,
   "metadata": {},
   "outputs": [],
   "source": [
    "gamma = 1\n",
    "s_initial = [3, 0]\n",
    "s_terminal = [3, 7]\n",
    "row_env, col_env = 7, 10\n",
    "\n",
    "# Actions\n",
    "act_names = ['U', 'R', 'D', 'L']\n",
    "n_act = len(act_names)\n",
    "\n",
    "def env(s, a):\n",
    "    s_row = s[0]\n",
    "    s_col = s[1]\n",
    "\n",
    "    a_row, a_col = actions(a)\n",
    "    # print('a', actions(a))\n",
    "\n",
    "    wind_1 = [3, 4, 5, 8]\n",
    "    wind_2 = [6, 7]\n",
    "\n",
    "    if s_col in wind_1:\n",
    "        wind = 1\n",
    "    elif s_col in wind_2:\n",
    "        wind = 2\n",
    "    else:\n",
    "        wind = 0\n",
    "\n",
    "\n",
    "    s_row = s_row + a_row + wind\n",
    "    s_col = s_col + a_col\n",
    "\n",
    "    s_row = min(max(s_row, 0), row_env-1)\n",
    "    s_col = min(max(s_col, 0), col_env-1)\n",
    "    \n",
    "    return [s_row, s_col]\n",
    "\n",
    "def actions(a):\n",
    "    move = [[1,0],[0,1],[-1,0],[0,-1]]\n",
    "    return move[a]\n",
    "\n",
    "def reward(s):\n",
    "    if s == s_terminal:\n",
    "        return 0\n",
    "    else:\n",
    "        return -1"
   ]
  },
  {
   "cell_type": "markdown",
   "metadata": {},
   "source": [
    "## Define parameters"
   ]
  },
  {
   "cell_type": "code",
   "execution_count": 31,
   "metadata": {},
   "outputs": [],
   "source": [
    "eps = 0.1\n",
    "alp = 0.5"
   ]
  },
  {
   "cell_type": "code",
   "execution_count": 32,
   "metadata": {},
   "outputs": [],
   "source": [
    "def choose_act(s, eps):\n",
    "    if np.random.uniform() < eps:\n",
    "        return np.random.randint(n_act)\n",
    "    else:\n",
    "        return np.argmax(Q_table[s[0], s[1]])"
   ]
  },
  {
   "cell_type": "code",
   "execution_count": 39,
   "metadata": {},
   "outputs": [],
   "source": [
    "from IPython.display import clear_output\n",
    "\n",
    "n_episodes = 200\n",
    "steps_list = [0]#\n",
    "steps = 0\n",
    "\n",
    "# Difine Q table\n",
    "Q_table = np.zeros((row_env, col_env, n_act))\n",
    "\n",
    "for episode in range(n_episodes):\n",
    "    s = s_initial\n",
    "    a = choose_act(s, eps)\n",
    "    # steps = 0\n",
    "    while s != s_terminal:\n",
    "        # clear_output(wait=True)\n",
    "        s_next = env(s, a)\n",
    "        R = reward(s_next)\n",
    "        a_next = choose_act(s_next, eps)\n",
    "        Q = Q_table[s[0], s[1], a]\n",
    "        Q_next = Q_table[s_next[0], s_next[1], a_next]\n",
    "        Q_table[s[0], s[1], a] = Q + alp*(R + gamma*Q_next - Q)\n",
    "        s = s_next\n",
    "        a = a_next\n",
    "        steps += 1\n",
    "        # print(state_now)\n",
    "    steps_list.append(steps)\n",
    "\n",
    "# print(steps_list)\n",
    "\n"
   ]
  },
  {
   "cell_type": "code",
   "execution_count": 40,
   "metadata": {},
   "outputs": [
    {
     "data": {
      "image/png": "[encoded data removed]",
      "text/plain": [
       "<Figure size 1008x288 with 2 Axes>"
      ]
     },
     "metadata": {
      "needs_background": "light"
     },
     "output_type": "display_data"
    }
   ],
   "source": [
    "import matplotlib.pyplot as plt\n",
    "\n",
    "plt.figure(figsize=(14, 4))\n",
    "plt.subplot(1, 2, 1)\n",
    "plt.plot(steps_list, range(n_episodes+1), 'r-')\n",
    "plt.xlabel('Time steps')\n",
    "plt.ylabel('Episodes')\n",
    "plt.ylim(0, 170)\n",
    "plt.title('SARSA for Windy Gridworld')\n",
    "ax = plt.subplot(1, 2, 2)\n",
    "plt.xlim(0, 10)\n",
    "plt.ylim(0, 7)\n",
    "plt.xticks(np.arange(0, 10, 1))\n",
    "plt.yticks(np.arange(0, 7, 1))\n",
    "ax.axes.get_xaxis().set_ticklabels([])\n",
    "ax.axes.get_yaxis().set_ticklabels([])\n",
    "plt.grid()\n",
    "\n",
    "for srow in range(7):\n",
    "    for scol in range(10):\n",
    "        s = (srow, scol)\n",
    "        a = np.argmax(Q_table[s])\n",
    "        plt.text(scol+0.4, srow+0.35, act_names[a])\n",
    "        if scol==6 and srow==3:\n",
    "            plt.scatter(scol+0.5, srow+0.5, s=200, marker='o')\n",
    "plt.title('Policy according to $Q$')\n",
    "plt.show()"
   ]
  },
  {
   "cell_type": "code",
   "execution_count": null,
   "metadata": {},
   "outputs": [],
   "source": []
  }
 ],
 "metadata": {
  "interpreter": {
   "hash": "54d292b6f3ca4ff13f504c55e6e4b729c6c0a14070d37d9d8c8aca786423add6"
  },
  "kernelspec": {
   "display_name": "Python 3.8.10 64-bit ('base': conda)",
   "language": "python",
   "name": "python3"
  },
  "language_info": {
   "codemirror_mode": {
    "name": "ipython",
    "version": 3
   },
   "file_extension": ".py",
   "mimetype": "text/x-python",
   "name": "python",
   "nbconvert_exporter": "python",
   "pygments_lexer": "ipython3",
   "version": "3.8.10"
  },
  "orig_nbformat": 4
 },
 "nbformat": 4,
 "nbformat_minor": 2
}
